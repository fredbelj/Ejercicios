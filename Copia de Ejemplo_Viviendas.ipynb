{
 "cells": [
  {
   "cell_type": "markdown",
   "metadata": {
    "id": "7v6_gYDAynRF"
   },
   "source": [
    "# Universidad Central\n",
    "\n",
    "\n",
    "##  Curso Transformación Digital a través de la Inteligencia Artificial"
   ]
  },
  {
   "cell_type": "markdown",
   "metadata": {
    "id": "tnSIXjSifbpF"
   },
   "source": [
    "# Imágen"
   ]
  },
  {
   "cell_type": "code",
   "execution_count": 1,
   "metadata": {
    "executionInfo": {
     "elapsed": 17,
     "status": "ok",
     "timestamp": 1744137010364,
     "user": {
      "displayName": "FREDDY EDUARDO BELMONTE JIMENEZ",
      "userId": "00976306916371609228"
     },
     "user_tz": 300
    },
    "id": "VjbUKP-Eea1v"
   },
   "outputs": [],
   "source": [
    "# Cargar y mostrar imagen\n",
    "# from google.colab import drive\n",
    "# import matplotlib.pyplot as plt\n",
    "# import matplotlib.image as mpimg  # ¡Esta línea faltaba!\n",
    "# drive.mount('/content/drive')\n",
    "# img_path = '/content/drive/MyDrive/Curso IA/uc.jpg'\n",
    "# img= mpimg.imread(img_path)\n",
    "# # img = mpimg.imread(img_path)\n",
    "# plt.imshow(img)\n",
    "# plt.axis('off')  # Oculta los ejes\n",
    "# plt.show()"
   ]
  },
  {
   "cell_type": "code",
   "execution_count": 2,
   "metadata": {
    "colab": {
     "base_uri": "https://localhost:8080/"
    },
    "executionInfo": {
     "elapsed": 26155,
     "status": "ok",
     "timestamp": 1744137036522,
     "user": {
      "displayName": "FREDDY EDUARDO BELMONTE JIMENEZ",
      "userId": "00976306916371609228"
     },
     "user_tz": 300
    },
    "id": "qCk9CWyHB2Pr",
    "outputId": "50ba6417-18cd-425c-cd3a-b8cba06cade4"
   },
   "outputs": [
    {
     "name": "stdout",
     "output_type": "stream",
     "text": [
      "Mounted at /content/drive\n"
     ]
    }
   ],
   "source": [
    "from google.colab import drive\n",
    "drive.mount('/content/drive')"
   ]
  },
  {
   "cell_type": "markdown",
   "metadata": {
    "id": "RN6Tvp51Y-pt"
   },
   "source": [
    "\n",
    "###      Importar librerías\n",
    "\n"
   ]
  },
  {
   "cell_type": "code",
   "execution_count": null,
   "metadata": {
    "id": "uNjVM3-CYDpk"
   },
   "outputs": [],
   "source": [
    "#Importación de librerías\n",
    "import pandas as pd  #Manipulación y análisis de datos estructurados (similar a Excel en Python).\n",
    "import matplotlib.pyplot as plt # Gráficos de barras, dispersión,...\n",
    "import seaborn as sns # Visualización estadística\n",
    "import matplotlib.ticker as ticker\n",
    "from google.colab import drive #: Integración con Google Drive"
   ]
  },
  {
   "cell_type": "markdown",
   "metadata": {},
   "source": [
    "Este conjunto de datos contiene precios de viviendas en Nueva York y proporciona información valiosa sobre el mercado inmobiliario de la región. Incluye información como títulos de propiedad, tipos de vivienda, precios, número de dormitorios y baños, superficie de la propiedad, direcciones, estado, áreas administrativas y locales, nombres de calles y coordenadas geográficas.\n",
    "\n",
    "**https://www.kaggle.com/datasets/nelgiriyewithana/new-york-housing-market**\n",
    "\n",
    "#  Paleta de colores de latex\n",
    "**https://latexcolor.com/**\n"
   ]
  },
  {
   "cell_type": "markdown",
   "metadata": {
    "id": "WxX2KmaEzl3U"
   },
   "source": [
    "###  Lectura de los datos"
   ]
  },
  {
   "cell_type": "code",
   "execution_count": null,
   "metadata": {
    "id": "xi7Hs_9F5Y_N"
   },
   "outputs": [],
   "source": [
    "# Acceder a google Drive desde Colab\n",
    "\n",
    "drive.mount('/content/drive')\n",
    "\n",
    "# Cargar el conjunto de datos\n",
    "archivo = \"/content/drive/MyDrive/NY-House-Dataset.csv\"  # Cambiar esta ruta si el archivo está en otro directorio\n",
    "df = pd.read_csv(archivo)"
   ]
  },
  {
   "cell_type": "code",
   "execution_count": null,
   "metadata": {
    "id": "aCtVPLt-B_8C"
   },
   "outputs": [],
   "source": [
    "df.info()"
   ]
  },
  {
   "cell_type": "markdown",
   "metadata": {
    "id": "vupD5vsxzqw5"
   },
   "source": [
    "##  Conjunto de datos\n",
    "\n",
    "Este conjunto de datos contiene precios de viviendas en Nueva York y proporciona información valiosa sobre el mercado inmobiliario de la región. Incluye información como títulos de propiedad, tipos de vivienda, precios, número de dormitorios y baños, superficie de la propiedad, direcciones, estado, áreas administrativas y locales, nombres de calles y coordenadas geográficas.\n",
    "\n",
    "**https://www.kaggle.com/datasets/nelgiriyewithana/new-york-housing-market**\n",
    "\n",
    "-----------------------------------------------------"
   ]
  },
  {
   "cell_type": "markdown",
   "metadata": {
    "id": "9HGHiM2p5GxW"
   },
   "source": [
    "##  Variables\n",
    "\n",
    "+ **BROKERTITLE**:  Cargo del corredor\n",
    "\n",
    "+ **TYPE**: Tipo de casa\n",
    "\n",
    "+ **PRICE**: Precio de la casa\n",
    "\n",
    "+ **BEDS**:  Número de dormitorios\n",
    "\n",
    "+ **BATH**: : Número de baños\n",
    "\n",
    "+ **PROPERTYSQFT**: Superficie de la propiedad\n",
    "\n",
    "+ **ADDRESS**: Dirección  de la casa\n",
    "\n",
    "+ **STATE**: Estado de la casa\n",
    "\n",
    "+ **MAIN_ADDRESS**: Información de la dirección principal\n",
    "\n",
    "+ **ADMINISTRATIVE_AREA_LEVEL_2**: Información del área administrativa nivel 2\n",
    "\n",
    "+ **LOCALITY**: Información de la localidad\n",
    "\n",
    "+ **SUBLOCALITY**: Información de la sublocalidad\n",
    "\n",
    "+ **STREET_NAME**: Nombre de la calle\n",
    "\n",
    "+ **LONG_NAME**: Nombre largo\n",
    "\n",
    "+ **FORMATTED_ADDRESS**: Dirección formateada\n",
    "\n",
    "+ **LATITUDE**: Coordenada de latitud de la casa\n",
    "\n",
    "+ **LONGITUDE**: Coordenada de longitud de la casa\n",
    "\n",
    "\n",
    "------------------------------\n",
    "\n"
   ]
  },
  {
   "cell_type": "code",
   "execution_count": null,
   "metadata": {
    "id": "JeZl7fY-6jne"
   },
   "outputs": [],
   "source": [
    "#Ver los 5 primeros registros del conjunto de datos\n",
    "df.head(5)"
   ]
  },
  {
   "cell_type": "markdown",
   "metadata": {
    "id": "8BpKFsKJwAiA"
   },
   "source": [
    "#  Identificación de la Tipología de Variables y Valores Faltantes"
   ]
  },
  {
   "cell_type": "code",
   "execution_count": null,
   "metadata": {
    "id": "u57WeTouYnVx"
   },
   "outputs": [],
   "source": [
    "\n",
    "data_types = df.dtypes\n",
    "missing_values = df.isnull().sum()\n",
    "duplicates = df.duplicated().sum()\n",
    "\n",
    "summary = pd.DataFrame({\n",
    "    \"Data Type\": data_types,\n",
    "    \"Missing Values\": missing_values\n",
    "}).sort_values(by=\"Missing Values\", ascending=False)\n",
    "\n",
    "print(\"Duplicated Rows:\", duplicates)\n",
    "print(summary)\n",
    "\n"
   ]
  },
  {
   "cell_type": "markdown",
   "metadata": {
    "id": "-D260PW086yi"
   },
   "source": [
    "# **Análisis descriptivo**\n",
    "\n",
    "\n",
    "+  Informe general de los datos\n",
    "\n"
   ]
  },
  {
   "cell_type": "code",
   "execution_count": null,
   "metadata": {
    "id": "xQHQgrlu0pbh"
   },
   "outputs": [],
   "source": [
    "print(\"\\nInformación del dataset:\")\n",
    "print(df.info())\n",
    "df.shape"
   ]
  },
  {
   "cell_type": "markdown",
   "metadata": {
    "id": "U0ccA_lo130D"
   },
   "source": [
    "## Estadísticas descriptivas"
   ]
  },
  {
   "cell_type": "code",
   "execution_count": null,
   "metadata": {
    "id": "x2aQ_Xl11qhv"
   },
   "outputs": [],
   "source": [
    "print(\"\\nEstadísticas descriptivas:\")\n",
    "print(round(df.describe()),5)"
   ]
  },
  {
   "cell_type": "markdown",
   "metadata": {
    "id": "aW-9Shgwq_bA"
   },
   "source": [
    "+ media del área\n",
    "\n",
    "$$\\bar{x} = \\dfrac{\\sum_{i=1}^{n} x_i}{n} = 2184$$\n"
   ]
  },
  {
   "cell_type": "markdown",
   "metadata": {
    "id": "QmcLQaoj1gRl"
   },
   "source": [
    "#  Medidas de Tendencia Central, asimetría y curtosis"
   ]
  },
  {
   "cell_type": "code",
   "execution_count": null,
   "metadata": {
    "id": "kr86ij_Ty2kv"
   },
   "outputs": [],
   "source": [
    "\n",
    "numerical_columns = df.select_dtypes(include=[\"float64\", \"int64\"]).columns\n",
    "statistics = df[numerical_columns].agg(['mean', 'median', 'std', 'var', 'min', 'max', 'skew', 'kurt']).transpose()\n",
    "statistics.rename(columns={\n",
    "    \"mean\": \"Mean\",\n",
    "    \"median\": \"Median\",\n",
    "    \"std\": \"Standard Deviation\",\n",
    "    \"var\": \"Variance\",\n",
    "    \"min\": \"Minimum\",\n",
    "    \"max\": \"Maximum\",\n",
    "    \"skew\": \"Skewness\",\n",
    "    \"kurt\": \"Kurtosis\"\n",
    "}, inplace=True)\n",
    "\n",
    "print(\"\\nMedidas de tendencia central y dispersión:\\n\", statistics)\n",
    "\n"
   ]
  },
  {
   "cell_type": "markdown",
   "metadata": {
    "id": "kAwVFiKGucvk"
   },
   "source": [
    "+ Medidas de tendencia central: media, mediana\n",
    "\n",
    "+ Medida de dispersión: varianza, desviación estandar\n",
    "\n",
    "$$\n",
    "s^2 = \\frac{\\sum_{i=1}^n (x_i - \\bar{x})^2}{n-1}\n",
    "$$\n",
    "\n",
    "$$\n",
    "s = \\sqrt{\\frac{\\sum_{i=1}^n (x_i - \\bar{x})^2}{n-1}}\n",
    "$$"
   ]
  },
  {
   "cell_type": "markdown",
   "metadata": {
    "id": "vT0Gyz7lYJ39"
   },
   "source": [
    "#  Análisis Gráfico Univariado y Bivariado"
   ]
  },
  {
   "cell_type": "code",
   "execution_count": null,
   "metadata": {
    "id": "jLbHvoau2_xC"
   },
   "outputs": [],
   "source": [
    "# Análisis de precios\n",
    "plt.figure(figsize=(12, 6))\n",
    "sns.histplot(df['PRICE'], bins=50, kde=True, color=\"#99BADD\")\n",
    "plt.title('Distribución de Precios de Propiedades')\n",
    "plt.xlabel('Precio (USD)')\n",
    "plt.ylabel('Frecuencia')\n",
    "plt.xscale('log')  # Usar escala logarítmica por la amplia dispersión de precios\n",
    "plt.show()"
   ]
  },
  {
   "cell_type": "code",
   "execution_count": null,
   "metadata": {
    "id": "z-0DDHrTw4hn"
   },
   "outputs": [],
   "source": [
    "plt.figure(figsize=(12, 6))\n",
    "\n",
    "# Convertir a millones y crear el histograma\n",
    "sns.histplot(df['PRICE']/100000, bins=50, kde=True, color='tomato')\n",
    "\n",
    "# Configurar el formato de los millones en el eje X\n",
    "def millones_formatter(x, pos):\n",
    "    return f'${x:.1f}M'\n",
    "\n",
    "plt.gca().xaxis.set_major_formatter(ticker.FuncFormatter(millones_formatter))\n",
    "\n",
    "# Personalización avanzada\n",
    "plt.title('Distribución de Precios de Propiedades (en millones de USD)',\n",
    "          fontsize=14, pad=20, fontweight='bold')\n",
    "plt.xlabel('Precio (Millones de USD)', fontsize=12)\n",
    "plt.ylabel('Frecuencia', fontsize=12)\n",
    "plt.grid(True, linestyle='--', alpha=0.3)\n",
    "\n",
    "# Ajustar los límites si hay valores extremos\n",
    "plt.xlim(left=0)  # Comenzar desde 0\n",
    "\n",
    "# Mostrar el gráfico\n",
    "plt.tight_layout()\n",
    "plt.show()"
   ]
  },
  {
   "cell_type": "markdown",
   "metadata": {
    "id": "T5FWQnYR3u6v"
   },
   "source": [
    "# Top 5 de propiedades más caras"
   ]
  },
  {
   "cell_type": "code",
   "execution_count": null,
   "metadata": {
    "id": "3DwggeA83OgC"
   },
   "outputs": [],
   "source": [
    "# Top 5 propiedades más caras\n",
    "top_5_expensive = df.nlargest(5, 'PRICE')[['ADDRESS', 'PRICE', 'TYPE', 'BEDS', 'BATH']]\n",
    "print(\"\\nTop 5 propiedades más caras:\")\n",
    "print(top_5_expensive)"
   ]
  },
  {
   "cell_type": "markdown",
   "metadata": {
    "id": "FEJM44Z74iAW"
   },
   "source": [
    "# Análisis por tipo de propiedad"
   ]
  },
  {
   "cell_type": "code",
   "execution_count": null,
   "metadata": {
    "id": "VzCKQ2NK4JL3"
   },
   "outputs": [],
   "source": [
    "# Análisis por tipo de propiedad\n",
    "plt.figure(figsize=(12, 6))\n",
    "sns.countplot(data=df, y='TYPE', order=df['TYPE'].value_counts().index,color='#00FFFF')\n",
    "plt.title('Distribución por Tipo de Propiedad')\n",
    "plt.xlabel('Cantidad')\n",
    "plt.ylabel('Tipo de Propiedad')\n",
    "plt.show()"
   ]
  },
  {
   "cell_type": "markdown",
   "metadata": {
    "id": "anVxSr2N4pLt"
   },
   "source": [
    "# Precio promedio por tipo de propiedad"
   ]
  },
  {
   "cell_type": "code",
   "execution_count": null,
   "metadata": {
    "id": "w1yLflvU4V29"
   },
   "outputs": [],
   "source": [
    "# Precio promedio por tipo de propiedad\n",
    "plt.figure(figsize=(12, 6))\n",
    "sns.barplot(data=df, x='TYPE', y='PRICE', estimator='mean',color=\"#66FF00\")\n",
    "plt.title('Precio Promedio por Tipo de Propiedad')\n",
    "plt.xlabel('Tipo de Propiedad')\n",
    "plt.ylabel('Precio Promedio (USD)')\n",
    "plt.xticks(rotation=45)\n",
    "plt.show()"
   ]
  },
  {
   "cell_type": "markdown",
   "metadata": {
    "id": "wRGCC1gwywPl"
   },
   "source": [
    "# Relación entre tamaño y precio"
   ]
  },
  {
   "cell_type": "code",
   "execution_count": null,
   "metadata": {
    "id": "yZ0dHFto5Ox-"
   },
   "outputs": [],
   "source": [
    "# Relación entre tamaño y precio\n",
    "plt.figure(figsize=(12, 6))\n",
    "sns.scatterplot(data=df, x='PROPERTYSQFT', y='PRICE', hue='TYPE')\n",
    "plt.title('Relación entre Tamaño y Precio')\n",
    "plt.xlabel('Tamaño (sqft)')\n",
    "plt.ylabel('Precio (USD)')\n",
    "plt.yscale('log')\n",
    "plt.show()"
   ]
  },
  {
   "cell_type": "code",
   "execution_count": null,
   "metadata": {
    "id": "oxWnY_Jp5bBk"
   },
   "outputs": [],
   "source": [
    "# Distribución de habitaciones y baños\n",
    "fig, axes = plt.subplots(1, 2, figsize=(15, 5))\n",
    "sns.countplot(data=df, x='BEDS', ax=axes[0], color=\"#BD33A4\")\n",
    "axes[0].set_title('Distribución de Habitaciones')\n",
    "sns.countplot(data=df, x='BATH', ax=axes[1], color=\"#FF0038\")\n",
    "axes[1].set_title('Distribución de Baños')\n",
    "plt.show()"
   ]
  },
  {
   "cell_type": "code",
   "execution_count": null,
   "metadata": {
    "id": "hl-1p0cVzjGu"
   },
   "outputs": [],
   "source": [
    "\n",
    "sns.set(style=\"whitegrid\")\n",
    "\n",
    "# Distribuciones de variables numéricas\n",
    "for col in numerical_columns:\n",
    "    plt.figure(figsize=(10, 6))\n",
    "    sns.histplot(df[col], kde=True, bins=30)\n",
    "    plt.title(f'Distribución de {col}', fontsize=14)\n",
    "    plt.xlabel(col)\n",
    "    plt.ylabel('Frecuencia')\n",
    "    plt.show()\n",
    "\n"
   ]
  },
  {
   "cell_type": "code",
   "execution_count": null,
   "metadata": {
    "id": "u4kI_h07_9rX"
   },
   "outputs": [],
   "source": [
    "# Relación con el precio\n",
    "for col in numerical_columns:\n",
    "    if col != 'PRICE':\n",
    "        plt.figure(figsize=(10, 6))\n",
    "        sns.scatterplot(data=df, x=col, y='PRICE')\n",
    "        plt.title(f'Relación entre {col} y Precio', fontsize=14)\n",
    "        plt.xlabel(col)\n",
    "        plt.ylabel('Precio')\n",
    "        plt.show()"
   ]
  },
  {
   "cell_type": "markdown",
   "metadata": {
    "id": "0gacrRwxAT2P"
   },
   "source": [
    "#   Análisis de Correlación\n",
    "\n",
    "\n",
    "El coeficiente de correlación (Pearson) mide la relación lineal entre dos variables\n",
    "\n",
    "+   $-1 \\leq r_{x,y}  \\leq 1$\n",
    "\n",
    "+   $r_{x,x}=1$\n",
    "\n",
    "+   $r_{x,y}=r_{y,x}$\n",
    "\n",
    "+   a-dimensional\n",
    "\n",
    "+  Se interpreta el signo:\n",
    "\n",
    "   + positivo: indica relación directa\n",
    "\n",
    "   + negativo: indica relación inversa\n",
    "\n",
    "\n",
    "+  Se interpreta la fuerza de la relación:\n",
    "\n",
    "   + Cerca del cero: debil\n",
    "\n",
    "   + Cerca a 1 o a -1 : fuerte   "
   ]
  },
  {
   "cell_type": "code",
   "execution_count": null,
   "metadata": {
    "id": "b1fnL9570A1e"
   },
   "outputs": [],
   "source": [
    "\n",
    "correlation_matrix = df[numerical_columns].corr()\n",
    "plt.figure(figsize=(10, 8))\n",
    "sns.heatmap(correlation_matrix, annot=True, cmap=\"coolwarm\", fmt=\".2f\", linewidths=0.5)\n",
    "plt.title(\"Matriz de Correlación entre Variables Numéricas\", fontsize=14)\n",
    "plt.show()\n",
    "\n"
   ]
  },
  {
   "cell_type": "markdown",
   "metadata": {
    "id": "yfevRcWqAuNB"
   },
   "source": [
    "#  Tratamiento de Valores Atípicos"
   ]
  },
  {
   "cell_type": "code",
   "execution_count": null,
   "metadata": {
    "id": "Kbr7IxjS0z9c"
   },
   "outputs": [],
   "source": [
    "\n",
    "#valores atípicos\n",
    "def remove_outliers(df, column):\n",
    "    Q1 = df[column].quantile(0.25)\n",
    "    Q3 = df[column].quantile(0.75)\n",
    "    IQR = Q3 - Q1\n",
    "    lower_bound = Q1 - 1.5 * IQR\n",
    "    upper_bound = Q3 + 1.5 * IQR\n",
    "    return df[(df[column] >= lower_bound) & (df[column] <= upper_bound)]\n",
    "\n",
    "# Inicializar df_cleaned con una copia de df antes de usarlo\n",
    "df_cleaned = df.copy()  # Crear una copia para no modificar el DataFrame original\n",
    "\n",
    "df_cleaned = remove_outliers(df_cleaned, 'PRICE')\n",
    "df_cleaned = remove_outliers(df_cleaned, 'PROPERTYSQFT')\n",
    "df_cleaned = remove_outliers(df_cleaned, 'BEDS')\n",
    "df_cleaned = remove_outliers(df_cleaned, 'BATH')\n",
    "\n",
    "\n",
    "\n",
    "\n",
    "# Visualización antes y después para PRICE\n",
    "plt.figure(figsize=(12, 6))\n",
    "plt.subplot(1, 2, 1)\n",
    "sns.boxplot(x=df['PRICE'])\n",
    "plt.title('Precio - Antes de remover atípicos')\n",
    "\n",
    "plt.subplot(1, 2, 2)\n",
    "sns.boxplot(x=df_cleaned['PRICE'])\n",
    "plt.title('Precio - Después de remover atípicos')\n",
    "plt.show()\n",
    "\n",
    "df_clean = df.drop_duplicates()\n",
    "df_clean = df_clean[(df_clean['PRICE'] < 1e8) & (df_clean['BATH'] <= 10)]"
   ]
  },
  {
   "cell_type": "code",
   "execution_count": null,
   "metadata": {
    "id": "qT-7VSPu0V88"
   },
   "outputs": [],
   "source": [
    "\n",
    "\n",
    "# Visualización antes y después para PROPERTYSQFT\n",
    "plt.figure(figsize=(12, 6))\n",
    "plt.subplot(1, 2, 1)\n",
    "sns.boxplot(x=df['PROPERTYSQFT'])\n",
    "plt.title('Tamaño de propiedad - Antes de remover atípicos')\n",
    "\n",
    "plt.subplot(1, 2, 2)\n",
    "sns.boxplot(x=df_cleaned['PROPERTYSQFT'])\n",
    "plt.title('Tamaño de propiedad - Después de remover atípicos')\n",
    "plt.show()\n",
    "\n"
   ]
  },
  {
   "cell_type": "code",
   "execution_count": null,
   "metadata": {
    "id": "6L1V93SJslQz"
   },
   "outputs": [],
   "source": [
    "# Visualización antes y después para BEDS\n",
    "plt.figure(figsize=(12, 6))\n",
    "plt.subplot(1, 2, 1)\n",
    "sns.boxplot(x=df['BEDS'], color=\"violet\")\n",
    "plt.title('Número de dormitorios- Antes de remover atípicos')\n",
    "\n",
    "plt.subplot(1, 2, 2)\n",
    "sns.boxplot(x=df_cleaned['BEDS'], color=\"orange\")\n",
    "plt.title('Número de dormitorios- Después de remover atípicos')\n",
    "plt.show()"
   ]
  },
  {
   "cell_type": "code",
   "execution_count": null,
   "metadata": {
    "colab": {
     "background_save": true
    },
    "id": "0_Gno3u-tnbI"
   },
   "outputs": [
    {
     "data": {
      "image/png": "[encoded data removed]",
      "text/plain": [
       "<Figure size 1200x600 with 2 Axes>"
      ]
     },
     "metadata": {},
     "output_type": "display_data"
    }
   ],
   "source": [
    "# Visualización antes y después para BEDS\n",
    "plt.figure(figsize=(12, 6))\n",
    "plt.subplot(1, 2, 1)\n",
    "sns.boxplot(x=df['BATH'], color=\"tomato\")\n",
    "plt.title('Número de baños- Antes de remover atípicos')\n",
    "\n",
    "plt.subplot(1, 2, 2)\n",
    "sns.boxplot(x=df_cleaned['BATH'], color=\"green\")\n",
    "plt.title('Número de baños- Después de remover atípicos')\n",
    "plt.show()"
   ]
  },
  {
   "cell_type": "markdown",
   "metadata": {
    "id": "bWyBYRSeA4o5"
   },
   "source": [
    "# Codificación de Variables Categóricas\n",
    "\n",
    "Colocarle números a un variable cualitativa\n",
    "\n",
    "ej Bueno, regulra y malo\n",
    "1ro crear vriables Dummy\n",
    "2do quitar una\n",
    "ej =\n",
    "{1 bueno O no\n"
   ]
  },
  {
   "cell_type": "code",
   "execution_count": null,
   "metadata": {
    "colab": {
     "background_save": true
    },
    "id": "sOqjyuv407K1"
   },
   "outputs": [
    {
     "name": "stdout",
     "output_type": "stream",
     "text": [
      "                                     BROKERTITLE   PRICE  BEDS  BATH  \\\n",
      "0    Brokered by Douglas Elliman  -111 Fifth Ave  315000     2   2.0   \n",
      "2                         Brokered by Sowae Corp  260000     4   2.0   \n",
      "3                            Brokered by COMPASS   69000     3   1.0   \n",
      "6  Brokered by Douglas Elliman - 575 Madison Ave  899500     2   2.0   \n",
      "\n",
      "   PROPERTYSQFT                  ADDRESS  \\\n",
      "0   1400.000000     2 E 55th St Unit 803   \n",
      "2   2015.000000         620 Sinclair Ave   \n",
      "3    445.000000  2 E 55th St Unit 908W33   \n",
      "6   2184.207862   157 W 126th St Unit 1B   \n",
      "\n",
      "                                 MAIN_ADDRESS ADMINISTRATIVE_AREA_LEVEL_2  \\\n",
      "0      2 E 55th St Unit 803New York, NY 10022             New York County   \n",
      "2     620 Sinclair AveStaten Island, NY 10312               United States   \n",
      "3  2 E 55th St Unit 908W33Manhattan, NY 10022               United States   \n",
      "6    157 W 126th St Unit 1BNew York, NY 10027                    New York   \n",
      "\n",
      "          LOCALITY       STREET_NAME  ... SUBLOCALITY_New York  \\\n",
      "0         New York  East 55th Street  ...                False   \n",
      "2         New York     Staten Island  ...                False   \n",
      "3         New York          New York  ...                False   \n",
      "6  New York County         Manhattan  ...                 True   \n",
      "\n",
      "  SUBLOCALITY_New York County  SUBLOCALITY_Queens  SUBLOCALITY_Queens County  \\\n",
      "0                       False               False                      False   \n",
      "2                       False               False                      False   \n",
      "3                        True               False                      False   \n",
      "6                       False               False                      False   \n",
      "\n",
      "   SUBLOCALITY_Rego Park  SUBLOCALITY_Richmond County  SUBLOCALITY_Riverdale  \\\n",
      "0                  False                        False                  False   \n",
      "2                  False                         True                  False   \n",
      "3                  False                        False                  False   \n",
      "6                  False                        False                  False   \n",
      "\n",
      "   SUBLOCALITY_Snyder Avenue  SUBLOCALITY_Staten Island  SUBLOCALITY_The Bronx  \n",
      "0                      False                      False                  False  \n",
      "2                      False                      False                  False  \n",
      "3                      False                      False                  False  \n",
      "6                      False                      False                  False  \n",
      "\n",
      "[4 rows x 338 columns]\n"
     ]
    }
   ],
   "source": [
    "\n",
    "categorical_columns = ['TYPE', 'STATE', 'SUBLOCALITY']\n",
    "df_encoded = pd.get_dummies(df_cleaned, columns=categorical_columns, drop_first=True)\n",
    "\n",
    "# Mostrar las primeras filas codificadas\n",
    "print(df_encoded.head(4))\n",
    "\n"
   ]
  },
  {
   "cell_type": "markdown",
   "metadata": {
    "id": "qgPUBFXxBWay"
   },
   "source": [
    "#  Ingeniería de Características"
   ]
  },
  {
   "cell_type": "code",
   "execution_count": null,
   "metadata": {
    "colab": {
     "background_save": true
    },
    "id": "VFyFvWHy1LSH"
   },
   "outputs": [
    {
     "name": "stdout",
     "output_type": "stream",
     "text": [
      "    PRICE  PROPERTYSQFT  PRICE_PER_SQFT  BATHS_PER_BED  BEDS_PER_SQFT\n",
      "0  315000   1400.000000      225.000000       1.000000       0.001429\n",
      "2  260000   2015.000000      129.032258       0.500000       0.001985\n",
      "3   69000    445.000000      155.056180       0.333333       0.006742\n",
      "6  899500   2184.207862      411.819779       1.000000       0.000916\n",
      "8  265000    750.000000      353.333333       1.000000       0.001333\n"
     ]
    }
   ],
   "source": [
    "#  7. Ingeniería de Características\n",
    "df_encoded['PRICE_PER_SQFT'] = df_encoded['PRICE'] / df_encoded['PROPERTYSQFT']\n",
    "df_encoded['BATHS_PER_BED'] = df_encoded['BATH'] / df_encoded['BEDS']\n",
    "df_encoded['BEDS_PER_SQFT'] = df_encoded['BEDS'] / df_encoded['PROPERTYSQFT']\n",
    "\n",
    "# Visualización de las nuevas variables\n",
    "print(df_encoded[['PRICE', 'PROPERTYSQFT', 'PRICE_PER_SQFT', 'BATHS_PER_BED', 'BEDS_PER_SQFT']].head())"
   ]
  },
  {
   "cell_type": "markdown",
   "metadata": {
    "id": "rbgIUf6DBeIA"
   },
   "source": [
    "# Modelos de regresión\n",
    "\n",
    "+  **Regresión:**\n",
    "\n",
    "$$y=f(x_1, x_2, \\dots ,x_p)+ \\varepsilon$$\n",
    "\n",
    "+ donde $(x_1, \\dots, x_p)$ son variables\n",
    "\n",
    "+   $y:$  variable **respuesta** (dependiente)\n",
    "\n",
    "\n",
    "+   $x_1.x_2,  \\dots, x_p:$ variables independientes\n",
    "\n",
    "Se debe escojer las variables, cuales son las x y cuales son las y\n",
    "\n",
    "ej variable $y$ precio del predio en relacion de todas las otras variables, ej $x:$ área\n",
    "\n",
    "\n",
    "###  Modelo de regresión lineal\n",
    "\n",
    "\n",
    "$$y=\\beta_0+\\beta_1x_1+  \\cdots + \\beta_px_p+ \\varepsilon$$\n",
    "\n",
    "### Modelo estimado\n",
    "\n",
    "Se debe entrenar el modelo para que de valores estimados a variables\n",
    "\n",
    "$$\\hat{y}=\\hat{\\beta}_0+\\hat{\\beta}_1x_1+  \\cdots + \\hat{\\beta}_px_p$$\n",
    "\n",
    "\n",
    "## Importación de librerías"
   ]
  },
  {
   "cell_type": "code",
   "execution_count": null,
   "metadata": {
    "colab": {
     "background_save": true
    },
    "id": "X9tr_gYXB83X"
   },
   "outputs": [],
   "source": [
    "# Importación de librerías\n",
    "import pandas as pd\n",
    "import numpy as np\n",
    "import matplotlib.pyplot as plt\n",
    "import seaborn as sns\n",
    "from sklearn.model_selection import train_test_split\n",
    "from sklearn.linear_model import LinearRegression, Lasso, Ridge\n",
    "from sklearn.metrics import mean_absolute_error, mean_squared_error, r2_score\n"
   ]
  },
  {
   "cell_type": "markdown",
   "metadata": {
    "id": "6FkqAtkICOCg"
   },
   "source": [
    "# Función para entrenar, evaluar, graficar modelos y cálculo de métricas\n",
    "\n",
    "\n",
    "En **Machine Learning**, entrenar un modelo de regresión con datos es fundamental porque permite que el algoritmo aprenda la relación entre las variables predictoras (características o features) y la variable objetivo (target).\n",
    "\n",
    ">  0.  Tomar el 20% para entrenar y 80 de prueba (20 - 80) y si la cantidad total de datos es pequeña se debe tomar mas muestra para entrenar ej (40 - 60). Los datos de entrenamiento se toman de roma aleatorea\n",
    "\n",
    ">  1. Aprender la Relación entre Variables\n",
    "El objetivo de un modelo de regresión (como Regresión Lineal, Regresión Polinómica, etc.) es predecir un valor continuo (como precios, temperaturas, ventas, etc.).\n",
    "Durante el entrenamiento, el algoritmo ajusta los parámetros del modelo (como coeficientes en regresión lineal) para minimizar el error entre las predicciones y los valores reales.\n",
    "\n",
    "\n",
    "\n",
    "> 2. Generalizar a Datos No Vistos\n",
    "El modelo debe ser capaz de hacer buenas predicciones en datos que no ha visto antes (datos de prueba o nuevos datos).\n",
    "Si no se entrena correctamente, el modelo puede sufrir de sobreajuste (**overfitting**) o subajuste (**underfitting**).\n",
    "\n",
    "> 3. Optimizar la Función de Pérdida (Loss Function)\n",
    "En regresión, se usa comúnmente el Error Cuadrático Medio (MSE) como función de pérdida.\n",
    "El entrenamiento busca minimizar esta función, ajustando los pesos del modelo mediante métodos como Gradiente Descendente.\n",
    "\n",
    "> 4. Evaluar el Rendimiento del Modelo\n",
    "Al entrenar con datos históricos, podemos medir métricas como:\n",
    "\n",
    "+ $R^2$ (Coeficiente de Determinación) → Qué tan bien explica el modelo la variabilidad de los datos.\n",
    "\n",
    "+ MAE (Error Absoluto Medio) → Magnitud promedio de los errores.\n",
    "\n",
    "+ RMSE (Raíz del Error Cuadrático Medio) → Error en las mismas unidades que la variable objetivo.\n",
    "\n",
    ">  5. Prevenir Sesgos y Mejorar la Precisión\n",
    "Un buen entrenamiento asegura que el modelo no esté sesgado hacia ciertos patrones irrelevantes.\n",
    "Técnicas como validación cruzada (cross-validation) ayudan a garantizar que el modelo generalice bien."
   ]
  },
  {
   "cell_type": "code",
   "execution_count": null,
   "metadata": {
    "colab": {
     "background_save": true
    },
    "id": "6ubeISwrAG87"
   },
   "outputs": [],
   "source": [
    "# Función para entrenar, evaluar y graficar modelos\n",
    "def train_and_evaluate_model(model, X_train, X_test, y_train, y_test, title):\n",
    "    \"\"\"\n",
    "    Entrena un modelo de regresión, evalúa su rendimiento y grafica predicciones vs. valores reales.\n",
    "\n",
    "    Parámetros:\n",
    "        model: Modelo de sklearn a entrenar.\n",
    "        X_train, X_test: características de entrenamiento y prueba.\n",
    "        y_train, y_test: Objetivo de entrenamiento y prueba.\n",
    "        title: Título para el gráfico.\n",
    "\n",
    "    Retorna:\n",
    "        Diccionario con métricas de evaluación.\n",
    "    \"\"\"\n",
    "    # Entrenamiento del modelo\n",
    "    model.fit(X_train, y_train)\n",
    "\n",
    "    # Predicciones\n",
    "    y_pred_train = model.predict(X_train)\n",
    "    y_pred_test = model.predict(X_test)\n",
    "\n",
    "    # Cálculo de métricas\n",
    "    metrics = {\n",
    "        \"MAE_Train\": mean_absolute_error(y_train, y_pred_train),\n",
    "        \"RMSE_Train\": np.sqrt(mean_squared_error(y_train, y_pred_train)),\n",
    "        \"R2_Train\": r2_score(y_train, y_pred_train),\n",
    "        \"MAE_Test\": mean_absolute_error(y_test, y_pred_test),\n",
    "        \"RMSE_Test\": np.sqrt(mean_squared_error(y_test, y_pred_test)),\n",
    "        \"R2_Test\": r2_score(y_test, y_pred_test)\n",
    "    }\n",
    "\n",
    "      # Gráfico de predicciones vs valores reales\n",
    "    plt.figure(figsize=(8, 6))\n",
    "    sns.scatterplot(x=y_test, y=y_pred_test, alpha=0.6, edgecolor='k', label='Datos')\n",
    "    plt.plot([y_test.min(), y_test.max()],\n",
    "             [y_test.min(), y_test.max()],\n",
    "             '--r',\n",
    "             linewidth=2,\n",
    "             label='Línea ideal')\n",
    "    plt.xlabel(\"Precio Real\", fontsize=12)\n",
    "    plt.ylabel(\"Precio Predicho\", fontsize=12)\n",
    "    plt.title(f\"{title} - Predicción vs Real\", fontsize=14)\n",
    "    plt.legend()\n",
    "    plt.grid(True, linestyle='--', alpha=0.5)\n",
    "    plt.show()\n",
    "\n",
    "    return metrics"
   ]
  },
  {
   "cell_type": "markdown",
   "metadata": {
    "id": "q928wIN1DzyJ"
   },
   "source": [
    "#  Preparación de los Datos"
   ]
  },
  {
   "cell_type": "code",
   "execution_count": null,
   "metadata": {
    "colab": {
     "background_save": true
    },
    "id": "DBo2_autEFlH"
   },
   "outputs": [],
   "source": [
    "\n",
    "\n",
    "# Variables objetivo y predictoras para la base original\n",
    "X_original = df[['BEDS', 'BATH', 'PROPERTYSQFT']]\n",
    "y_original = df['PRICE']\n",
    "\n",
    "# Variables para la base tratada (sin atípicos, codificada y con nuevas características)\n",
    "X_processed = df_encoded.drop(columns=['PRICE', 'ADDRESS', 'MAIN_ADDRESS', 'BROKERTITLE', 'ADMINISTRATIVE_AREA_LEVEL_2', 'LOCALITY', 'FORMATTED_ADDRESS', 'LONG_NAME', 'STREET_NAME'], errors='ignore')\n",
    "y_processed = df_encoded['PRICE']\n",
    "\n",
    "# División train-test\n",
    "# esta entreanado el 20% --> test_size=0.2, random_state=44 --> numero aleatorio para sacar muestra de 20% aleatorio\n",
    "X_train_orig, X_test_orig, y_train_orig, y_test_orig = train_test_split(X_original, y_original, test_size=0.2, random_state=742025)\n",
    "X_train_proc, X_test_proc, y_train_proc, y_test_proc = train_test_split(X_processed, y_processed, test_size=0.2, random_state=742025)"
   ]
  },
  {
   "cell_type": "markdown",
   "metadata": {
    "id": "ia9UTG4lEOV2"
   },
   "source": [
    "#  Modelos y Evaluación\n",
    "\n",
    "+  Regresión tradicional (Mínimos Cuadrados Ordinarios)\n",
    "\n",
    "+  Regresión Lasso (Regularización $L_1$)\n",
    "\n",
    "+  Regresión Ridge (Regularización $L_2$)\n",
    "\n",
    "-----------------------------------------------\n",
    "\n"
   ]
  },
  {
   "cell_type": "markdown",
   "metadata": {
    "id": "Fd1EubRPkCP6"
   },
   "source": [
    "###  Regresión tradicional\n",
    "\n",
    "+  Mínimos Cuadrados Ordinarios - OLS\n",
    "\n",
    "Función objetivo:\n",
    "\n",
    "$$\\min_{\\beta} \\sum_{i=1}^n (y_i-(\\beta_0+\\beta_1x_{i1}+\\beta_2 x_{i2}+  \\cdots+ \\beta_{p}x_{ip}))^2$$\n",
    "\n",
    "#### Propiedades :\n",
    "\n",
    "+  No considera multicolinealidad\n",
    "\n",
    "+  Solución analítica cerrada:\n",
    "\n",
    "$$\\hat{\\pmb{\\beta}}=(\\pmb{X}'\\pmb{X})^{-1}\\pmb{X}'\\pmb{y}$$\n",
    "\n",
    "+  Alta varianza cuando $p \\approx n$\n",
    "\n",
    "\n",
    "---------------------------------------------\n"
   ]
  },
  {
   "cell_type": "markdown",
   "metadata": {
    "id": "HLcn5o1Cl-b1"
   },
   "source": [
    "###  Regresión Lasso\n",
    "\n",
    "+  Función objetivo:\n",
    "\n",
    "$$\\min_{\\beta} \\sum_{i=1}^n (y_i-(\\beta_0+\\beta_1x_{i1}+\\beta_2 x_{i2}+  \\cdots+ \\beta_{p}x_{ip}))^2 +\\lambda(|\\beta_1|+ |\\beta_2|+  \\cdots +|\\beta_p|)$$\n",
    "\n",
    "#### Propiedades :\n",
    "\n",
    "+  Penalización absoluta ($L1$) sobre los coeficientes\n",
    "\n",
    "+  No tiene solución analítica cerrada (se resuelve por optimización convexa)\n",
    "\n",
    "+  Puede producir coeficientes exactamente cero (selección de variables)\n",
    "\n",
    "+  Comportamiento discontinuo con variables correlacionadas\n",
    "\n",
    "------------------------------"
   ]
  },
  {
   "cell_type": "markdown",
   "metadata": {
    "id": "reMW0u3incJQ"
   },
   "source": [
    "###  Regresión Ridge\n",
    "\n",
    "+  Función objetivo:\n",
    "\n",
    "$$\\min_{\\beta} \\sum_{i=1}^n (y_i-(\\beta_0+\\beta_1x_{i1}+\\beta_2 x_{i2}+  \\cdots+ \\beta_{p}x_{ip}))^2 +\\lambda(\\beta_1^2+ \\beta_2^2+  \\cdots +\\beta_p^2)$$\n",
    "\n",
    "#### Propiedades :\n",
    "\n",
    "+  Penalización cuadrática ($L2$) sobre los coeficientes\n",
    "\n",
    "+  Solución analítica cerrada:\n",
    "\n",
    "$$\\hat{\\pmb{\\beta}}^{ridge}=(\\pmb{X}'\\pmb{X}+\\lambda\\pmb{I})^{-1}\\pmb{X}'\\pmb{y}$$\n",
    "\n",
    "+ Nunca anula coeficientes exactamente\n",
    "\n",
    "$$\\beta_j \\to 0  \\hspace{5mm}  \\text{cuando}  \\hspace{5mm}  \\lambda \\to \\infty$$\n",
    "\n",
    "+ Maneja bien multicolinealidad\n",
    "\n",
    "------------------------------"
   ]
  },
  {
   "cell_type": "markdown",
   "metadata": {
    "id": "FLx-kouWo2dy"
   },
   "source": [
    "###  Propiedades Estadísticas\n",
    "\n",
    "| Modelo | Sesgo  |Varianza|\n",
    "|:-----:|:-----:|:-------:|\n",
    "|  OLS\t | Bajo\t  | Alta   |\n",
    "| Ridge\t | Medio\t| Media-Baja|\n",
    "| Lasso  |\tMedio-Alto\t|Media|\n"
   ]
  },
  {
   "cell_type": "markdown",
   "metadata": {
    "id": "dY_7b7cRj7mC"
   },
   "source": [
    "###  Ventajas y desventajas\n",
    "\n",
    "|Criterio\t|Regresión Tradicional\t| Lasso (L1)\t| Ridge (L2)|\n",
    "|:-------:|:---------------------:|:----------:|:---------:|\n",
    "Manejo de Multicolinealidad|\t❌ Pobre\t|✅ Bueno (selecciona 1 variable)\t|✅ Excelente (distribuye pesos)\n",
    "Selección de Variables |\t❌ No aplica\t|✅ Sí (coeficientes = 0)\t|❌ No\n",
    "Estabilidad |\t❌ Inestable con muchas variables\t|✅ Estable |\t✅ Muy estable\n",
    "Interpretabilidad\t|✅ Fácil\t|✅ Modelos más simples\t|❌ Menos interpretable\n",
    "Rendimiento Predictivo |\t❌ Sensible a overfitting|\t✅ Bueno con datos procesados\t|✅ Mejor en general"
   ]
  },
  {
   "cell_type": "markdown",
   "metadata": {
    "id": "8cJ_6fyNITiS"
   },
   "source": [
    "# Modelos\n",
    "\n"
   ]
  },
  {
   "cell_type": "markdown",
   "metadata": {
    "id": "Upn98VouIarr"
   },
   "source": [
    "#  Métricas de comparación de modelos\n",
    "\n",
    "+  $R^2=\\dfrac{SCM}{SCT}*100\\%$: coeficiente de determinación\n",
    "\n",
    "$$0 \\leq R^2 \\leq 100\\%$$\n",
    "\n",
    "se busca el modelos con mayor coeficiente de determinación\n",
    "\n",
    "\n",
    "+  $MAD=\\sum_{i=1}^n \\dfrac{|e_i|}{n}$\n",
    "\n",
    "+  $MSE=\\sum_{i=1}^n \\dfrac{e_i^2}{n}$\n",
    "\n",
    "\n",
    "+  $RMSE=\\sqrt{\\sum_{i=1}^n \\dfrac{e_i^2}{n}}$\n",
    "\n",
    "En las medidas basadas en $e_i$  se busca el modelos con menor valor\n",
    "\n",
    "+  $AIC=malo-bueno=2\\log(p)-2log(L)$\n",
    "\n"
   ]
  },
  {
   "cell_type": "code",
   "execution_count": null,
   "metadata": {
    "colab": {
     "background_save": true
    },
    "id": "6MAD6lhsEOBq"
   },
   "outputs": [],
   "source": [
    "models = {\n",
    "    \"Regresión Lineal Múltiple\": LinearRegression(),\n",
    "    \"Lasso (alpha=0.1)\": Lasso(alpha=0.1),\n",
    "    \"Ridge (alpha=1.0)\": Ridge(alpha=1.0)\n",
    "}\n",
    "\n",
    "results = []"
   ]
  },
  {
   "cell_type": "code",
   "execution_count": null,
   "metadata": {
    "colab": {
     "background_save": true
    },
    "id": "I_Ia9Pg1FjQj"
   },
   "outputs": [
    {
     "name": "stdout",
     "output_type": "stream",
     "text": [
      "\n",
      "==================================================\n",
      "Summary completo para Regresión Lineal Múltiple - Datos Originales\n",
      "==================================================\n",
      "                            OLS Regression Results                            \n",
      "==============================================================================\n",
      "Dep. Variable:                  PRICE   R-squared:                       0.234\n",
      "Model:                            OLS   Adj. R-squared:                  0.233\n",
      "Method:                 Least Squares   F-statistic:                     389.8\n",
      "Date:                Tue, 08 Apr 2025   Prob (F-statistic):          5.49e-221\n",
      "Time:                        18:30:51   Log-Likelihood:                -64335.\n",
      "No. Observations:                3840   AIC:                         1.287e+05\n",
      "Df Residuals:                    3836   BIC:                         1.287e+05\n",
      "Df Model:                           3                                         \n",
      "Covariance Type:            nonrobust                                         \n",
      "================================================================================\n",
      "                   coef    std err          t      P>|t|      [0.025      0.975]\n",
      "--------------------------------------------------------------------------------\n",
      "const        -5.221e+05   1.26e+05     -4.158      0.000   -7.68e+05   -2.76e+05\n",
      "BEDS         -4.507e+05   4.57e+04     -9.853      0.000    -5.4e+05   -3.61e+05\n",
      "BATH           9.15e+05   6.53e+04     14.006      0.000    7.87e+05    1.04e+06\n",
      "PROPERTYSQFT   839.3199     37.922     22.133      0.000     764.970     913.669\n",
      "==============================================================================\n",
      "Omnibus:                     7944.400   Durbin-Watson:                   2.001\n",
      "Prob(Omnibus):                  0.000   Jarque-Bera (JB):         54423310.827\n",
      "Skew:                          16.952   Prob(JB):                         0.00\n",
      "Kurtosis:                     585.234   Cond. No.                     5.42e+03\n",
      "==============================================================================\n",
      "\n",
      "Notes:\n",
      "[1] Standard Errors assume that the covariance matrix of the errors is correctly specified.\n",
      "[2] The condition number is large, 5.42e+03. This might indicate that there are\n",
      "strong multicollinearity or other numerical problems.\n",
      "\n",
      "==================================================\n",
      "Resumen para Lasso (alpha=0.1) - Datos Originales (Lasso/Ridge)\n",
      "==================================================\n",
      "Nota: statsmodels no soporta summary directo para Lasso/Ridge\n",
      "       Variable    Coeficiente    Importancia\n",
      "1          BATH  914981.860200  914981.860200\n",
      "0          BEDS -450675.112786  450675.112786\n",
      "2  PROPERTYSQFT     839.319888     839.319888\n",
      "\n",
      "Intercepto: -522136.30\n",
      "\n",
      "==================================================\n",
      "Resumen para Ridge (alpha=1.0) - Datos Originales (Lasso/Ridge)\n",
      "==================================================\n",
      "Nota: statsmodels no soporta summary directo para Lasso/Ridge\n",
      "       Variable    Coeficiente    Importancia\n",
      "1          BATH  914748.010643  914748.010643\n",
      "0          BEDS -450534.201526  450534.201526\n",
      "2  PROPERTYSQFT     839.350484     839.350484\n",
      "\n",
      "Intercepto: -522120.74\n"
     ]
    }
   ],
   "source": [
    "import statsmodels.api as sm\n",
    "from sklearn.base import clone\n",
    "\n",
    "\n",
    "# Función modificada para incluir summary completo\n",
    "def train_and_evaluate_model(model, X_train, X_test, y_train, y_test, title):\n",
    "    # Entrenar modelo scikit-learn para métricas\n",
    "    sklearn_model = clone(model)\n",
    "    sklearn_model.fit(X_train, y_train)\n",
    "    y_pred_train = sklearn_model.predict(X_train)\n",
    "    y_pred_test = sklearn_model.predict(X_test)\n",
    "\n",
    "    # Métricas de evaluación\n",
    "    metrics = {\n",
    "        \"MAE_Train\": mean_absolute_error(y_train, y_pred_train),\n",
    "        \"RMSE_Train\": np.sqrt(mean_squared_error(y_train, y_pred_train)),\n",
    "        \"R2_Train\": r2_score(y_train, y_pred_train),\n",
    "        \"MAE_Test\": mean_absolute_error(y_test, y_pred_test),\n",
    "        \"RMSE_Test\": np.sqrt(mean_squared_error(y_test, y_pred_test)),\n",
    "        \"R2_Test\": r2_score(y_test, y_pred_test),\n",
    "    }\n",
    "\n",
    "    # Generar summary con statsmodels (solo para modelos compatibles)\n",
    "    if isinstance(model, LinearRegression):\n",
    "        X_train_sm = sm.add_constant(X_train)\n",
    "        modelo_sm = sm.OLS(y_train, X_train_sm).fit()\n",
    "        print(f\"\\n{'='*50}\\nSummary completo para {title}\\n{'='*50}\")\n",
    "        print(modelo_sm.summary())\n",
    "    elif isinstance(model, (Lasso, Ridge)):\n",
    "        print(f\"\\n{'='*50}\\nResumen para {title} (Lasso/Ridge)\\n{'='*50}\")\n",
    "        print(\"Nota: statsmodels no soporta summary directo para Lasso/Ridge\")\n",
    "        # Access coefficients from the fitted model (sklearn_model)\n",
    "        coef_df = pd.DataFrame({\n",
    "            'Variable': X_train.columns,\n",
    "            'Coeficiente': sklearn_model.coef_,  # Changed to sklearn_model\n",
    "            'Importancia': np.abs(sklearn_model.coef_)  # Changed to sklearn_model\n",
    "        }).sort_values('Importancia', ascending=False)\n",
    "        print(coef_df)\n",
    "        print(f\"\\nIntercepto: {sklearn_model.intercept_:.2f}\") # Changed to sklearn_model\n",
    "\n",
    "    return metrics\n",
    "\n",
    "for name, model in models.items():\n",
    "    metrics = train_and_evaluate_model(model, X_train_orig, X_test_orig, y_train_orig, y_test_orig, f\"{name} - Datos Originales\")\n",
    "    results.append({\"Modelo\": name + \" - Original\", **metrics})\n"
   ]
  },
  {
   "cell_type": "markdown",
   "metadata": {
    "id": "lswYllKzC9KU"
   },
   "source": [
    "# Entrenamiento y evaluación con la base original"
   ]
  },
  {
   "cell_type": "code",
   "execution_count": null,
   "metadata": {
    "colab": {
     "background_save": true
    },
    "id": "t45aosaTEXVT"
   },
   "outputs": [
    {
     "name": "stdout",
     "output_type": "stream",
     "text": [
      "\n",
      "==================================================\n",
      "Summary completo para Regresión Lineal Múltiple - Datos Originales\n",
      "==================================================\n",
      "                            OLS Regression Results                            \n",
      "==============================================================================\n",
      "Dep. Variable:                  PRICE   R-squared:                       0.234\n",
      "Model:                            OLS   Adj. R-squared:                  0.233\n",
      "Method:                 Least Squares   F-statistic:                     389.8\n",
      "Date:                Tue, 08 Apr 2025   Prob (F-statistic):          5.49e-221\n",
      "Time:                        18:30:51   Log-Likelihood:                -64335.\n",
      "No. Observations:                3840   AIC:                         1.287e+05\n",
      "Df Residuals:                    3836   BIC:                         1.287e+05\n",
      "Df Model:                           3                                         \n",
      "Covariance Type:            nonrobust                                         \n",
      "================================================================================\n",
      "                   coef    std err          t      P>|t|      [0.025      0.975]\n",
      "--------------------------------------------------------------------------------\n",
      "const        -5.221e+05   1.26e+05     -4.158      0.000   -7.68e+05   -2.76e+05\n",
      "BEDS         -4.507e+05   4.57e+04     -9.853      0.000    -5.4e+05   -3.61e+05\n",
      "BATH           9.15e+05   6.53e+04     14.006      0.000    7.87e+05    1.04e+06\n",
      "PROPERTYSQFT   839.3199     37.922     22.133      0.000     764.970     913.669\n",
      "==============================================================================\n",
      "Omnibus:                     7944.400   Durbin-Watson:                   2.001\n",
      "Prob(Omnibus):                  0.000   Jarque-Bera (JB):         54423310.827\n",
      "Skew:                          16.952   Prob(JB):                         0.00\n",
      "Kurtosis:                     585.234   Cond. No.                     5.42e+03\n",
      "==============================================================================\n",
      "\n",
      "Notes:\n",
      "[1] Standard Errors assume that the covariance matrix of the errors is correctly specified.\n",
      "[2] The condition number is large, 5.42e+03. This might indicate that there are\n",
      "strong multicollinearity or other numerical problems.\n",
      "\n",
      "==================================================\n",
      "Resumen para Lasso (alpha=0.1) - Datos Originales (Lasso/Ridge)\n",
      "==================================================\n",
      "Nota: statsmodels no soporta summary directo para Lasso/Ridge\n",
      "       Variable    Coeficiente    Importancia\n",
      "1          BATH  914981.860200  914981.860200\n",
      "0          BEDS -450675.112786  450675.112786\n",
      "2  PROPERTYSQFT     839.319888     839.319888\n",
      "\n",
      "Intercepto: -522136.30\n",
      "\n",
      "==================================================\n",
      "Resumen para Ridge (alpha=1.0) - Datos Originales (Lasso/Ridge)\n",
      "==================================================\n",
      "Nota: statsmodels no soporta summary directo para Lasso/Ridge\n",
      "       Variable    Coeficiente    Importancia\n",
      "1          BATH  914748.010643  914748.010643\n",
      "0          BEDS -450534.201526  450534.201526\n",
      "2  PROPERTYSQFT     839.350484     839.350484\n",
      "\n",
      "Intercepto: -522120.74\n"
     ]
    }
   ],
   "source": [
    "for name, model in models.items():\n",
    "    metrics = train_and_evaluate_model(model, X_train_orig, X_test_orig, y_train_orig, y_test_orig, f\"{name} - Datos Originales\")\n",
    "    results.append({\"Modelo\": name + \" - Original\", **metrics})"
   ]
  },
  {
   "cell_type": "markdown",
   "metadata": {
    "id": "bEzbxmrnC2a0"
   },
   "source": [
    "# Entrenamiento y evaluación con la base tratada"
   ]
  },
  {
   "cell_type": "code",
   "execution_count": null,
   "metadata": {
    "colab": {
     "background_save": true
    },
    "id": "N2u2wOQ-C_is"
   },
   "outputs": [
    {
     "name": "stdout",
     "output_type": "stream",
     "text": [
      "\n",
      "==================================================\n",
      "Summary completo para Regresión Lineal Múltiple - Datos Procesados\n",
      "==================================================\n",
      "                            OLS Regression Results                            \n",
      "==============================================================================\n",
      "Dep. Variable:                  PRICE   R-squared:                       0.899\n",
      "Model:                            OLS   Adj. R-squared:                  0.887\n",
      "Method:                 Least Squares   F-statistic:                     73.41\n",
      "Date:                Tue, 08 Apr 2025   Prob (F-statistic):               0.00\n",
      "Time:                        18:30:52   Log-Likelihood:                -39404.\n",
      "No. Observations:                2924   AIC:                         7.944e+04\n",
      "Df Residuals:                    2606   BIC:                         8.135e+04\n",
      "Df Model:                         317                                         \n",
      "Covariance Type:            nonrobust                                         \n",
      "=============================================================================================================\n",
      "                                                coef    std err          t      P>|t|      [0.025      0.975]\n",
      "-------------------------------------------------------------------------------------------------------------\n",
      "const                                      8.985e+06   4.12e+07      0.218      0.827   -7.17e+07    8.97e+07\n",
      "BEDS                                       3.502e+04   8661.918      4.043      0.000     1.8e+04     5.2e+04\n",
      "BATH                                       1.635e+05   1.23e+04     13.247      0.000    1.39e+05    1.88e+05\n",
      "PROPERTYSQFT                                362.9814     10.889     33.334      0.000     341.629     384.334\n",
      "LATITUDE                                  -6.542e+05   5.35e+05     -1.223      0.221    -1.7e+06    3.95e+05\n",
      "LONGITUDE                                 -2.288e+05   4.25e+05     -0.538      0.590   -1.06e+06    6.05e+05\n",
      "TYPE_Coming Soon                          -5.508e+05   1.95e+05     -2.821      0.005   -9.34e+05   -1.68e+05\n",
      "TYPE_Condo for sale                        -1.17e+05   1.28e+04     -9.107      0.000   -1.42e+05   -9.18e+04\n",
      "TYPE_Condop for sale                       1.059e+05   8.85e+04      1.196      0.232   -6.77e+04     2.8e+05\n",
      "TYPE_Contingent                           -6.933e+04    2.8e+04     -2.480      0.013   -1.24e+05   -1.45e+04\n",
      "TYPE_For sale                             -1.555e+05    6.7e+04     -2.322      0.020   -2.87e+05   -2.42e+04\n",
      "TYPE_Foreclosure                          -2.553e+05   6.63e+04     -3.848      0.000   -3.85e+05   -1.25e+05\n",
      "TYPE_House for sale                       -7.487e+04   1.83e+04     -4.093      0.000   -1.11e+05    -3.9e+04\n",
      "TYPE_Land for sale                        -2.317e+05   3.74e+04     -6.199      0.000   -3.05e+05   -1.58e+05\n",
      "TYPE_Mobile house for sale                -9.272e+04   1.91e+05     -0.487      0.627   -4.66e+05    2.81e+05\n",
      "TYPE_Multi-family home for sale            -1.28e+05   2.18e+04     -5.884      0.000   -1.71e+05   -8.54e+04\n",
      "TYPE_Pending                              -6.006e+04   1.84e+04     -3.257      0.001   -9.62e+04   -2.39e+04\n",
      "TYPE_Townhouse for sale                    1.468e+04    2.7e+04      0.543      0.587   -3.83e+04    6.77e+04\n",
      "STATE_Astoria, NY 11101                    2.019e+05   2.52e+05      0.801      0.423   -2.92e+05    6.96e+05\n",
      "STATE_Astoria, NY 11102                       0.0002      0.001      0.214      0.830      -0.002       0.002\n",
      "STATE_Astoria, NY 11103                    7.445e+04   1.93e+05      0.385      0.700   -3.05e+05    4.54e+05\n",
      "STATE_Astoria, NY 11105                   -1.468e+04   1.82e+05     -0.081      0.936   -3.72e+05    3.42e+05\n",
      "STATE_Astoria, NY 11106                    3.451e+04   1.92e+05      0.179      0.858   -3.42e+05    4.12e+05\n",
      "STATE_Bayside, NY 11360                    3.022e+04   1.66e+05      0.182      0.856   -2.96e+05    3.56e+05\n",
      "STATE_Bayside, NY 11361                    4.789e+04   1.64e+05      0.292      0.771   -2.74e+05     3.7e+05\n",
      "STATE_Bayside, NY 11364                   -1.527e+05   2.38e+05     -0.643      0.521   -6.19e+05    3.13e+05\n",
      "STATE_Bedford Stuyvesant, NY 11206         7.342e+05   2.65e+05      2.774      0.006    2.15e+05    1.25e+06\n",
      "STATE_Bedford Stuyvesant, NY 11216         2.235e+05   2.64e+05      0.848      0.396   -2.93e+05     7.4e+05\n",
      "STATE_Bedford Stuyvesant, NY 11221         8.333e+04   2.62e+05      0.318      0.750    -4.3e+05    5.97e+05\n",
      "STATE_Bedford Stuyvesant, NY 11233         1.014e+05   2.61e+05      0.389      0.698    -4.1e+05    6.13e+05\n",
      "STATE_Beechhurst, NY 11357                 1.731e+05   1.98e+05      0.873      0.383   -2.16e+05    5.62e+05\n",
      "STATE_Belle Harbor, NY 11694              -9.957e+04   2.25e+05     -0.442      0.658   -5.41e+05    3.42e+05\n",
      "STATE_Bellerose, NY 11426                   3.65e+04   1.64e+05      0.223      0.824   -2.84e+05    3.57e+05\n",
      "STATE_Briarwood, NY 11435                  1.871e+05   1.79e+05      1.043      0.297   -1.65e+05    5.39e+05\n",
      "STATE_Brighton Beach, NY 11235            -1.083e+05   2.52e+05     -0.431      0.667   -6.02e+05    3.85e+05\n",
      "STATE_Bronx Ny, NY 10458                  -1.205e+05   2.99e+05     -0.402      0.687   -7.08e+05    4.67e+05\n",
      "STATE_Bronx, NY 10451                      1.223e+05    2.3e+05      0.533      0.594   -3.28e+05    5.72e+05\n",
      "STATE_Bronx, NY 10452                      3.417e+05   2.38e+05      1.435      0.151   -1.25e+05    8.08e+05\n",
      "STATE_Bronx, NY 10453                      8.732e+04   2.47e+05      0.354      0.724   -3.97e+05    5.71e+05\n",
      "STATE_Bronx, NY 10454                       2.25e+05   2.43e+05      0.927      0.354   -2.51e+05    7.01e+05\n",
      "STATE_Bronx, NY 10455                     -1.117e+05   2.87e+05     -0.390      0.697   -6.74e+05     4.5e+05\n",
      "STATE_Bronx, NY 10456                      2.661e+04   2.34e+05      0.114      0.909   -4.32e+05    4.85e+05\n",
      "STATE_Bronx, NY 10457                      3.449e+05   2.44e+05      1.416      0.157   -1.33e+05    8.22e+05\n",
      "STATE_Bronx, NY 10458                      2.154e+05   2.42e+05      0.891      0.373   -2.58e+05    6.89e+05\n",
      "STATE_Bronx, NY 10459                      2.889e+05   2.55e+05      1.135      0.257    -2.1e+05    7.88e+05\n",
      "STATE_Bronx, NY 10460                     -7.121e+04   2.36e+05     -0.302      0.763   -5.34e+05    3.92e+05\n",
      "STATE_Bronx, NY 10461                      2.115e+05   2.29e+05      0.922      0.357   -2.38e+05    6.61e+05\n",
      "STATE_Bronx, NY 10462                      2.565e+05   2.29e+05      1.120      0.263   -1.93e+05    7.06e+05\n",
      "STATE_Bronx, NY 10463                      1.574e+05   2.44e+05      0.646      0.518    -3.2e+05    6.35e+05\n",
      "STATE_Bronx, NY 10464                      2.573e+05   2.47e+05      1.040      0.298   -2.28e+05    7.42e+05\n",
      "STATE_Bronx, NY 10465                      2.204e+05   2.19e+05      1.007      0.314   -2.09e+05     6.5e+05\n",
      "STATE_Bronx, NY 10466                      1.813e+05   2.45e+05      0.739      0.460      -3e+05    6.62e+05\n",
      "STATE_Bronx, NY 10467                      2.237e+05   2.43e+05      0.922      0.357   -2.52e+05    6.99e+05\n",
      "STATE_Bronx, NY 10468                      2.269e+05   2.47e+05      0.920      0.358   -2.57e+05    7.11e+05\n",
      "STATE_Bronx, NY 10469                      1.565e+05   2.37e+05      0.660      0.509   -3.08e+05    6.21e+05\n",
      "STATE_Bronx, NY 10470                      2.959e+05   2.51e+05      1.177      0.239   -1.97e+05    7.89e+05\n",
      "STATE_Bronx, NY 10471                      2.039e+05   2.51e+05      0.812      0.417   -2.89e+05    6.96e+05\n",
      "STATE_Bronx, NY 10472                      2.156e+05   2.39e+05      0.903      0.367   -2.53e+05    6.84e+05\n",
      "STATE_Bronx, NY 10473                      1.609e+05   2.19e+05      0.735      0.463   -2.69e+05     5.9e+05\n",
      "STATE_Bronx, NY 10474                       1.13e+05   2.54e+05      0.446      0.656   -3.84e+05     6.1e+05\n",
      "STATE_Bronx, NY 10475                      2.822e+05   3.01e+05      0.938      0.348   -3.07e+05    8.72e+05\n",
      "STATE_Brooklyn, NY 10301                   1.255e+05   2.84e+05      0.442      0.658   -4.31e+05    6.82e+05\n",
      "STATE_Brooklyn, NY 10308                   7.194e+04   2.87e+05      0.251      0.802    -4.9e+05    6.34e+05\n",
      "STATE_Brooklyn, NY 11201                   3.503e+04      2e+05      0.176      0.861   -3.56e+05    4.26e+05\n",
      "STATE_Brooklyn, NY 11203                  -1.069e+04   1.86e+05     -0.058      0.954   -3.75e+05    3.54e+05\n",
      "STATE_Brooklyn, NY 11204                   6.106e+04   1.83e+05      0.334      0.739   -2.98e+05     4.2e+05\n",
      "STATE_Brooklyn, NY 11205                   1.355e+04   2.13e+05      0.064      0.949   -4.04e+05    4.31e+05\n",
      "STATE_Brooklyn, NY 11206                  -5.754e+04   2.13e+05     -0.270      0.787   -4.76e+05    3.61e+05\n",
      "STATE_Brooklyn, NY 11207                   4946.8535   1.86e+05      0.027      0.979   -3.59e+05    3.69e+05\n",
      "STATE_Brooklyn, NY 11208                   -2.43e+04   1.85e+05     -0.132      0.895   -3.86e+05    3.38e+05\n",
      "STATE_Brooklyn, NY 11209                   1.173e+05   1.89e+05      0.622      0.534   -2.53e+05    4.87e+05\n",
      "STATE_Brooklyn, NY 11210                     4.4e+04   1.84e+05      0.240      0.811   -3.16e+05    4.04e+05\n",
      "STATE_Brooklyn, NY 11211                   1.194e+05   2.03e+05      0.589      0.556   -2.78e+05    5.17e+05\n",
      "STATE_Brooklyn, NY 11212                   -239.4144   1.99e+05     -0.001      0.999   -3.91e+05     3.9e+05\n",
      "STATE_Brooklyn, NY 11213                   2.112e+05   1.98e+05      1.065      0.287   -1.78e+05       6e+05\n",
      "STATE_Brooklyn, NY 11214                  -9086.1740   1.78e+05     -0.051      0.959   -3.58e+05     3.4e+05\n",
      "STATE_Brooklyn, NY 11215                   2.254e+05   1.91e+05      1.179      0.239    -1.5e+05       6e+05\n",
      "STATE_Brooklyn, NY 11216                   1.278e+04   1.95e+05      0.065      0.948    -3.7e+05    3.96e+05\n",
      "STATE_Brooklyn, NY 11217                   2.195e+05   2.19e+05      1.004      0.316   -2.09e+05    6.48e+05\n",
      "STATE_Brooklyn, NY 11218                   1.174e+05    1.9e+05      0.617      0.537   -2.55e+05     4.9e+05\n",
      "STATE_Brooklyn, NY 11219                   8.782e+04   1.93e+05      0.454      0.650   -2.92e+05    4.67e+05\n",
      "STATE_Brooklyn, NY 11220                   1.181e+04   1.94e+05      0.061      0.951   -3.68e+05    3.92e+05\n",
      "STATE_Brooklyn, NY 11221                   6.519e+04   1.93e+05      0.338      0.735   -3.13e+05    4.43e+05\n",
      "STATE_Brooklyn, NY 11222                   1.696e+05    2.1e+05      0.809      0.418   -2.41e+05    5.81e+05\n",
      "STATE_Brooklyn, NY 11223                   9.121e+04   1.79e+05      0.509      0.611    -2.6e+05    4.42e+05\n",
      "STATE_Brooklyn, NY 11224                   3.645e+04   1.79e+05      0.204      0.838   -3.14e+05    3.86e+05\n",
      "STATE_Brooklyn, NY 11225                   7.645e+04   1.93e+05      0.397      0.691   -3.01e+05    4.54e+05\n",
      "STATE_Brooklyn, NY 11226                   4.926e+04   1.92e+05      0.257      0.797   -3.27e+05    4.26e+05\n",
      "STATE_Brooklyn, NY 11228                   1.175e+05   1.88e+05      0.624      0.533   -2.52e+05    4.87e+05\n",
      "STATE_Brooklyn, NY 11229                   1.118e+05   1.76e+05      0.637      0.524   -2.32e+05    4.56e+05\n",
      "STATE_Brooklyn, NY 11230                   6.311e+04   1.82e+05      0.347      0.728   -2.93e+05    4.19e+05\n",
      "STATE_Brooklyn, NY 11231                   2.349e+05   2.05e+05      1.146      0.252   -1.67e+05    6.37e+05\n",
      "STATE_Brooklyn, NY 11232                   5.106e+04   1.99e+05      0.257      0.797   -3.39e+05    4.41e+05\n",
      "STATE_Brooklyn, NY 11233                   3.979e+04   1.92e+05      0.207      0.836   -3.38e+05    4.17e+05\n",
      "STATE_Brooklyn, NY 11234                   6347.5292   1.75e+05      0.036      0.971   -3.38e+05     3.5e+05\n",
      "STATE_Brooklyn, NY 11235                   9.874e+04   1.72e+05      0.574      0.566   -2.39e+05    4.36e+05\n",
      "STATE_Brooklyn, NY 11236                  -1.162e+05   1.82e+05     -0.637      0.524   -4.74e+05    2.42e+05\n",
      "STATE_Brooklyn, NY 11237                   3.619e+04   2.18e+05      0.166      0.868   -3.91e+05    4.64e+05\n",
      "STATE_Brooklyn, NY 11238                    1.14e+05   1.96e+05      0.581      0.561   -2.71e+05    4.99e+05\n",
      "STATE_Brooklyn, NY 11249                   1.824e+05   2.07e+05      0.880      0.379   -2.24e+05    5.89e+05\n",
      "STATE_Brooklyn, NY 11694                   6.085e+04   2.26e+05      0.270      0.788   -3.82e+05    5.04e+05\n",
      "STATE_Brownville, NY 11212                -2.638e+04   2.09e+05     -0.126      0.900   -4.36e+05    3.83e+05\n",
      "STATE_Cambria Heights, NY 11411           -1.633e+05   1.77e+05     -0.924      0.355    -5.1e+05    1.83e+05\n",
      "STATE_College Point, NY 11356              1.242e+05    1.8e+05      0.688      0.491    -2.3e+05    4.78e+05\n",
      "STATE_Corona, NY 11368                    -6271.1797   1.64e+05     -0.038      0.969   -3.27e+05    3.14e+05\n",
      "STATE_Crown Heights, NY 11213              6.062e+04   2.02e+05      0.300      0.764   -3.36e+05    4.57e+05\n",
      "STATE_Ditmas Park, NY 11226                1.338e+05   2.56e+05      0.522      0.601   -3.68e+05    6.36e+05\n",
      "STATE_Douglaston, NY 11362                 2.095e+05   2.01e+05      1.041      0.298   -1.85e+05    6.04e+05\n",
      "STATE_Douglaston, NY 11363                -7990.5930   1.79e+05     -0.045      0.964   -3.58e+05    3.42e+05\n",
      "STATE_East Elmhurst, NY 11369             -6321.8149   1.72e+05     -0.037      0.971   -3.43e+05     3.3e+05\n",
      "STATE_East Elmhurst, NY 11370              7.307e+04      2e+05      0.365      0.715   -3.19e+05    4.65e+05\n",
      "STATE_East Flatbush, NY 11203             -5801.0822   2.55e+05     -0.023      0.982   -5.06e+05    4.95e+05\n",
      "STATE_Elmhurst, NY 11373                   2.126e+04   1.62e+05      0.131      0.895   -2.96e+05    3.38e+05\n",
      "STATE_Far Rockaway, NY 11691              -1.536e+05   1.41e+05     -1.087      0.277   -4.31e+05    1.24e+05\n",
      "STATE_Far Rockaway, NY 11697              -3.752e-06   7.52e-07     -4.990      0.000   -5.23e-06   -2.28e-06\n",
      "STATE_Floral Park, NY 11001               -1.383e+04   1.84e+05     -0.075      0.940   -3.76e+05    3.48e+05\n",
      "STATE_Floral Park, NY 11005                 1.13e+05   1.64e+05      0.687      0.492   -2.09e+05    4.35e+05\n",
      "STATE_Flushing, NY 11354                   6.877e+04   1.65e+05      0.417      0.677   -2.55e+05    3.92e+05\n",
      "STATE_Flushing, NY 11355                  -1.736e+04   1.61e+05     -0.108      0.914   -3.34e+05    2.99e+05\n",
      "STATE_Flushing, NY 11358                   8.924e+04   1.65e+05      0.542      0.588   -2.34e+05    4.12e+05\n",
      "STATE_Flushing, NY 11365                   2.921e-06    7.6e-07      3.845      0.000    1.43e-06    4.41e-06\n",
      "STATE_Flushing, NY 11366                  -8.157e+04   2.36e+05     -0.346      0.729   -5.44e+05    3.81e+05\n",
      "STATE_Flushing, NY 11367                   5.223e+04   1.54e+05      0.340      0.734   -2.49e+05    3.54e+05\n",
      "STATE_Flushing, NY 11378                  -7.416e+04   2.36e+05     -0.314      0.754   -5.38e+05    3.89e+05\n",
      "STATE_Forest Hills, NY 11375               2.277e+04   1.52e+05      0.149      0.881   -2.76e+05    3.22e+05\n",
      "STATE_Fresh Meadows, NY 11365              3.803e+04    1.6e+05      0.238      0.812   -2.75e+05    3.51e+05\n",
      "STATE_Fresh Meadows, NY 11366              5.102e+04   1.61e+05      0.316      0.752   -2.66e+05    3.68e+05\n",
      "STATE_Glen Oaks, NY 11004                 -1.637e+04   1.72e+05     -0.095      0.924   -3.53e+05     3.2e+05\n",
      "STATE_Glendale, NY 11385                  -3.284e+04   1.83e+05     -0.179      0.858   -3.92e+05    3.26e+05\n",
      "STATE_Hollis, NY 11423                    -6.838e+04    1.6e+05     -0.428      0.669   -3.82e+05    2.45e+05\n",
      "STATE_Hollis, NY 11432                     1.642e+04   1.97e+05      0.083      0.934    -3.7e+05    4.03e+05\n",
      "STATE_Howard Beach, NY 11414              -7.021e+04   1.42e+05     -0.496      0.620   -3.48e+05    2.07e+05\n",
      "STATE_Jackson Heights, NY 11372           -2.084e+04   1.65e+05     -0.126      0.900   -3.45e+05    3.03e+05\n",
      "STATE_Jamaica, NY 11413                    -2.14e+05    2.3e+05     -0.929      0.353   -6.65e+05    2.37e+05\n",
      "STATE_Jamaica, NY 11421                   -5.773e-06   6.61e-07     -8.737      0.000   -7.07e-06   -4.48e-06\n",
      "STATE_Jamaica, NY 11422                   -3.899e+05   2.28e+05     -1.709      0.088   -8.37e+05    5.75e+04\n",
      "STATE_Jamaica, NY 11429                   -8.939e+04   2.33e+05     -0.384      0.701   -5.46e+05    3.68e+05\n",
      "STATE_Jamaica, NY 11432                   -1.959e+04   1.49e+05     -0.132      0.895   -3.11e+05    2.72e+05\n",
      "STATE_Jamaica, NY 11433                   -1.539e+05   2.32e+05     -0.664      0.507   -6.08e+05    3.01e+05\n",
      "STATE_Jamaica, NY 11435                   -5.324e+04   1.76e+05     -0.302      0.763   -3.99e+05    2.92e+05\n",
      "STATE_Jamaica, NY 11436                   -1.045e+05   1.48e+05     -0.708      0.479   -3.94e+05    1.85e+05\n",
      "STATE_Kensington, NY 11218                 8.013e+04    2.1e+05      0.381      0.703   -3.32e+05    4.93e+05\n",
      "STATE_Kew Garden Hills, NY 11367          -6.829e-06   9.18e-07     -7.439      0.000   -8.63e-06   -5.03e-06\n",
      "STATE_Kew Gardens Hills, NY 11367         -1.332e+04   1.98e+05     -0.067      0.946   -4.02e+05    3.75e+05\n",
      "STATE_Kew Gardens, NY 11415                9934.8834   1.52e+05      0.065      0.948   -2.89e+05    3.09e+05\n",
      "STATE_Kew Gardens, NY 11418               -3567.8503   1.79e+05     -0.020      0.984   -3.55e+05    3.47e+05\n",
      "STATE_Little Neck, NY 11362                5.303e+04   1.68e+05      0.315      0.753   -2.77e+05    3.83e+05\n",
      "STATE_Little Neck, NY 11363                1.497e+05   1.86e+05      0.807      0.420   -2.14e+05    5.14e+05\n",
      "STATE_Long Island City, NY 11101           1.952e+05   2.15e+05      0.907      0.364   -2.27e+05    6.17e+05\n",
      "STATE_Long Island City, NY 11103           6969.7402   2.53e+05      0.028      0.978   -4.89e+05    5.03e+05\n",
      "STATE_Long Island City, NY 11105           2.925e+05   2.16e+05      1.354      0.176   -1.31e+05    7.16e+05\n",
      "STATE_Long Island City, NY 11106            1.88e+05   2.54e+05      0.741      0.459   -3.09e+05    6.85e+05\n",
      "STATE_Long Island City, NY 11109           7.753e+04   2.52e+05      0.308      0.758   -4.16e+05    5.71e+05\n",
      "STATE_Malba, NY 11357                      3.182e+04    2.5e+05      0.127      0.899   -4.58e+05    5.22e+05\n",
      "STATE_Manhattan, NY 10001                  2.443e+05   2.25e+05      1.085      0.278   -1.97e+05    6.86e+05\n",
      "STATE_Manhattan, NY 10002                  1.972e+04   2.17e+05      0.091      0.928   -4.06e+05    4.45e+05\n",
      "STATE_Manhattan, NY 10003                  1.028e+05   2.12e+05      0.486      0.627   -3.12e+05    5.18e+05\n",
      "STATE_Manhattan, NY 10004                  1.264e+05   2.65e+05      0.478      0.633   -3.93e+05    6.46e+05\n",
      "STATE_Manhattan, NY 10005                  5.028e+04   2.18e+05      0.231      0.817   -3.77e+05    4.77e+05\n",
      "STATE_Manhattan, NY 10006                 -4.134e+05   2.65e+05     -1.559      0.119   -9.33e+05    1.06e+05\n",
      "STATE_Manhattan, NY 10007                   152.5634   2.33e+05      0.001      0.999   -4.57e+05    4.57e+05\n",
      "STATE_Manhattan, NY 10009                  1.621e+05    2.3e+05      0.704      0.481   -2.89e+05    6.14e+05\n",
      "STATE_Manhattan, NY 10010                  8.141e+04   2.09e+05      0.390      0.697   -3.28e+05    4.91e+05\n",
      "STATE_Manhattan, NY 10011                  8.916e+04   2.05e+05      0.435      0.664   -3.13e+05    4.91e+05\n",
      "STATE_Manhattan, NY 10012                  2.601e+05   2.07e+05      1.259      0.208   -1.45e+05    6.65e+05\n",
      "STATE_Manhattan, NY 10013                  8.946e+04   2.22e+05      0.404      0.686   -3.45e+05    5.24e+05\n",
      "STATE_Manhattan, NY 10014                  1.843e+05   2.06e+05      0.896      0.371   -2.19e+05    5.88e+05\n",
      "STATE_Manhattan, NY 10016                  7.368e+04   2.06e+05      0.358      0.720    -3.3e+05    4.77e+05\n",
      "STATE_Manhattan, NY 10017                  5.172e+04   2.09e+05      0.248      0.804   -3.57e+05    4.61e+05\n",
      "STATE_Manhattan, NY 10019                  2.551e+04   2.13e+05      0.120      0.905   -3.93e+05    4.44e+05\n",
      "STATE_Manhattan, NY 10021                  1.056e+05   2.08e+05      0.508      0.612   -3.02e+05    5.13e+05\n",
      "STATE_Manhattan, NY 10022                  1.219e+05   2.06e+05      0.592      0.554   -2.82e+05    5.26e+05\n",
      "STATE_Manhattan, NY 10023                  8.225e+04   2.15e+05      0.382      0.702    -3.4e+05    5.04e+05\n",
      "STATE_Manhattan, NY 10024                  1.478e+05   2.18e+05      0.678      0.498    -2.8e+05    5.76e+05\n",
      "STATE_Manhattan, NY 10025                  9.215e+04   2.18e+05      0.422      0.673   -3.36e+05     5.2e+05\n",
      "STATE_Manhattan, NY 10026                 -4.649e+04    2.3e+05     -0.202      0.840   -4.98e+05    4.05e+05\n",
      "STATE_Manhattan, NY 10027                  1.527e+05   2.29e+05      0.666      0.506   -2.97e+05    6.03e+05\n",
      "STATE_Manhattan, NY 10028                  5.608e+04   2.12e+05      0.264      0.792    -3.6e+05    4.72e+05\n",
      "STATE_Manhattan, NY 10029                  7192.9621   2.27e+05      0.032      0.975   -4.38e+05    4.52e+05\n",
      "STATE_Manhattan, NY 10030                  4.136e+04   2.34e+05      0.177      0.860   -4.18e+05       5e+05\n",
      "STATE_Manhattan, NY 10031                  1.213e+05   2.88e+05      0.421      0.674   -4.44e+05    6.87e+05\n",
      "STATE_Manhattan, NY 10032                  4.515e+04   2.88e+05      0.157      0.876    -5.2e+05    6.11e+05\n",
      "STATE_Manhattan, NY 10033                  4.587e+04   2.46e+05      0.187      0.852   -4.36e+05    5.28e+05\n",
      "STATE_Manhattan, NY 10034                  8.084e+04   2.96e+05      0.273      0.785      -5e+05    6.61e+05\n",
      "STATE_Manhattan, NY 10035                  6.458e+04   2.23e+05      0.289      0.772   -3.73e+05    5.02e+05\n",
      "STATE_Manhattan, NY 10036                 -2.471e+04   2.41e+05     -0.102      0.918   -4.98e+05    4.48e+05\n",
      "STATE_Manhattan, NY 10037                 -3.036e+04   2.32e+05     -0.131      0.896   -4.86e+05    4.25e+05\n",
      "STATE_Manhattan, NY 10038                  1374.3923   2.64e+05      0.005      0.996   -5.16e+05    5.19e+05\n",
      "STATE_Manhattan, NY 10040                  5.352e+04   2.53e+05      0.212      0.832   -4.42e+05    5.49e+05\n",
      "STATE_Manhattan, NY 10044                 -4.634e-06   1.32e-06     -3.507      0.000   -7.23e-06   -2.04e-06\n",
      "STATE_Manhattan, NY 10065                   1.46e+04    2.1e+05      0.070      0.944   -3.96e+05    4.25e+05\n",
      "STATE_Manhattan, NY 10069                 -1.548e+05   2.77e+05     -0.558      0.577   -6.99e+05    3.89e+05\n",
      "STATE_Manhattan, NY 10075                  2.026e+04   2.13e+05      0.095      0.924   -3.97e+05    4.37e+05\n",
      "STATE_Manhattan, NY 10128                  2.002e+05   2.14e+05      0.935      0.350   -2.19e+05     6.2e+05\n",
      "STATE_Manhattan, NY 10280                  1.778e+05   2.34e+05      0.761      0.446    -2.8e+05    6.36e+05\n",
      "STATE_Maspeth, NY 11378                   -9483.2544   1.67e+05     -0.057      0.955   -3.37e+05    3.18e+05\n",
      "STATE_Middle Village, NY 11379              -81.6787   1.58e+05     -0.001      1.000    -3.1e+05     3.1e+05\n",
      "STATE_New Hyde Park, NY 11040             -8.248e+04   2.39e+05     -0.346      0.730    -5.5e+05    3.85e+05\n",
      "STATE_New York City, NY 10002              1.186e+05   2.09e+05      0.568      0.570   -2.91e+05    5.28e+05\n",
      "STATE_New York, NY 10001                   1.648e+05   2.21e+05      0.745      0.456   -2.69e+05    5.98e+05\n",
      "STATE_New York, NY 10002                  -1.395e+05   2.07e+05     -0.674      0.500   -5.45e+05    2.66e+05\n",
      "STATE_New York, NY 10003                   -973.2143   1.98e+05     -0.005      0.996    -3.9e+05    3.88e+05\n",
      "STATE_New York, NY 10004                   1155.0211   2.18e+05      0.005      0.996   -4.27e+05    4.29e+05\n",
      "STATE_New York, NY 10005                   2.863e+04   2.08e+05      0.137      0.891    -3.8e+05    4.37e+05\n",
      "STATE_New York, NY 10006                  -3.119e+04   2.65e+05     -0.118      0.906   -5.51e+05    4.89e+05\n",
      "STATE_New York, NY 10007                  -1.094e+05   2.13e+05     -0.513      0.608   -5.28e+05    3.09e+05\n",
      "STATE_New York, NY 10009                    9.56e+04   2.02e+05      0.474      0.636      -3e+05    4.91e+05\n",
      "STATE_New York, NY 10010                   -1.55e+05   2.09e+05     -0.742      0.458   -5.65e+05    2.55e+05\n",
      "STATE_New York, NY 10011                   5.784e+04   2.05e+05      0.281      0.778   -3.45e+05    4.61e+05\n",
      "STATE_New York, NY 10012                   4.366e+05    2.2e+05      1.981      0.048    4485.704    8.69e+05\n",
      "STATE_New York, NY 10013                   7.605e-07   5.61e-07      1.354      0.176   -3.41e-07    1.86e-06\n",
      "STATE_New York, NY 10014                   2.054e+04   2.03e+05      0.101      0.920   -3.78e+05     4.2e+05\n",
      "STATE_New York, NY 10016                   8.018e+04   2.01e+05      0.400      0.689   -3.13e+05    4.73e+05\n",
      "STATE_New York, NY 10017                  -2.979e+04   2.06e+05     -0.145      0.885   -4.33e+05    3.74e+05\n",
      "STATE_New York, NY 10018                  -7.914e+04   2.72e+05     -0.291      0.771   -6.12e+05    4.54e+05\n",
      "STATE_New York, NY 10019                   4.301e+04   2.07e+05      0.208      0.835   -3.63e+05    4.49e+05\n",
      "STATE_New York, NY 10021                   1.228e+04   2.06e+05      0.060      0.952   -3.91e+05    4.15e+05\n",
      "STATE_New York, NY 10022                   4.583e+04   2.01e+05      0.228      0.820   -3.49e+05     4.4e+05\n",
      "STATE_New York, NY 10023                   3.646e+04   2.09e+05      0.174      0.862   -3.74e+05    4.47e+05\n",
      "STATE_New York, NY 10024                   2.447e+04   2.12e+05      0.116      0.908   -3.91e+05     4.4e+05\n",
      "STATE_New York, NY 10025                   5.143e+04   2.14e+05      0.240      0.810   -3.69e+05    4.72e+05\n",
      "STATE_New York, NY 10026                   -6.32e+04   2.36e+05     -0.268      0.789   -5.26e+05       4e+05\n",
      "STATE_New York, NY 10027                   1.709e+05   2.21e+05      0.774      0.439   -2.62e+05    6.04e+05\n",
      "STATE_New York, NY 10028                     2.6e+05   2.07e+05      1.255      0.210   -1.46e+05    6.66e+05\n",
      "STATE_New York, NY 10029                   1.016e+05   2.14e+05      0.475      0.635   -3.17e+05    5.21e+05\n",
      "STATE_New York, NY 10030                   1.299e+05   2.31e+05      0.561      0.575   -3.24e+05    5.83e+05\n",
      "STATE_New York, NY 10031                  -2.091e+04   2.31e+05     -0.090      0.928   -4.74e+05    4.32e+05\n",
      "STATE_New York, NY 10032                     1.5e+05   2.39e+05      0.627      0.531   -3.19e+05    6.19e+05\n",
      "STATE_New York, NY 10033                   1.003e+05   2.36e+05      0.424      0.671   -3.63e+05    5.64e+05\n",
      "STATE_New York, NY 10034                   1.605e+05   2.47e+05      0.650      0.516   -3.24e+05    6.45e+05\n",
      "STATE_New York, NY 10035                   2.275e+05   2.45e+05      0.930      0.353   -2.52e+05    7.07e+05\n",
      "STATE_New York, NY 10036                  -1.108e+05   2.12e+05     -0.522      0.602   -5.27e+05    3.06e+05\n",
      "STATE_New York, NY 10037                   8.026e+04   2.38e+05      0.337      0.736   -3.87e+05    5.48e+05\n",
      "STATE_New York, NY 10038                   1.488e+05   2.18e+05      0.683      0.495   -2.79e+05    5.76e+05\n",
      "STATE_New York, NY 10039                   2.085e+04   2.53e+05      0.082      0.934   -4.75e+05    5.17e+05\n",
      "STATE_New York, NY 10040                   6.291e+04   2.47e+05      0.255      0.799   -4.22e+05    5.48e+05\n",
      "STATE_New York, NY 10044                   6853.0389    2.4e+05      0.029      0.977   -4.63e+05    4.77e+05\n",
      "STATE_New York, NY 10065                    -7.2e+04   2.06e+05     -0.349      0.727   -4.77e+05    3.33e+05\n",
      "STATE_New York, NY 10069                  -2.508e+05   2.85e+05     -0.879      0.379    -8.1e+05    3.09e+05\n",
      "STATE_New York, NY 10075                   1.924e+05   2.18e+05      0.883      0.377   -2.35e+05     6.2e+05\n",
      "STATE_New York, NY 10128                    3.99e+04   2.07e+05      0.193      0.847   -3.66e+05    4.46e+05\n",
      "STATE_New York, NY 10280                  -1.557e+05   2.66e+05     -0.585      0.558   -6.77e+05    3.66e+05\n",
      "STATE_New York, NY 10282                  -2.483e-07   1.19e-06     -0.208      0.835   -2.59e-06    2.09e-06\n",
      "STATE_New York, NY 10314                   1.049e+05   2.91e+05      0.360      0.719   -4.66e+05    6.76e+05\n",
      "STATE_New York, NY 10463                   7.694e+04      3e+05      0.256      0.798   -5.12e+05    6.66e+05\n",
      "STATE_New York, NY 11101                  -1.071e+05   2.51e+05     -0.427      0.670   -5.99e+05    3.85e+05\n",
      "STATE_New York, NY 11223                  -8.681e-08   3.02e-07     -0.288      0.774   -6.78e-07    5.05e-07\n",
      "STATE_Ny, NY 10017                         1.533e+05   2.72e+05      0.563      0.573    -3.8e+05    6.87e+05\n",
      "STATE_Ny, NY 11221                         7.952e+05   3.26e+05      2.438      0.015    1.56e+05    1.43e+06\n",
      "STATE_Nyc, NY 10029                        2.119e+05   2.79e+05      0.759      0.448   -3.36e+05    7.59e+05\n",
      "STATE_Nyc, NY 10465                        6.891e+04   2.81e+05      0.245      0.806   -4.83e+05     6.2e+05\n",
      "STATE_Old Mill Basin, NY 11234             1.385e+05   2.02e+05      0.685      0.493   -2.58e+05    5.35e+05\n",
      "STATE_Ozone Park, NY 11416                -7.237e+04   2.32e+05     -0.312      0.755   -5.28e+05    3.83e+05\n",
      "STATE_Ozone Park, NY 11417                -9.302e+04   1.56e+05     -0.598      0.550   -3.98e+05    2.12e+05\n",
      "STATE_Prospect Lefferts Gardens, NY 11225  1.154e+05   1.29e+05      0.894      0.371   -1.38e+05    3.68e+05\n",
      "STATE_Queens Village, NY 11427            -1.454e+05   1.75e+05     -0.829      0.407   -4.89e+05    1.99e+05\n",
      "STATE_Queens Village, NY 11429            -1.018e+05   1.58e+05     -0.645      0.519   -4.11e+05    2.08e+05\n",
      "STATE_Queens, NY 11101                    -1.299e+05   1.85e+05     -0.701      0.483   -4.93e+05    2.33e+05\n",
      "STATE_Queens, NY 11102                     -1.43e+05   2.05e+05     -0.699      0.485   -5.44e+05    2.58e+05\n",
      "STATE_Queens, NY 11104                     6.699e+04   2.47e+05      0.271      0.786   -4.17e+05    5.51e+05\n",
      "STATE_Queens, NY 11105                      3.48e+04   2.52e+05      0.138      0.890    -4.6e+05     5.3e+05\n",
      "STATE_Queens, NY 11106                    -1.973e+04   1.96e+05     -0.101      0.920   -4.05e+05    3.65e+05\n",
      "STATE_Queens, NY 11354                     9.617e+04   2.06e+05      0.466      0.641   -3.09e+05    5.01e+05\n",
      "STATE_Queens, NY 11355                    -1.485e+04   2.42e+05     -0.061      0.951   -4.89e+05    4.59e+05\n",
      "STATE_Queens, NY 11356                     7.237e+04   2.52e+05      0.287      0.774   -4.21e+05    5.66e+05\n",
      "STATE_Queens, NY 11360                    -9.169e-10   2.63e-07     -0.003      0.997   -5.17e-07    5.15e-07\n",
      "STATE_Queens, NY 11366                    -8.474e+04   2.34e+05     -0.361      0.718   -5.44e+05    3.75e+05\n",
      "STATE_Queens, NY 11367                    -1.242e+04   2.37e+05     -0.052      0.958   -4.77e+05    4.52e+05\n",
      "STATE_Queens, NY 11368                      2.79e-07    9.6e-07      0.291      0.771    -1.6e-06    2.16e-06\n",
      "STATE_Queens, NY 11372                    -3.563e+04   1.71e+05     -0.208      0.835   -3.72e+05    3.01e+05\n",
      "STATE_Queens, NY 11373                    -1.839e+05   2.44e+05     -0.754      0.451   -6.62e+05    2.94e+05\n",
      "STATE_Queens, NY 11374                     3.196e+04   1.79e+05      0.178      0.859    -3.2e+05    3.84e+05\n",
      "STATE_Queens, NY 11375                     3.328e+04   1.58e+05      0.211      0.833   -2.76e+05    3.43e+05\n",
      "STATE_Queens, NY 11377                     9.894e-08   9.05e-07      0.109      0.913   -1.67e-06    1.87e-06\n",
      "STATE_Queens, NY 11385                    -2.715e+05    2.4e+05     -1.133      0.257   -7.41e+05    1.98e+05\n",
      "STATE_Queens, NY 11412                     4.133e-07   9.06e-07      0.456      0.648   -1.36e-06    2.19e-06\n",
      "STATE_Queens, NY 11413                    -2.114e+05   1.89e+05     -1.120      0.263   -5.81e+05    1.59e+05\n",
      "STATE_Queens, NY 11415                     1.177e+05   1.95e+05      0.602      0.547   -2.65e+05    5.01e+05\n",
      "STATE_Queens, NY 11426                    -1.913e+05   2.37e+05     -0.807      0.420   -6.56e+05    2.73e+05\n",
      "STATE_Queens, NY 11427                     8.073e+04   2.34e+05      0.345      0.730   -3.79e+05     5.4e+05\n",
      "STATE_Queens, NY 11429                    -8.253e+04   2.33e+05     -0.354      0.723   -5.39e+05    3.74e+05\n",
      "STATE_Queens, NY 11694                    -9.728e+04   1.84e+05     -0.529      0.597   -4.58e+05    2.63e+05\n",
      "STATE_Queens, NY 11697                     -7.49e+04    2.3e+05     -0.326      0.745   -5.26e+05    3.76e+05\n",
      "STATE_Rego Park, NY 11374                  -1.99e+04   1.56e+05     -0.128      0.899   -3.26e+05    2.86e+05\n",
      "STATE_Richmond Hill South, NY 11419       -1.196e+05   1.91e+05     -0.625      0.532   -4.95e+05    2.56e+05\n",
      "STATE_Richmond Hill, NY 11418             -2.738e+04   1.56e+05     -0.175      0.861   -3.34e+05    2.79e+05\n",
      "STATE_Richmond Hill, NY 11419             -6.426e+04   2.31e+05     -0.278      0.781   -5.18e+05    3.89e+05\n",
      "STATE_Ridgewood, NY 11385                  3.485e+04   1.73e+05      0.202      0.840   -3.03e+05    3.73e+05\n",
      "STATE_Rockaway Park, NY 11694             -5.289e+04   1.44e+05     -0.368      0.713   -3.35e+05    2.29e+05\n",
      "STATE_Roosevelt Island, NY 10044           9.646e+04    2.7e+05      0.358      0.721   -4.32e+05    6.25e+05\n",
      "STATE_Rosedale, NY 11422                  -4.404e+04   1.65e+05     -0.266      0.790   -3.68e+05     2.8e+05\n",
      "STATE_Saint Albans, NY 11412              -1.092e+05    1.5e+05     -0.730      0.466   -4.03e+05    1.84e+05\n",
      "STATE_South Ozone Park, NY 11420          -8.297e+04   1.46e+05     -0.568      0.570   -3.69e+05    2.03e+05\n",
      "STATE_South Ozone Park, NY 11436          -1.523e+05   2.28e+05     -0.668      0.504   -5.99e+05    2.95e+05\n",
      "STATE_Springfield Gardens, NY 11413        -1.02e+05   1.55e+05     -0.656      0.512   -4.07e+05    2.03e+05\n",
      "STATE_Staten Island, NY 10301              1.482e+05   2.15e+05      0.688      0.492   -2.74e+05    5.71e+05\n",
      "STATE_Staten Island, NY 10302              1.174e+05    2.3e+05      0.510      0.610   -3.34e+05    5.69e+05\n",
      "STATE_Staten Island, NY 10303              8.551e+04    2.3e+05      0.372      0.710   -3.66e+05    5.37e+05\n",
      "STATE_Staten Island, NY 10304              1.125e+05   2.13e+05      0.529      0.597   -3.04e+05    5.29e+05\n",
      "STATE_Staten Island, NY 10305              1.224e+05   2.09e+05      0.586      0.558   -2.87e+05    5.32e+05\n",
      "STATE_Staten Island, NY 10306              8.043e+04   2.14e+05      0.376      0.707   -3.39e+05    4.99e+05\n",
      "STATE_Staten Island, NY 10307              4.279e+04   2.49e+05      0.172      0.863   -4.45e+05     5.3e+05\n",
      "STATE_Staten Island, NY 10308              4.323e+04   2.23e+05      0.194      0.846   -3.93e+05     4.8e+05\n",
      "STATE_Staten Island, NY 10309             -2938.4340   2.36e+05     -0.012      0.990   -4.65e+05    4.59e+05\n",
      "STATE_Staten Island, NY 10310              2.218e+04   2.22e+05      0.100      0.920   -4.13e+05    4.58e+05\n",
      "STATE_Staten Island, NY 10312               6.13e+04   2.27e+05      0.270      0.787   -3.84e+05    5.06e+05\n",
      "STATE_Staten Island, NY 10314              4.976e+04   2.24e+05      0.222      0.824   -3.89e+05    4.89e+05\n",
      "STATE_Sunnyside, NY 11104                  7.392e+04   1.97e+05      0.375      0.708   -3.13e+05    4.61e+05\n",
      "STATE_Whitestone, NY 11357                  1.22e+05   1.72e+05      0.711      0.477   -2.15e+05    4.59e+05\n",
      "STATE_Woodhaven, NY 11421                 -9.632e+04   1.52e+05     -0.632      0.528   -3.95e+05    2.03e+05\n",
      "STATE_Woodside, NY 11377                   1.576e+04   1.68e+05      0.094      0.925   -3.14e+05    3.46e+05\n",
      "SUBLOCALITY_Brooklyn                        1.22e+04   1.09e+05      0.112      0.911   -2.02e+05    2.26e+05\n",
      "SUBLOCALITY_Brooklyn Heights               -9.86e+04   2.16e+05     -0.457      0.647   -5.21e+05    3.24e+05\n",
      "SUBLOCALITY_Coney Island                   5.222e+04   1.58e+05      0.332      0.740   -2.57e+05    3.61e+05\n",
      "SUBLOCALITY_East Bronx                    -9.065e-11   6.91e-11     -1.312      0.190   -2.26e-10    4.48e-11\n",
      "SUBLOCALITY_Flushing                       1.954e+05   1.55e+05      1.262      0.207   -1.08e+05    4.99e+05\n",
      "SUBLOCALITY_Fort Hamilton                 -1.583e+05   2.14e+05     -0.738      0.460   -5.79e+05    2.62e+05\n",
      "SUBLOCALITY_Jackson Heights                1.446e+05   2.21e+05      0.655      0.512   -2.88e+05    5.77e+05\n",
      "SUBLOCALITY_Kings County                    6.17e+04   1.07e+05      0.576      0.565   -1.49e+05    2.72e+05\n",
      "SUBLOCALITY_Manhattan                      1.037e+05   1.01e+05      1.028      0.304   -9.42e+04    3.02e+05\n",
      "SUBLOCALITY_New York                       9.577e+04   7.99e+04      1.198      0.231   -6.09e+04    2.52e+05\n",
      "SUBLOCALITY_New York County                8.622e+04   8.59e+04      1.004      0.316   -8.22e+04    2.55e+05\n",
      "SUBLOCALITY_Queens                         1.116e+05   1.12e+05      0.995      0.320   -1.08e+05    3.32e+05\n",
      "SUBLOCALITY_Queens County                  1.501e+05   1.11e+05      1.350      0.177    -6.8e+04    3.68e+05\n",
      "SUBLOCALITY_Rego Park                      4.288e+05   2.16e+05      1.981      0.048    4308.259    8.53e+05\n",
      "SUBLOCALITY_Richmond County               -9.608e+04   1.24e+05     -0.778      0.437   -3.38e+05    1.46e+05\n",
      "SUBLOCALITY_Riverdale                     -3.732e+04   1.34e+05     -0.279      0.780      -3e+05    2.25e+05\n",
      "SUBLOCALITY_Snyder Avenue                  1.154e+05   1.29e+05      0.894      0.371   -1.38e+05    3.68e+05\n",
      "SUBLOCALITY_Staten Island                  7.233e+04   1.29e+05      0.561      0.575   -1.81e+05    3.25e+05\n",
      "SUBLOCALITY_The Bronx                      1.232e+05   2.93e+04      4.206      0.000    6.57e+04    1.81e+05\n",
      "PRICE_PER_SQFT                             1314.8301     16.019     82.080      0.000    1283.419    1346.241\n",
      "BATHS_PER_BED                             -1.096e+05   2.55e+04     -4.296      0.000    -1.6e+05   -5.96e+04\n",
      "BEDS_PER_SQFT                             -7.117e+07   5.71e+06    -12.461      0.000   -8.24e+07      -6e+07\n",
      "==============================================================================\n",
      "Omnibus:                      513.964   Durbin-Watson:                   2.069\n",
      "Prob(Omnibus):                  0.000   Jarque-Bera (JB):             8121.475\n",
      "Skew:                          -0.341   Prob(JB):                         0.00\n",
      "Kurtosis:                      11.136   Cond. No.                     2.24e+21\n",
      "==============================================================================\n",
      "\n",
      "Notes:\n",
      "[1] Standard Errors assume that the covariance matrix of the errors is correctly specified.\n",
      "[2] The smallest eigenvalue is 1.95e-33. This might indicate that there are\n",
      "strong multicollinearity problems or that the design matrix is singular.\n",
      "\n",
      "==================================================\n",
      "Resumen para Lasso (alpha=0.1) - Datos Procesados (Lasso/Ridge)\n",
      "==================================================\n",
      "Nota: statsmodels no soporta summary directo para Lasso/Ridge\n",
      "                               Variable   Coeficiente   Importancia\n",
      "331                       BEDS_PER_SQFT -7.085896e+07  7.085896e+07\n",
      "247                  STATE_Ny, NY 11221  7.601445e+05  7.601445e+05\n",
      "25   STATE_Bedford Stuyvesant, NY 11206  6.985316e+05  6.985316e+05\n",
      "3                              LATITUDE -5.865376e+05  5.865376e+05\n",
      "5                      TYPE_Coming Soon -5.502240e+05  5.502240e+05\n",
      "..                                  ...           ...           ...\n",
      "274              STATE_Queens, NY 11412  0.000000e+00  0.000000e+00\n",
      "113        STATE_Far Rockaway, NY 11697  0.000000e+00  0.000000e+00\n",
      "133             STATE_Jamaica, NY 11421  0.000000e+00  0.000000e+00\n",
      "264              STATE_Queens, NY 11360  0.000000e+00  0.000000e+00\n",
      "267              STATE_Queens, NY 11368  0.000000e+00  0.000000e+00\n",
      "\n",
      "[332 rows x 3 columns]\n",
      "\n",
      "Intercepto: 4501554.40\n",
      "\n",
      "==================================================\n",
      "Resumen para Ridge (alpha=1.0) - Datos Procesados (Lasso/Ridge)\n",
      "==================================================\n",
      "Nota: statsmodels no soporta summary directo para Lasso/Ridge\n",
      "                               Variable    Coeficiente    Importancia\n",
      "208            STATE_New York, NY 10012  300899.846343  300899.846343\n",
      "25   STATE_Bedford Stuyvesant, NY 11206  286040.768946  286040.768946\n",
      "44                STATE_Bronx, NY 10460 -233109.135887  233109.135887\n",
      "10                     TYPE_Foreclosure -225054.747167  225054.747167\n",
      "12                   TYPE_Land for sale -224900.212263  224900.212263\n",
      "..                                  ...            ...            ...\n",
      "245            STATE_New York, NY 11223       0.000000       0.000000\n",
      "272              STATE_Queens, NY 11377       0.000000       0.000000\n",
      "267              STATE_Queens, NY 11368       0.000000       0.000000\n",
      "274              STATE_Queens, NY 11412       0.000000       0.000000\n",
      "264              STATE_Queens, NY 11360       0.000000       0.000000\n",
      "\n",
      "[332 rows x 3 columns]\n",
      "\n",
      "Intercepto: -8706796.19\n"
     ]
    },
    {
     "name": "stderr",
     "output_type": "stream",
     "text": [
      "/usr/local/lib/python3.11/dist-packages/sklearn/linear_model/_coordinate_descent.py:695: ConvergenceWarning: Objective did not converge. You might want to increase the number of iterations, check the scale of the features or consider increasing regularisation. Duality gap: 3.965e+13, tolerance: 8.623e+10\n",
      "  model = cd_fast.enet_coordinate_descent(\n"
     ]
    }
   ],
   "source": [
    "# Convertir columnas  con 'object'\n",
    "for col in X_train_proc.select_dtypes(include=['object']).columns:\n",
    "    X_train_proc[col] = pd.to_numeric(X_train_proc[col], errors='coerce')\n",
    "    X_test_proc[col] = pd.to_numeric(X_test_proc[col], errors='coerce')\n",
    "\n",
    "# Complete los valores NaN (si los hay) con una estrategia adecuada, por ejemplo, media o mediana\n",
    "X_train_proc = X_train_proc.fillna(X_train_proc.mean())\n",
    "X_test_proc = X_test_proc.fillna(X_test_proc.mean())\n",
    "\n",
    "# Aseguramos de que todas las columnas sean numéricas convirtiéndolas explícitamente a valores de punto flotante.\n",
    "# Esto garantiza que, incluso si algunos valores no son numéricos (por ejemplo, cadenas), se gestionen correctamente (se convertirán a NaN y luego se rellenarán con 0).\n",
    "for col in X_train_proc.columns:\n",
    "    X_train_proc[col] = X_train_proc[col].astype(float)\n",
    "    X_test_proc[col] = X_test_proc[col].astype(float)\n",
    "\n",
    "for name, model in models.items():\n",
    "    metrics = train_and_evaluate_model(model, X_train_proc, X_test_proc, y_train_proc, y_test_proc, f\"{name} - Datos Procesados\")\n",
    "    results.append({\"Modelo\": name + \" - Procesado\", **metrics})"
   ]
  },
  {
   "cell_type": "markdown",
   "metadata": {
    "id": "CxlY9LL6Eagf"
   },
   "source": [
    "#  Métricas de comparación"
   ]
  },
  {
   "cell_type": "code",
   "execution_count": null,
   "metadata": {
    "colab": {
     "background_save": true
    },
    "id": "5CZUVfuP2kpx"
   },
   "outputs": [
    {
     "name": "stdout",
     "output_type": "stream",
     "text": [
      "                                  Modelo   MAE_Train  RMSE_Train  R2_Train  \\\n",
      "0   Regresión Lineal Múltiple - Original  1523920.80  4569869.64      0.23   \n",
      "1           Lasso (alpha=0.1) - Original  1523920.78  4569869.64      0.23   \n",
      "2           Ridge (alpha=1.0) - Original  1523889.76  4569869.64      0.23   \n",
      "3   Regresión Lineal Múltiple - Original  1523920.80  4569869.64      0.23   \n",
      "4           Lasso (alpha=0.1) - Original  1523920.78  4569869.64      0.23   \n",
      "5           Ridge (alpha=1.0) - Original  1523889.76  4569869.64      0.23   \n",
      "6  Regresión Lineal Múltiple - Procesado   118718.86   172334.53      0.90   \n",
      "7          Lasso (alpha=0.1) - Procesado   118718.47   172335.96      0.90   \n",
      "8          Ridge (alpha=1.0) - Procesado   124039.01   178457.91      0.89   \n",
      "\n",
      "     MAE_Test    RMSE_Test  R2_Test  \n",
      "0  3636602.94  69045474.86     0.01  \n",
      "1  3636602.92  69045474.86     0.01  \n",
      "2  3636569.94  69045474.92     0.01  \n",
      "3  3636602.94  69045474.86     0.01  \n",
      "4  3636602.92  69045474.86     0.01  \n",
      "5  3636569.94  69045474.92     0.01  \n",
      "6   137135.57    191074.38     0.87  \n",
      "7   137384.05    191302.76     0.87  \n",
      "8   139845.84    193119.89     0.86  \n"
     ]
    }
   ],
   "source": [
    "results_df = pd.DataFrame(results)\n",
    "print(round(results_df,2))"
   ]
  },
  {
   "cell_type": "markdown",
   "metadata": {
    "id": "USvEJO38Pz8t"
   },
   "source": [
    "+  Comparación en entrenamiento\n",
    "\n",
    "\n",
    "|Modelo | R2  |  MAD  | RMSE |\n",
    "|:------:|:----:|:----:|:----:|\n",
    "| Tradicional|  23\\% |1523920.80 | 4569869.64 |\n",
    "| Lasso    |  23\\% |1523920.78 | 4569869.64 |\n",
    "| Ridge    |  23\\% |1523889.76 | 4569869.64 |\n",
    "\n",
    "\n",
    "+  Comparación en entrenamiento (datos procesados)\n",
    "\n",
    "\n",
    "|Modelo | R2  |  MAD  | RMSE |\n",
    "|:------:|:----:|:----:|:----:|\n",
    "| Tradicional|  90\\% |118718.86 | 172334.53|\n",
    "| Lasso    |  90\\% |118718.47 | 172335.96  |\n",
    "| Ridge    |  89\\% |124039.01 |   178457.91 |\n",
    "\n",
    "\n",
    "+  Comparación en prueba\n",
    "\n",
    "\n",
    "|Modelo | R2  |  MAD  | RMSE |\n",
    "|:------:|:----:|:----:|:----:|\n",
    "| Tradicional|  1\\% |3636602.94 |  69045474.86 |\n",
    "| Lasso    |  1\\% |3636602.92 |  69045474.86 |\n",
    "| Ridge    |  1\\% |3636569.94 | 69045474.92 |\n",
    "\n",
    "\n",
    "+  Comparación en prueba (datos procesados)\n",
    "\n",
    "\n",
    "|Modelo | R2  |  MAD  | RMSE |\n",
    "|:------:|:----:|:----:|:----:|\n",
    "| Tradicional|  87\\% |137135.57 |   191074.38 |\n",
    "| Lasso    |  87\\% |118718.47 | 172335.96  |\n",
    "| Ridge    |  86\\% |124039.01 |   178457.91 |"
   ]
  },
  {
   "cell_type": "markdown",
   "metadata": {
    "id": "v90GYsBrEtLg"
   },
   "source": [
    "# Exportar a HTML"
   ]
  },
  {
   "cell_type": "code",
   "execution_count": null,
   "metadata": {
    "colab": {
     "background_save": true
    },
    "id": "Syj_qtSoBaHy"
   },
   "outputs": [
    {
     "name": "stdout",
     "output_type": "stream",
     "text": [
      "[NbConvertApp] Converting notebook /content/drive/MyDrive/Colab Notebooks/Copia de Ejemplo_Viviendas.ipynb to html\n",
      "[NbConvertApp] Writing 396772 bytes to /content/drive/MyDrive/Colab Notebooks/Copia de Ejemplo_Viviendas.html\n",
      "❌ Error: No se pudo generar Copia de Ejemplo_Viviendas.html\n"
     ]
    }
   ],
   "source": [
    "from google.colab import files\n",
    "import os\n",
    "\n",
    "# Ruta CORRECTA del notebook en Google Drive (asegúrate de que coincida con tu estructura)\n",
    "notebook_path = '/content/drive/MyDrive/Colab Notebooks/Copia de Ejemplo_Viviendas.ipynb'\n",
    "\n",
    "# Verifica si el archivo existe antes de convertirlo\n",
    "if not os.path.exists(notebook_path):\n",
    "    raise FileNotFoundError(f\"El archivo no existe en la ruta: {notebook_path}\")\n",
    "\n",
    "# 1. Convertir el notebook a HTML\n",
    "!jupyter nbconvert --to html '{notebook_path}'\n",
    "\n",
    "# 2. Obtener la ruta del archivo HTML generado (auto-detecta el nombre)\n",
    "html_filename = os.path.splitext(os.path.basename(notebook_path))[0] + '.html'\n",
    "html_path = f'/content/MyDrive/Colab Notebooks/{html_filename}'\n",
    "\n",
    "# 3. Descargar el archivo (con verificación)\n",
    "if os.path.exists(html_path):\n",
    "    files.download(html_path)\n",
    "    print(f\"✅ Archivo descargado: {html_filename}\")\n",
    "else:\n",
    "    print(f\"❌ Error: No se pudo generar {html_filename}\")"
   ]
  },
  {
   "cell_type": "markdown",
   "metadata": {
    "id": "WmepWSppCFz7"
   },
   "source": [
    "**Gracias:**\n",
    "dbermudezr1@ucentral.edu.co"
   ]
  }
 ],
 "metadata": {
  "colab": {
   "name": "",
   "provenance": [
    {
     "file_id": "1tPPw95M0eCwZKUjWIX4prD3ZhVfoiX3g",
     "timestamp": 1743800503091
    },
    {
     "file_id": "1QdEsU3ap-9M00Z-R6WHQAAkL9FbZnZpr",
     "timestamp": 1743471703744
    }
   ],
   "toc_visible": true,
   "version": ""
  },
  "kernelspec": {
   "display_name": "Python 3",
   "name": "python3"
  },
  "language_info": {
   "name": "python",
   "version": "3.12.9"
  }
 },
 "nbformat": 4,
 "nbformat_minor": 0
}
