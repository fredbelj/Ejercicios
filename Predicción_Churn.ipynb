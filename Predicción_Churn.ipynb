{
 "cells": [
  {
   "cell_type": "markdown",
   "metadata": {
    "id": "7v6_gYDAynRF"
   },
   "source": [
    "# Universidad Central\n",
    "\n",
    "\n",
    "##  Curso Transformación Digital a través de la Inteligencia Artificial\n",
    "\n",
    "## ***Predicción de la Rotación de Clientes (Churn) en una Empresa de Telecomunicaciones***"
   ]
  },
  {
   "cell_type": "markdown",
   "metadata": {
    "id": "tnSIXjSifbpF"
   },
   "source": [
    "\n",
    "# **1. Planteamiento del Problema**\n",
    "\n",
    "+ **Descripción:** En el sector de telecomunicaciones, la\n",
    "retención de clientes es clave para la sostenibilidad del negocio. La capacidad de predecir qué clientes están en riesgo de abandonar permite a la empresa tomar decisiones proactivas, como por ejemplo ofrecer promociones específicas o mejorar la calidad del servicio.\n",
    "\n",
    "+ **Objetivo del Proyecto:** Desarrollar un modelo de predicción que permita identificar clientes con alta probabilidad de abandonar los servicios de una empresa de telecomunicaciones (*churn*), utilizando datos históricos y técnicas aprendidas durante el curso. Este proyecto integrará preprocesamiento de datos, análisis exploratorio, diseño y evaluación de modelos, y una presentación estructurada de los resultados.\n"
   ]
  },
  {
   "cell_type": "markdown",
   "metadata": {
    "id": "p5ERedA3_wRP"
   },
   "source": [
    "## **1.1 Preparación del entorno**\n",
    "\n",
    "+ ###  Importar librerías\n"
   ]
  },
  {
   "cell_type": "code",
   "execution_count": 10,
   "metadata": {
    "colab": {
     "base_uri": "https://localhost:8080/",
     "height": 443
    },
    "executionInfo": {
     "elapsed": 1055,
     "status": "ok",
     "timestamp": 1744125731127,
     "user": {
      "displayName": "FREDDY EDUARDO BELMONTE JIMENEZ",
      "userId": "00976306916371609228"
     },
     "user_tz": 300
    },
    "id": "VjbUKP-Eea1v",
    "outputId": "82b3df0f-4837-4da9-ec95-229a39839a37"
   },
   "outputs": [],
   "source": [
    "# montar drive\n",
    "#from google.colab import drive #: Integración con Google Drive\n",
    "\n",
    "#Importación de librerías\n",
    "import pandas as pd  #Manipulación y análisis de datos estructurados (similar a Excel en Python).\n",
    "import matplotlib.pyplot as plt # Gráficos de barras, dispersión,...\n",
    "import seaborn as sns # Visualización estadística\n",
    "import matplotlib.ticker as ticke\n",
    "import matplotlib.pyplot as plt\n",
    "import matplotlib.image as mpimg  # ¡Esta línea faltaba!\n",
    "# drive.mount('/content/drive') # Acceder a google Drive desde Colab\n",
    "# img_path = '/content/drive/MyDrive/ProyectoIA/img/la-satisfaccion-del-cliente.gif'\n",
    "# img = mpimg.imread(img_path)\n",
    "# plt.imshow(img)\n",
    "# plt.axis('off')  # Oculta los ejes\n",
    "# plt.show()"
   ]
  },
  {
   "cell_type": "markdown",
   "metadata": {
    "id": "yYR-iNoekEf8"
   },
   "source": [
    "# **2. Exploración y Preprocesamiento de Datos**\n"
   ]
  },
  {
   "cell_type": "markdown",
   "metadata": {
    "id": "RN6Tvp51Y-pt"
   },
   "source": [
    "## 2.1 Análisis Exploraotrios"
   ]
  },
  {
   "cell_type": "markdown",
   "metadata": {
    "id": "WxX2KmaEzl3U"
   },
   "source": [
    "###  Lectura de los datos"
   ]
  },
  {
   "cell_type": "code",
   "execution_count": 11,
   "metadata": {
    "id": "xi7Hs_9F5Y_N"
   },
   "outputs": [],
   "source": [
    "# Cargar el conjunto de datos\n",
    "# archivo = \"/content/drive/MyDrive/ProyectoIA/WA_Fn-UseC_-Telco-Customer-Churn.csv\" #Ruta donde se encuentra almacenada la información\n",
    "archivo = \"./WA_Fn-UseC_-Telco-Customer-Churn.csv\" #Ruta donde se encuentra almacenada la información\n",
    "df = pd.read_csv(archivo)"
   ]
  },
  {
   "cell_type": "markdown",
   "metadata": {
    "id": "sBeXFoJUidOw"
   },
   "source": [
    "###Acerca del conjunto de datos\n",
    "\n",
    "#### **Contexto**\n",
    "\n",
    "Predecir el comportamiento para fidelizar a los clientes. Puede analizar todos los datos relevantes de los clientes y desarrollar programas de fidelización específicos. **[Conjuntos de datos de muestra de IBM]**\n",
    "\n",
    "#### **Contenido**\n",
    "\n",
    "Cada fila representa un cliente, cada columna contiene los atributos del cliente descritos en la columna Metadatos.\n",
    "\n",
    "***El conjunto de datos incluye información sobre:***\n",
    "\n",
    "+ Clientes que se fueron durante el último mes: la columna se llama **Churn**\n",
    "\n",
    "+ Servicios a los que se ha suscrito cada cliente: teléfono, líneas múltiples, Internet, seguridad en línea, copia de seguridad en línea, protección de dispositivos, soporte técnico y transmisión de TV y películas.\n",
    "\n",
    "+ Información de la cuenta del cliente: cuánto tiempo ha sido cliente, contrato, método de pago, facturación electrónica, cargos mensuales y cargos totales\n",
    "\n",
    "+ Información demográfica sobre los clientes: género, rango de edad y si tienen parejas y dependientes.\n",
    "\n",
    "*https://www.kaggle.com/datasets/blastchar/telco-customer-churn*"
   ]
  },
  {
   "cell_type": "markdown",
   "metadata": {
    "id": "EcVWEq3VGr4T"
   },
   "source": [
    "### Información General de los Datos\n",
    "\n",
    "Del resultado de la función ***.info*** se obtiene la siguiente información del conjunto de datos a analizar\n",
    "\n",
    "1.  Contiene 7043 filas (**Registros**)\n",
    "2.  Contiene 1 elemento tipo float64\n",
    "3.  Contiene 2 elementos tipo int64\n",
    "4.  Contiene 18 elementos tipo object (*string*)\n",
    "5.  Contiene 21 columnas\n",
    "6.  No tiene valores null\n",
    "\n"
   ]
  },
  {
   "cell_type": "code",
   "execution_count": 12,
   "metadata": {
    "colab": {
     "base_uri": "https://localhost:8080/"
    },
    "executionInfo": {
     "elapsed": 46,
     "status": "ok",
     "timestamp": 1744125721971,
     "user": {
      "displayName": "FREDDY EDUARDO BELMONTE JIMENEZ",
      "userId": "00976306916371609228"
     },
     "user_tz": 300
    },
    "id": "aCtVPLt-B_8C",
    "outputId": "19bf7223-403c-49b6-d0c2-8e9647c9b966"
   },
   "outputs": [
    {
     "name": "stdout",
     "output_type": "stream",
     "text": [
      "<class 'pandas.core.frame.DataFrame'>\n",
      "RangeIndex: 7043 entries, 0 to 7042\n",
      "Data columns (total 21 columns):\n",
      " #   Column            Non-Null Count  Dtype  \n",
      "---  ------            --------------  -----  \n",
      " 0   customerID        7043 non-null   object \n",
      " 1   gender            7043 non-null   object \n",
      " 2   SeniorCitizen     7043 non-null   int64  \n",
      " 3   Partner           7043 non-null   object \n",
      " 4   Dependents        7043 non-null   object \n",
      " 5   tenure            7043 non-null   int64  \n",
      " 6   PhoneService      7043 non-null   object \n",
      " 7   MultipleLines     7043 non-null   object \n",
      " 8   InternetService   7043 non-null   object \n",
      " 9   OnlineSecurity    7043 non-null   object \n",
      " 10  OnlineBackup      7043 non-null   object \n",
      " 11  DeviceProtection  7043 non-null   object \n",
      " 12  TechSupport       7043 non-null   object \n",
      " 13  StreamingTV       7043 non-null   object \n",
      " 14  StreamingMovies   7043 non-null   object \n",
      " 15  Contract          7043 non-null   object \n",
      " 16  PaperlessBilling  7043 non-null   object \n",
      " 17  PaymentMethod     7043 non-null   object \n",
      " 18  MonthlyCharges    7043 non-null   float64\n",
      " 19  TotalCharges      7043 non-null   object \n",
      " 20  Churn             7043 non-null   object \n",
      "dtypes: float64(1), int64(2), object(18)\n",
      "memory usage: 1.1+ MB\n"
     ]
    }
   ],
   "source": [
    "df.info()"
   ]
  },
  {
   "cell_type": "code",
   "execution_count": 13,
   "metadata": {
    "colab": {
     "base_uri": "https://localhost:8080/"
    },
    "executionInfo": {
     "elapsed": 48,
     "status": "ok",
     "timestamp": 1744129318285,
     "user": {
      "displayName": "FREDDY EDUARDO BELMONTE JIMENEZ",
      "userId": "00976306916371609228"
     },
     "user_tz": 300
    },
    "id": "DlL0Kd2qmfv6",
    "outputId": "981deca7-ed61-48a8-b9bc-6add5ae97ec9"
   },
   "outputs": [
    {
     "name": "stdout",
     "output_type": "stream",
     "text": [
      "                  Non-Null Count  Null Count Data Type\n",
      "customerID                  7043           0    object\n",
      "gender                      7043           0    object\n",
      "SeniorCitizen               7043           0     int64\n",
      "Partner                     7043           0    object\n",
      "Dependents                  7043           0    object\n",
      "tenure                      7043           0     int64\n",
      "PhoneService                7043           0    object\n",
      "MultipleLines               7043           0    object\n",
      "InternetService             7043           0    object\n",
      "OnlineSecurity              7043           0    object\n",
      "OnlineBackup                7043           0    object\n",
      "DeviceProtection            7043           0    object\n",
      "TechSupport                 7043           0    object\n",
      "StreamingTV                 7043           0    object\n",
      "StreamingMovies             7043           0    object\n",
      "Contract                    7043           0    object\n",
      "PaperlessBilling            7043           0    object\n",
      "PaymentMethod               7043           0    object\n",
      "MonthlyCharges              7043           0   float64\n",
      "TotalCharges                7043           0    object\n",
      "Churn                       7043           0    object\n"
     ]
    }
   ],
   "source": [
    "# Crear una tabla que combine información de las columnas y valores nulos\n",
    "summary = pd.DataFrame({\n",
    "    'Non-Null Count': df.notnull().sum(),\n",
    "    'Null Count': df.isnull().sum(),\n",
    "    'Data Type': df.dtypes\n",
    "})\n",
    "\n",
    "# Mostrar el resultado\n",
    "print(summary)"
   ]
  },
  {
   "cell_type": "code",
   "execution_count": 14,
   "metadata": {
    "colab": {
     "base_uri": "https://localhost:8080/",
     "height": 727
    },
    "executionInfo": {
     "elapsed": 41,
     "status": "ok",
     "timestamp": 1744130121664,
     "user": {
      "displayName": "FREDDY EDUARDO BELMONTE JIMENEZ",
      "userId": "00976306916371609228"
     },
     "user_tz": 300
    },
    "id": "OyUhWjUbQRkB",
    "outputId": "1652c310-ed54-4ee0-8b3d-002a7513c5eb"
   },
   "outputs": [
    {
     "data": {
      "text/plain": [
       "customerID          0\n",
       "gender              0\n",
       "SeniorCitizen       0\n",
       "Partner             0\n",
       "Dependents          0\n",
       "tenure              0\n",
       "PhoneService        0\n",
       "MultipleLines       0\n",
       "InternetService     0\n",
       "OnlineSecurity      0\n",
       "OnlineBackup        0\n",
       "DeviceProtection    0\n",
       "TechSupport         0\n",
       "StreamingTV         0\n",
       "StreamingMovies     0\n",
       "Contract            0\n",
       "PaperlessBilling    0\n",
       "PaymentMethod       0\n",
       "MonthlyCharges      0\n",
       "TotalCharges        0\n",
       "Churn               0\n",
       "dtype: int64"
      ]
     },
     "execution_count": 14,
     "metadata": {},
     "output_type": "execute_result"
    }
   ],
   "source": [
    "df.isnull().sum()"
   ]
  },
  {
   "cell_type": "markdown",
   "metadata": {
    "id": "9HGHiM2p5GxW"
   },
   "source": [
    "### Variables\n",
    "\n",
    "+ **customerID:**\n",
    "+ **gender',\n",
    "+ 'SeniorCitizen',\n",
    "+ 'Partner',\n",
    "+ 'Dependents',\n",
    "+ 'tenure',\n",
    "+ 'PhoneService',\n",
    "+ 'MultipleLines',\n",
    "+ 'InternetService',\n",
    "+ 'OnlineSecurity',\n",
    "+ 'OnlineBackup',\n",
    " 'DeviceProtection',\n",
    " 'TechSupport',\n",
    " 'StreamingTV',\n",
    " 'StreamingMovies',\n",
    " 'Contract',\n",
    " 'PaperlessBilling',\n",
    " 'PaymentMethod',\n",
    " 'MonthlyCharges',\n",
    " 'TotalCharges',\n",
    " 'Churn'\n",
    "\n",
    "\n",
    "------------------------------\n",
    "\n"
   ]
  },
  {
   "cell_type": "code",
   "execution_count": null,
   "metadata": {
    "colab": {
     "base_uri": "https://localhost:8080/",
     "height": 342
    },
    "executionInfo": {
     "elapsed": 91,
     "status": "ok",
     "timestamp": 1744125722077,
     "user": {
      "displayName": "FREDDY EDUARDO BELMONTE JIMENEZ",
      "userId": "00976306916371609228"
     },
     "user_tz": 300
    },
    "id": "JeZl7fY-6jne",
    "outputId": "a9e20b14-20b4-466b-e859-a306bfa4e82a"
   },
   "outputs": [
    {
     "data": {
      "application/vnd.google.colaboratory.intrinsic+json": {
       "type": "dataframe",
       "variable_name": "df"
      },
      "text/html": [
       "\n",
       "  <div id=\"df-41b63a31-af50-4893-8a25-2580c456ee12\" class=\"colab-df-container\">\n",
       "    <div>\n",
       "<style scoped>\n",
       "    .dataframe tbody tr th:only-of-type {\n",
       "        vertical-align: middle;\n",
       "    }\n",
       "\n",
       "    .dataframe tbody tr th {\n",
       "        vertical-align: top;\n",
       "    }\n",
       "\n",
       "    .dataframe thead th {\n",
       "        text-align: right;\n",
       "    }\n",
       "</style>\n",
       "<table border=\"1\" class=\"dataframe\">\n",
       "  <thead>\n",
       "    <tr style=\"text-align: right;\">\n",
       "      <th></th>\n",
       "      <th>customerID</th>\n",
       "      <th>gender</th>\n",
       "      <th>SeniorCitizen</th>\n",
       "      <th>Partner</th>\n",
       "      <th>Dependents</th>\n",
       "      <th>tenure</th>\n",
       "      <th>PhoneService</th>\n",
       "      <th>MultipleLines</th>\n",
       "      <th>InternetService</th>\n",
       "      <th>OnlineSecurity</th>\n",
       "      <th>...</th>\n",
       "      <th>DeviceProtection</th>\n",
       "      <th>TechSupport</th>\n",
       "      <th>StreamingTV</th>\n",
       "      <th>StreamingMovies</th>\n",
       "      <th>Contract</th>\n",
       "      <th>PaperlessBilling</th>\n",
       "      <th>PaymentMethod</th>\n",
       "      <th>MonthlyCharges</th>\n",
       "      <th>TotalCharges</th>\n",
       "      <th>Churn</th>\n",
       "    </tr>\n",
       "  </thead>\n",
       "  <tbody>\n",
       "    <tr>\n",
       "      <th>0</th>\n",
       "      <td>7590-VHVEG</td>\n",
       "      <td>Female</td>\n",
       "      <td>0</td>\n",
       "      <td>Yes</td>\n",
       "      <td>No</td>\n",
       "      <td>1</td>\n",
       "      <td>No</td>\n",
       "      <td>No phone service</td>\n",
       "      <td>DSL</td>\n",
       "      <td>No</td>\n",
       "      <td>...</td>\n",
       "      <td>No</td>\n",
       "      <td>No</td>\n",
       "      <td>No</td>\n",
       "      <td>No</td>\n",
       "      <td>Month-to-month</td>\n",
       "      <td>Yes</td>\n",
       "      <td>Electronic check</td>\n",
       "      <td>29.85</td>\n",
       "      <td>29.85</td>\n",
       "      <td>No</td>\n",
       "    </tr>\n",
       "    <tr>\n",
       "      <th>1</th>\n",
       "      <td>5575-GNVDE</td>\n",
       "      <td>Male</td>\n",
       "      <td>0</td>\n",
       "      <td>No</td>\n",
       "      <td>No</td>\n",
       "      <td>34</td>\n",
       "      <td>Yes</td>\n",
       "      <td>No</td>\n",
       "      <td>DSL</td>\n",
       "      <td>Yes</td>\n",
       "      <td>...</td>\n",
       "      <td>Yes</td>\n",
       "      <td>No</td>\n",
       "      <td>No</td>\n",
       "      <td>No</td>\n",
       "      <td>One year</td>\n",
       "      <td>No</td>\n",
       "      <td>Mailed check</td>\n",
       "      <td>56.95</td>\n",
       "      <td>1889.5</td>\n",
       "      <td>No</td>\n",
       "    </tr>\n",
       "    <tr>\n",
       "      <th>2</th>\n",
       "      <td>3668-QPYBK</td>\n",
       "      <td>Male</td>\n",
       "      <td>0</td>\n",
       "      <td>No</td>\n",
       "      <td>No</td>\n",
       "      <td>2</td>\n",
       "      <td>Yes</td>\n",
       "      <td>No</td>\n",
       "      <td>DSL</td>\n",
       "      <td>Yes</td>\n",
       "      <td>...</td>\n",
       "      <td>No</td>\n",
       "      <td>No</td>\n",
       "      <td>No</td>\n",
       "      <td>No</td>\n",
       "      <td>Month-to-month</td>\n",
       "      <td>Yes</td>\n",
       "      <td>Mailed check</td>\n",
       "      <td>53.85</td>\n",
       "      <td>108.15</td>\n",
       "      <td>Yes</td>\n",
       "    </tr>\n",
       "    <tr>\n",
       "      <th>3</th>\n",
       "      <td>7795-CFOCW</td>\n",
       "      <td>Male</td>\n",
       "      <td>0</td>\n",
       "      <td>No</td>\n",
       "      <td>No</td>\n",
       "      <td>45</td>\n",
       "      <td>No</td>\n",
       "      <td>No phone service</td>\n",
       "      <td>DSL</td>\n",
       "      <td>Yes</td>\n",
       "      <td>...</td>\n",
       "      <td>Yes</td>\n",
       "      <td>Yes</td>\n",
       "      <td>No</td>\n",
       "      <td>No</td>\n",
       "      <td>One year</td>\n",
       "      <td>No</td>\n",
       "      <td>Bank transfer (automatic)</td>\n",
       "      <td>42.30</td>\n",
       "      <td>1840.75</td>\n",
       "      <td>No</td>\n",
       "    </tr>\n",
       "    <tr>\n",
       "      <th>4</th>\n",
       "      <td>9237-HQITU</td>\n",
       "      <td>Female</td>\n",
       "      <td>0</td>\n",
       "      <td>No</td>\n",
       "      <td>No</td>\n",
       "      <td>2</td>\n",
       "      <td>Yes</td>\n",
       "      <td>No</td>\n",
       "      <td>Fiber optic</td>\n",
       "      <td>No</td>\n",
       "      <td>...</td>\n",
       "      <td>No</td>\n",
       "      <td>No</td>\n",
       "      <td>No</td>\n",
       "      <td>No</td>\n",
       "      <td>Month-to-month</td>\n",
       "      <td>Yes</td>\n",
       "      <td>Electronic check</td>\n",
       "      <td>70.70</td>\n",
       "      <td>151.65</td>\n",
       "      <td>Yes</td>\n",
       "    </tr>\n",
       "  </tbody>\n",
       "</table>\n",
       "<p>5 rows × 21 columns</p>\n",
       "</div>\n",
       "    <div class=\"colab-df-buttons\">\n",
       "\n",
       "  <div class=\"colab-df-container\">\n",
       "    <button class=\"colab-df-convert\" onclick=\"convertToInteractive('df-41b63a31-af50-4893-8a25-2580c456ee12')\"\n",
       "            title=\"Convert this dataframe to an interactive table.\"\n",
       "            style=\"display:none;\">\n",
       "\n",
       "  <svg xmlns=\"http://www.w3.org/2000/svg\" height=\"24px\" viewBox=\"0 -960 960 960\">\n",
       "    <path d=\"M120-120v-720h720v720H120Zm60-500h600v-160H180v160Zm220 220h160v-160H400v160Zm0 220h160v-160H400v160ZM180-400h160v-160H180v160Zm440 0h160v-160H620v160ZM180-180h160v-160H180v160Zm440 0h160v-160H620v160Z\"/>\n",
       "  </svg>\n",
       "    </button>\n",
       "\n",
       "  <style>\n",
       "    .colab-df-container {\n",
       "      display:flex;\n",
       "      gap: 12px;\n",
       "    }\n",
       "\n",
       "    .colab-df-convert {\n",
       "      background-color: #E8F0FE;\n",
       "      border: none;\n",
       "      border-radius: 50%;\n",
       "      cursor: pointer;\n",
       "      display: none;\n",
       "      fill: #1967D2;\n",
       "      height: 32px;\n",
       "      padding: 0 0 0 0;\n",
       "      width: 32px;\n",
       "    }\n",
       "\n",
       "    .colab-df-convert:hover {\n",
       "      background-color: #E2EBFA;\n",
       "      box-shadow: 0px 1px 2px rgba(60, 64, 67, 0.3), 0px 1px 3px 1px rgba(60, 64, 67, 0.15);\n",
       "      fill: #174EA6;\n",
       "    }\n",
       "\n",
       "    .colab-df-buttons div {\n",
       "      margin-bottom: 4px;\n",
       "    }\n",
       "\n",
       "    [theme=dark] .colab-df-convert {\n",
       "      background-color: #3B4455;\n",
       "      fill: #D2E3FC;\n",
       "    }\n",
       "\n",
       "    [theme=dark] .colab-df-convert:hover {\n",
       "      background-color: #434B5C;\n",
       "      box-shadow: 0px 1px 3px 1px rgba(0, 0, 0, 0.15);\n",
       "      filter: drop-shadow(0px 1px 2px rgba(0, 0, 0, 0.3));\n",
       "      fill: #FFFFFF;\n",
       "    }\n",
       "  </style>\n",
       "\n",
       "    <script>\n",
       "      const buttonEl =\n",
       "        document.querySelector('#df-41b63a31-af50-4893-8a25-2580c456ee12 button.colab-df-convert');\n",
       "      buttonEl.style.display =\n",
       "        google.colab.kernel.accessAllowed ? 'block' : 'none';\n",
       "\n",
       "      async function convertToInteractive(key) {\n",
       "        const element = document.querySelector('#df-41b63a31-af50-4893-8a25-2580c456ee12');\n",
       "        const dataTable =\n",
       "          await google.colab.kernel.invokeFunction('convertToInteractive',\n",
       "                                                    [key], {});\n",
       "        if (!dataTable) return;\n",
       "\n",
       "        const docLinkHtml = 'Like what you see? Visit the ' +\n",
       "          '<a target=\"_blank\" href=https://colab.research.google.com/notebooks/data_table.ipynb>data table notebook</a>'\n",
       "          + ' to learn more about interactive tables.';\n",
       "        element.innerHTML = '';\n",
       "        dataTable['output_type'] = 'display_data';\n",
       "        await google.colab.output.renderOutput(dataTable, element);\n",
       "        const docLink = document.createElement('div');\n",
       "        docLink.innerHTML = docLinkHtml;\n",
       "        element.appendChild(docLink);\n",
       "      }\n",
       "    </script>\n",
       "  </div>\n",
       "\n",
       "\n",
       "<div id=\"df-c9917003-8d72-448f-8984-6b3ddadeca7d\">\n",
       "  <button class=\"colab-df-quickchart\" onclick=\"quickchart('df-c9917003-8d72-448f-8984-6b3ddadeca7d')\"\n",
       "            title=\"Suggest charts\"\n",
       "            style=\"display:none;\">\n",
       "\n",
       "<svg xmlns=\"http://www.w3.org/2000/svg\" height=\"24px\"viewBox=\"0 0 24 24\"\n",
       "     width=\"24px\">\n",
       "    <g>\n",
       "        <path d=\"M19 3H5c-1.1 0-2 .9-2 2v14c0 1.1.9 2 2 2h14c1.1 0 2-.9 2-2V5c0-1.1-.9-2-2-2zM9 17H7v-7h2v7zm4 0h-2V7h2v10zm4 0h-2v-4h2v4z\"/>\n",
       "    </g>\n",
       "</svg>\n",
       "  </button>\n",
       "\n",
       "<style>\n",
       "  .colab-df-quickchart {\n",
       "      --bg-color: #E8F0FE;\n",
       "      --fill-color: #1967D2;\n",
       "      --hover-bg-color: #E2EBFA;\n",
       "      --hover-fill-color: #174EA6;\n",
       "      --disabled-fill-color: #AAA;\n",
       "      --disabled-bg-color: #DDD;\n",
       "  }\n",
       "\n",
       "  [theme=dark] .colab-df-quickchart {\n",
       "      --bg-color: #3B4455;\n",
       "      --fill-color: #D2E3FC;\n",
       "      --hover-bg-color: #434B5C;\n",
       "      --hover-fill-color: #FFFFFF;\n",
       "      --disabled-bg-color: #3B4455;\n",
       "      --disabled-fill-color: #666;\n",
       "  }\n",
       "\n",
       "  .colab-df-quickchart {\n",
       "    background-color: var(--bg-color);\n",
       "    border: none;\n",
       "    border-radius: 50%;\n",
       "    cursor: pointer;\n",
       "    display: none;\n",
       "    fill: var(--fill-color);\n",
       "    height: 32px;\n",
       "    padding: 0;\n",
       "    width: 32px;\n",
       "  }\n",
       "\n",
       "  .colab-df-quickchart:hover {\n",
       "    background-color: var(--hover-bg-color);\n",
       "    box-shadow: 0 1px 2px rgba(60, 64, 67, 0.3), 0 1px 3px 1px rgba(60, 64, 67, 0.15);\n",
       "    fill: var(--button-hover-fill-color);\n",
       "  }\n",
       "\n",
       "  .colab-df-quickchart-complete:disabled,\n",
       "  .colab-df-quickchart-complete:disabled:hover {\n",
       "    background-color: var(--disabled-bg-color);\n",
       "    fill: var(--disabled-fill-color);\n",
       "    box-shadow: none;\n",
       "  }\n",
       "\n",
       "  .colab-df-spinner {\n",
       "    border: 2px solid var(--fill-color);\n",
       "    border-color: transparent;\n",
       "    border-bottom-color: var(--fill-color);\n",
       "    animation:\n",
       "      spin 1s steps(1) infinite;\n",
       "  }\n",
       "\n",
       "  @keyframes spin {\n",
       "    0% {\n",
       "      border-color: transparent;\n",
       "      border-bottom-color: var(--fill-color);\n",
       "      border-left-color: var(--fill-color);\n",
       "    }\n",
       "    20% {\n",
       "      border-color: transparent;\n",
       "      border-left-color: var(--fill-color);\n",
       "      border-top-color: var(--fill-color);\n",
       "    }\n",
       "    30% {\n",
       "      border-color: transparent;\n",
       "      border-left-color: var(--fill-color);\n",
       "      border-top-color: var(--fill-color);\n",
       "      border-right-color: var(--fill-color);\n",
       "    }\n",
       "    40% {\n",
       "      border-color: transparent;\n",
       "      border-right-color: var(--fill-color);\n",
       "      border-top-color: var(--fill-color);\n",
       "    }\n",
       "    60% {\n",
       "      border-color: transparent;\n",
       "      border-right-color: var(--fill-color);\n",
       "    }\n",
       "    80% {\n",
       "      border-color: transparent;\n",
       "      border-right-color: var(--fill-color);\n",
       "      border-bottom-color: var(--fill-color);\n",
       "    }\n",
       "    90% {\n",
       "      border-color: transparent;\n",
       "      border-bottom-color: var(--fill-color);\n",
       "    }\n",
       "  }\n",
       "</style>\n",
       "\n",
       "  <script>\n",
       "    async function quickchart(key) {\n",
       "      const quickchartButtonEl =\n",
       "        document.querySelector('#' + key + ' button');\n",
       "      quickchartButtonEl.disabled = true;  // To prevent multiple clicks.\n",
       "      quickchartButtonEl.classList.add('colab-df-spinner');\n",
       "      try {\n",
       "        const charts = await google.colab.kernel.invokeFunction(\n",
       "            'suggestCharts', [key], {});\n",
       "      } catch (error) {\n",
       "        console.error('Error during call to suggestCharts:', error);\n",
       "      }\n",
       "      quickchartButtonEl.classList.remove('colab-df-spinner');\n",
       "      quickchartButtonEl.classList.add('colab-df-quickchart-complete');\n",
       "    }\n",
       "    (() => {\n",
       "      let quickchartButtonEl =\n",
       "        document.querySelector('#df-c9917003-8d72-448f-8984-6b3ddadeca7d button');\n",
       "      quickchartButtonEl.style.display =\n",
       "        google.colab.kernel.accessAllowed ? 'block' : 'none';\n",
       "    })();\n",
       "  </script>\n",
       "</div>\n",
       "\n",
       "    </div>\n",
       "  </div>\n"
      ],
      "text/plain": [
       "   customerID  gender  SeniorCitizen Partner Dependents  tenure PhoneService  \\\n",
       "0  7590-VHVEG  Female              0     Yes         No       1           No   \n",
       "1  5575-GNVDE    Male              0      No         No      34          Yes   \n",
       "2  3668-QPYBK    Male              0      No         No       2          Yes   \n",
       "3  7795-CFOCW    Male              0      No         No      45           No   \n",
       "4  9237-HQITU  Female              0      No         No       2          Yes   \n",
       "\n",
       "      MultipleLines InternetService OnlineSecurity  ... DeviceProtection  \\\n",
       "0  No phone service             DSL             No  ...               No   \n",
       "1                No             DSL            Yes  ...              Yes   \n",
       "2                No             DSL            Yes  ...               No   \n",
       "3  No phone service             DSL            Yes  ...              Yes   \n",
       "4                No     Fiber optic             No  ...               No   \n",
       "\n",
       "  TechSupport StreamingTV StreamingMovies        Contract PaperlessBilling  \\\n",
       "0          No          No              No  Month-to-month              Yes   \n",
       "1          No          No              No        One year               No   \n",
       "2          No          No              No  Month-to-month              Yes   \n",
       "3         Yes          No              No        One year               No   \n",
       "4          No          No              No  Month-to-month              Yes   \n",
       "\n",
       "               PaymentMethod MonthlyCharges  TotalCharges Churn  \n",
       "0           Electronic check          29.85         29.85    No  \n",
       "1               Mailed check          56.95        1889.5    No  \n",
       "2               Mailed check          53.85        108.15   Yes  \n",
       "3  Bank transfer (automatic)          42.30       1840.75    No  \n",
       "4           Electronic check          70.70        151.65   Yes  \n",
       "\n",
       "[5 rows x 21 columns]"
      ]
     },
     "execution_count": 13,
     "metadata": {},
     "output_type": "execute_result"
    }
   ],
   "source": [
    "#Ver los 5 primeros registros del conjunto de datos\n",
    "df.head(5)"
   ]
  },
  {
   "cell_type": "markdown",
   "metadata": {
    "id": "8BpKFsKJwAiA"
   },
   "source": [
    "#  Identificación de la Tipología de Variables y Valores Faltantes"
   ]
  },
  {
   "cell_type": "code",
   "execution_count": null,
   "metadata": {
    "colab": {
     "base_uri": "https://localhost:8080/"
    },
    "executionInfo": {
     "elapsed": 26,
     "status": "ok",
     "timestamp": 1744125722082,
     "user": {
      "displayName": "FREDDY EDUARDO BELMONTE JIMENEZ",
      "userId": "00976306916371609228"
     },
     "user_tz": 300
    },
    "id": "u57WeTouYnVx",
    "outputId": "c21cb89a-d967-47ca-c6d8-3906c2ab891a"
   },
   "outputs": [
    {
     "name": "stdout",
     "output_type": "stream",
     "text": [
      "Duplicated Rows: 0\n",
      "                 Data Type  Missing Values\n",
      "customerID          object               0\n",
      "gender              object               0\n",
      "SeniorCitizen        int64               0\n",
      "Partner             object               0\n",
      "Dependents          object               0\n",
      "tenure               int64               0\n",
      "PhoneService        object               0\n",
      "MultipleLines       object               0\n",
      "InternetService     object               0\n",
      "OnlineSecurity      object               0\n",
      "OnlineBackup        object               0\n",
      "DeviceProtection    object               0\n",
      "TechSupport         object               0\n",
      "StreamingTV         object               0\n",
      "StreamingMovies     object               0\n",
      "Contract            object               0\n",
      "PaperlessBilling    object               0\n",
      "PaymentMethod       object               0\n",
      "MonthlyCharges     float64               0\n",
      "TotalCharges        object               0\n",
      "Churn               object               0\n"
     ]
    }
   ],
   "source": [
    "\n",
    "data_types = df.dtypes\n",
    "missing_values = df.isnull().sum()\n",
    "duplicates = df.duplicated().sum()\n",
    "\n",
    "summary = pd.DataFrame({\n",
    "    \"Data Type\": data_types,\n",
    "    \"Missing Values\": missing_values\n",
    "}).sort_values(by=\"Missing Values\", ascending=False)\n",
    "\n",
    "print(\"Duplicated Rows:\", duplicates)\n",
    "print(summary)\n",
    "\n"
   ]
  },
  {
   "cell_type": "markdown",
   "metadata": {
    "id": "-D260PW086yi"
   },
   "source": [
    "# **Análisis descriptivo**\n",
    "\n",
    "\n",
    "+  Informe general de los datos\n",
    "\n"
   ]
  },
  {
   "cell_type": "code",
   "execution_count": null,
   "metadata": {
    "colab": {
     "base_uri": "https://localhost:8080/"
    },
    "executionInfo": {
     "elapsed": 138,
     "status": "ok",
     "timestamp": 1744125722221,
     "user": {
      "displayName": "FREDDY EDUARDO BELMONTE JIMENEZ",
      "userId": "00976306916371609228"
     },
     "user_tz": 300
    },
    "id": "xQHQgrlu0pbh",
    "outputId": "130686e4-f62e-410a-c815-82c2404fe7e7"
   },
   "outputs": [
    {
     "name": "stdout",
     "output_type": "stream",
     "text": [
      "\n",
      "Información del dataset:\n",
      "<class 'pandas.core.frame.DataFrame'>\n",
      "RangeIndex: 7043 entries, 0 to 7042\n",
      "Data columns (total 21 columns):\n",
      " #   Column            Non-Null Count  Dtype  \n",
      "---  ------            --------------  -----  \n",
      " 0   customerID        7043 non-null   object \n",
      " 1   gender            7043 non-null   object \n",
      " 2   SeniorCitizen     7043 non-null   int64  \n",
      " 3   Partner           7043 non-null   object \n",
      " 4   Dependents        7043 non-null   object \n",
      " 5   tenure            7043 non-null   int64  \n",
      " 6   PhoneService      7043 non-null   object \n",
      " 7   MultipleLines     7043 non-null   object \n",
      " 8   InternetService   7043 non-null   object \n",
      " 9   OnlineSecurity    7043 non-null   object \n",
      " 10  OnlineBackup      7043 non-null   object \n",
      " 11  DeviceProtection  7043 non-null   object \n",
      " 12  TechSupport       7043 non-null   object \n",
      " 13  StreamingTV       7043 non-null   object \n",
      " 14  StreamingMovies   7043 non-null   object \n",
      " 15  Contract          7043 non-null   object \n",
      " 16  PaperlessBilling  7043 non-null   object \n",
      " 17  PaymentMethod     7043 non-null   object \n",
      " 18  MonthlyCharges    7043 non-null   float64\n",
      " 19  TotalCharges      7043 non-null   object \n",
      " 20  Churn             7043 non-null   object \n",
      "dtypes: float64(1), int64(2), object(18)\n",
      "memory usage: 1.1+ MB\n"
     ]
    },
    {
     "data": {
      "text/plain": [
       "(7043, 21)"
      ]
     },
     "execution_count": 15,
     "metadata": {},
     "output_type": "execute_result"
    }
   ],
   "source": [
    "print(\"\\nInformación del dataset:\")\n",
    "df.info()\n",
    "df.shape"
   ]
  },
  {
   "cell_type": "markdown",
   "metadata": {
    "id": "U0ccA_lo130D"
   },
   "source": [
    "## Estadísticas descriptivas"
   ]
  },
  {
   "cell_type": "code",
   "execution_count": null,
   "metadata": {
    "colab": {
     "base_uri": "https://localhost:8080/",
     "height": 334
    },
    "executionInfo": {
     "elapsed": 25,
     "status": "ok",
     "timestamp": 1744125722248,
     "user": {
      "displayName": "FREDDY EDUARDO BELMONTE JIMENEZ",
      "userId": "00976306916371609228"
     },
     "user_tz": 300
    },
    "id": "x2aQ_Xl11qhv",
    "outputId": "7716c05e-b386-4cb9-f665-766f87842d04"
   },
   "outputs": [
    {
     "name": "stdout",
     "output_type": "stream",
     "text": [
      "\n",
      "Estadísticas descriptivas:\n"
     ]
    },
    {
     "data": {
      "application/vnd.google.colaboratory.intrinsic+json": {
       "summary": "{\n  \"name\": \"df\",\n  \"rows\": 8,\n  \"fields\": [\n    {\n      \"column\": \"SeniorCitizen\",\n      \"properties\": {\n        \"dtype\": \"number\",\n        \"std\": 2489.999238628475,\n        \"min\": 0.0,\n        \"max\": 7043.0,\n        \"num_unique_values\": 5,\n        \"samples\": [\n          0.16215,\n          1.0,\n          0.36861\n        ],\n        \"semantic_type\": \"\",\n        \"description\": \"\"\n      }\n    },\n    {\n      \"column\": \"tenure\",\n      \"properties\": {\n        \"dtype\": \"number\",\n        \"std\": 2478.9752758252803,\n        \"min\": 0.0,\n        \"max\": 7043.0,\n        \"num_unique_values\": 8,\n        \"samples\": [\n          32.37115,\n          29.0,\n          7043.0\n        ],\n        \"semantic_type\": \"\",\n        \"description\": \"\"\n      }\n    },\n    {\n      \"column\": \"MonthlyCharges\",\n      \"properties\": {\n        \"dtype\": \"number\",\n        \"std\": 2468.70476725574,\n        \"min\": 18.25,\n        \"max\": 7043.0,\n        \"num_unique_values\": 8,\n        \"samples\": [\n          64.76169,\n          70.35,\n          7043.0\n        ],\n        \"semantic_type\": \"\",\n        \"description\": \"\"\n      }\n    }\n  ]\n}",
       "type": "dataframe"
      },
      "text/html": [
       "\n",
       "  <div id=\"df-45bbcfef-c904-498a-b774-c9f6e1bbc53c\" class=\"colab-df-container\">\n",
       "    <div>\n",
       "<style scoped>\n",
       "    .dataframe tbody tr th:only-of-type {\n",
       "        vertical-align: middle;\n",
       "    }\n",
       "\n",
       "    .dataframe tbody tr th {\n",
       "        vertical-align: top;\n",
       "    }\n",
       "\n",
       "    .dataframe thead th {\n",
       "        text-align: right;\n",
       "    }\n",
       "</style>\n",
       "<table border=\"1\" class=\"dataframe\">\n",
       "  <thead>\n",
       "    <tr style=\"text-align: right;\">\n",
       "      <th></th>\n",
       "      <th>SeniorCitizen</th>\n",
       "      <th>tenure</th>\n",
       "      <th>MonthlyCharges</th>\n",
       "    </tr>\n",
       "  </thead>\n",
       "  <tbody>\n",
       "    <tr>\n",
       "      <th>count</th>\n",
       "      <td>7043.00000</td>\n",
       "      <td>7043.00000</td>\n",
       "      <td>7043.00000</td>\n",
       "    </tr>\n",
       "    <tr>\n",
       "      <th>mean</th>\n",
       "      <td>0.16215</td>\n",
       "      <td>32.37115</td>\n",
       "      <td>64.76169</td>\n",
       "    </tr>\n",
       "    <tr>\n",
       "      <th>std</th>\n",
       "      <td>0.36861</td>\n",
       "      <td>24.55948</td>\n",
       "      <td>30.09005</td>\n",
       "    </tr>\n",
       "    <tr>\n",
       "      <th>min</th>\n",
       "      <td>0.00000</td>\n",
       "      <td>0.00000</td>\n",
       "      <td>18.25000</td>\n",
       "    </tr>\n",
       "    <tr>\n",
       "      <th>25%</th>\n",
       "      <td>0.00000</td>\n",
       "      <td>9.00000</td>\n",
       "      <td>35.50000</td>\n",
       "    </tr>\n",
       "    <tr>\n",
       "      <th>50%</th>\n",
       "      <td>0.00000</td>\n",
       "      <td>29.00000</td>\n",
       "      <td>70.35000</td>\n",
       "    </tr>\n",
       "    <tr>\n",
       "      <th>75%</th>\n",
       "      <td>0.00000</td>\n",
       "      <td>55.00000</td>\n",
       "      <td>89.85000</td>\n",
       "    </tr>\n",
       "    <tr>\n",
       "      <th>max</th>\n",
       "      <td>1.00000</td>\n",
       "      <td>72.00000</td>\n",
       "      <td>118.75000</td>\n",
       "    </tr>\n",
       "  </tbody>\n",
       "</table>\n",
       "</div>\n",
       "    <div class=\"colab-df-buttons\">\n",
       "\n",
       "  <div class=\"colab-df-container\">\n",
       "    <button class=\"colab-df-convert\" onclick=\"convertToInteractive('df-45bbcfef-c904-498a-b774-c9f6e1bbc53c')\"\n",
       "            title=\"Convert this dataframe to an interactive table.\"\n",
       "            style=\"display:none;\">\n",
       "\n",
       "  <svg xmlns=\"http://www.w3.org/2000/svg\" height=\"24px\" viewBox=\"0 -960 960 960\">\n",
       "    <path d=\"M120-120v-720h720v720H120Zm60-500h600v-160H180v160Zm220 220h160v-160H400v160Zm0 220h160v-160H400v160ZM180-400h160v-160H180v160Zm440 0h160v-160H620v160ZM180-180h160v-160H180v160Zm440 0h160v-160H620v160Z\"/>\n",
       "  </svg>\n",
       "    </button>\n",
       "\n",
       "  <style>\n",
       "    .colab-df-container {\n",
       "      display:flex;\n",
       "      gap: 12px;\n",
       "    }\n",
       "\n",
       "    .colab-df-convert {\n",
       "      background-color: #E8F0FE;\n",
       "      border: none;\n",
       "      border-radius: 50%;\n",
       "      cursor: pointer;\n",
       "      display: none;\n",
       "      fill: #1967D2;\n",
       "      height: 32px;\n",
       "      padding: 0 0 0 0;\n",
       "      width: 32px;\n",
       "    }\n",
       "\n",
       "    .colab-df-convert:hover {\n",
       "      background-color: #E2EBFA;\n",
       "      box-shadow: 0px 1px 2px rgba(60, 64, 67, 0.3), 0px 1px 3px 1px rgba(60, 64, 67, 0.15);\n",
       "      fill: #174EA6;\n",
       "    }\n",
       "\n",
       "    .colab-df-buttons div {\n",
       "      margin-bottom: 4px;\n",
       "    }\n",
       "\n",
       "    [theme=dark] .colab-df-convert {\n",
       "      background-color: #3B4455;\n",
       "      fill: #D2E3FC;\n",
       "    }\n",
       "\n",
       "    [theme=dark] .colab-df-convert:hover {\n",
       "      background-color: #434B5C;\n",
       "      box-shadow: 0px 1px 3px 1px rgba(0, 0, 0, 0.15);\n",
       "      filter: drop-shadow(0px 1px 2px rgba(0, 0, 0, 0.3));\n",
       "      fill: #FFFFFF;\n",
       "    }\n",
       "  </style>\n",
       "\n",
       "    <script>\n",
       "      const buttonEl =\n",
       "        document.querySelector('#df-45bbcfef-c904-498a-b774-c9f6e1bbc53c button.colab-df-convert');\n",
       "      buttonEl.style.display =\n",
       "        google.colab.kernel.accessAllowed ? 'block' : 'none';\n",
       "\n",
       "      async function convertToInteractive(key) {\n",
       "        const element = document.querySelector('#df-45bbcfef-c904-498a-b774-c9f6e1bbc53c');\n",
       "        const dataTable =\n",
       "          await google.colab.kernel.invokeFunction('convertToInteractive',\n",
       "                                                    [key], {});\n",
       "        if (!dataTable) return;\n",
       "\n",
       "        const docLinkHtml = 'Like what you see? Visit the ' +\n",
       "          '<a target=\"_blank\" href=https://colab.research.google.com/notebooks/data_table.ipynb>data table notebook</a>'\n",
       "          + ' to learn more about interactive tables.';\n",
       "        element.innerHTML = '';\n",
       "        dataTable['output_type'] = 'display_data';\n",
       "        await google.colab.output.renderOutput(dataTable, element);\n",
       "        const docLink = document.createElement('div');\n",
       "        docLink.innerHTML = docLinkHtml;\n",
       "        element.appendChild(docLink);\n",
       "      }\n",
       "    </script>\n",
       "  </div>\n",
       "\n",
       "\n",
       "<div id=\"df-4aab976c-e7d8-4c4e-90ab-4bd2971466ff\">\n",
       "  <button class=\"colab-df-quickchart\" onclick=\"quickchart('df-4aab976c-e7d8-4c4e-90ab-4bd2971466ff')\"\n",
       "            title=\"Suggest charts\"\n",
       "            style=\"display:none;\">\n",
       "\n",
       "<svg xmlns=\"http://www.w3.org/2000/svg\" height=\"24px\"viewBox=\"0 0 24 24\"\n",
       "     width=\"24px\">\n",
       "    <g>\n",
       "        <path d=\"M19 3H5c-1.1 0-2 .9-2 2v14c0 1.1.9 2 2 2h14c1.1 0 2-.9 2-2V5c0-1.1-.9-2-2-2zM9 17H7v-7h2v7zm4 0h-2V7h2v10zm4 0h-2v-4h2v4z\"/>\n",
       "    </g>\n",
       "</svg>\n",
       "  </button>\n",
       "\n",
       "<style>\n",
       "  .colab-df-quickchart {\n",
       "      --bg-color: #E8F0FE;\n",
       "      --fill-color: #1967D2;\n",
       "      --hover-bg-color: #E2EBFA;\n",
       "      --hover-fill-color: #174EA6;\n",
       "      --disabled-fill-color: #AAA;\n",
       "      --disabled-bg-color: #DDD;\n",
       "  }\n",
       "\n",
       "  [theme=dark] .colab-df-quickchart {\n",
       "      --bg-color: #3B4455;\n",
       "      --fill-color: #D2E3FC;\n",
       "      --hover-bg-color: #434B5C;\n",
       "      --hover-fill-color: #FFFFFF;\n",
       "      --disabled-bg-color: #3B4455;\n",
       "      --disabled-fill-color: #666;\n",
       "  }\n",
       "\n",
       "  .colab-df-quickchart {\n",
       "    background-color: var(--bg-color);\n",
       "    border: none;\n",
       "    border-radius: 50%;\n",
       "    cursor: pointer;\n",
       "    display: none;\n",
       "    fill: var(--fill-color);\n",
       "    height: 32px;\n",
       "    padding: 0;\n",
       "    width: 32px;\n",
       "  }\n",
       "\n",
       "  .colab-df-quickchart:hover {\n",
       "    background-color: var(--hover-bg-color);\n",
       "    box-shadow: 0 1px 2px rgba(60, 64, 67, 0.3), 0 1px 3px 1px rgba(60, 64, 67, 0.15);\n",
       "    fill: var(--button-hover-fill-color);\n",
       "  }\n",
       "\n",
       "  .colab-df-quickchart-complete:disabled,\n",
       "  .colab-df-quickchart-complete:disabled:hover {\n",
       "    background-color: var(--disabled-bg-color);\n",
       "    fill: var(--disabled-fill-color);\n",
       "    box-shadow: none;\n",
       "  }\n",
       "\n",
       "  .colab-df-spinner {\n",
       "    border: 2px solid var(--fill-color);\n",
       "    border-color: transparent;\n",
       "    border-bottom-color: var(--fill-color);\n",
       "    animation:\n",
       "      spin 1s steps(1) infinite;\n",
       "  }\n",
       "\n",
       "  @keyframes spin {\n",
       "    0% {\n",
       "      border-color: transparent;\n",
       "      border-bottom-color: var(--fill-color);\n",
       "      border-left-color: var(--fill-color);\n",
       "    }\n",
       "    20% {\n",
       "      border-color: transparent;\n",
       "      border-left-color: var(--fill-color);\n",
       "      border-top-color: var(--fill-color);\n",
       "    }\n",
       "    30% {\n",
       "      border-color: transparent;\n",
       "      border-left-color: var(--fill-color);\n",
       "      border-top-color: var(--fill-color);\n",
       "      border-right-color: var(--fill-color);\n",
       "    }\n",
       "    40% {\n",
       "      border-color: transparent;\n",
       "      border-right-color: var(--fill-color);\n",
       "      border-top-color: var(--fill-color);\n",
       "    }\n",
       "    60% {\n",
       "      border-color: transparent;\n",
       "      border-right-color: var(--fill-color);\n",
       "    }\n",
       "    80% {\n",
       "      border-color: transparent;\n",
       "      border-right-color: var(--fill-color);\n",
       "      border-bottom-color: var(--fill-color);\n",
       "    }\n",
       "    90% {\n",
       "      border-color: transparent;\n",
       "      border-bottom-color: var(--fill-color);\n",
       "    }\n",
       "  }\n",
       "</style>\n",
       "\n",
       "  <script>\n",
       "    async function quickchart(key) {\n",
       "      const quickchartButtonEl =\n",
       "        document.querySelector('#' + key + ' button');\n",
       "      quickchartButtonEl.disabled = true;  // To prevent multiple clicks.\n",
       "      quickchartButtonEl.classList.add('colab-df-spinner');\n",
       "      try {\n",
       "        const charts = await google.colab.kernel.invokeFunction(\n",
       "            'suggestCharts', [key], {});\n",
       "      } catch (error) {\n",
       "        console.error('Error during call to suggestCharts:', error);\n",
       "      }\n",
       "      quickchartButtonEl.classList.remove('colab-df-spinner');\n",
       "      quickchartButtonEl.classList.add('colab-df-quickchart-complete');\n",
       "    }\n",
       "    (() => {\n",
       "      let quickchartButtonEl =\n",
       "        document.querySelector('#df-4aab976c-e7d8-4c4e-90ab-4bd2971466ff button');\n",
       "      quickchartButtonEl.style.display =\n",
       "        google.colab.kernel.accessAllowed ? 'block' : 'none';\n",
       "    })();\n",
       "  </script>\n",
       "</div>\n",
       "\n",
       "    </div>\n",
       "  </div>\n"
      ],
      "text/plain": [
       "       SeniorCitizen      tenure  MonthlyCharges\n",
       "count     7043.00000  7043.00000      7043.00000\n",
       "mean         0.16215    32.37115        64.76169\n",
       "std          0.36861    24.55948        30.09005\n",
       "min          0.00000     0.00000        18.25000\n",
       "25%          0.00000     9.00000        35.50000\n",
       "50%          0.00000    29.00000        70.35000\n",
       "75%          0.00000    55.00000        89.85000\n",
       "max          1.00000    72.00000       118.75000"
      ]
     },
     "execution_count": 16,
     "metadata": {},
     "output_type": "execute_result"
    }
   ],
   "source": [
    "print(\"\\nEstadísticas descriptivas:\")\n",
    "df.describe() .round(5)"
   ]
  },
  {
   "cell_type": "markdown",
   "metadata": {
    "id": "aW-9Shgwq_bA"
   },
   "source": [
    "+ media del área\n",
    "\n",
    "$$\\bar{x} = \\dfrac{\\sum_{i=1}^{n} x_i}{n} = 2184$$\n"
   ]
  },
  {
   "cell_type": "markdown",
   "metadata": {
    "id": "QmcLQaoj1gRl"
   },
   "source": [
    "#  Medidas de Tendencia Central, asimetría y curtosis"
   ]
  },
  {
   "cell_type": "code",
   "execution_count": null,
   "metadata": {
    "colab": {
     "base_uri": "https://localhost:8080/"
    },
    "executionInfo": {
     "elapsed": 17,
     "status": "ok",
     "timestamp": 1744125722369,
     "user": {
      "displayName": "FREDDY EDUARDO BELMONTE JIMENEZ",
      "userId": "00976306916371609228"
     },
     "user_tz": 300
    },
    "id": "kr86ij_Ty2kv",
    "outputId": "f0a6d515-a82b-4310-cc52-3940cbb7b66d"
   },
   "outputs": [
    {
     "name": "stdout",
     "output_type": "stream",
     "text": [
      "\n",
      "Medidas de tendencia central y dispersión:\n",
      "                      Mean  Median  Standard Deviation    Variance  Minimum  \\\n",
      "SeniorCitizen    0.162147    0.00            0.368612    0.135875     0.00   \n",
      "tenure          32.371149   29.00           24.559481  603.168108     0.00   \n",
      "MonthlyCharges  64.761692   70.35           30.090047  905.410934    18.25   \n",
      "\n",
      "                Maximum  Skewness  Kurtosis  \n",
      "SeniorCitizen      1.00  1.833633  1.362596  \n",
      "tenure            72.00  0.239540 -1.387372  \n",
      "MonthlyCharges   118.75 -0.220524 -1.257260  \n"
     ]
    }
   ],
   "source": [
    "\n",
    "numerical_columns = df.select_dtypes(include=[\"float64\", \"int64\"]).columns\n",
    "statistics = df[numerical_columns].agg(['mean', 'median', 'std', 'var', 'min', 'max', 'skew', 'kurt']).transpose()\n",
    "statistics.rename(columns={\n",
    "    \"mean\": \"Mean\",\n",
    "    \"median\": \"Median\",\n",
    "    \"std\": \"Standard Deviation\",\n",
    "    \"var\": \"Variance\",\n",
    "    \"min\": \"Minimum\",\n",
    "    \"max\": \"Maximum\",\n",
    "    \"skew\": \"Skewness\",\n",
    "    \"kurt\": \"Kurtosis\"\n",
    "}, inplace=True)\n",
    "\n",
    "print(\"\\nMedidas de tendencia central y dispersión:\\n\", statistics)\n",
    "\n"
   ]
  },
  {
   "cell_type": "markdown",
   "metadata": {
    "id": "kAwVFiKGucvk"
   },
   "source": [
    "+ Medidas de tendencia central: media, mediana\n",
    "\n",
    "+ Medida de dispersión: varianza, desviación estandar\n",
    "\n",
    "$$\n",
    "s^2 = \\frac{\\sum_{i=1}^n (x_i - \\bar{x})^2}{n-1}\n",
    "$$\n",
    "\n",
    "$$\n",
    "s = \\sqrt{\\frac{\\sum_{i=1}^n (x_i - \\bar{x})^2}{n-1}}\n",
    "$$"
   ]
  },
  {
   "cell_type": "markdown",
   "metadata": {
    "id": "vT0Gyz7lYJ39"
   },
   "source": [
    "#  Análisis Gráfico Univariado y Bivariado"
   ]
  },
  {
   "cell_type": "code",
   "execution_count": null,
   "metadata": {
    "colab": {
     "base_uri": "https://localhost:8080/",
     "height": 564
    },
    "executionInfo": {
     "elapsed": 17,
     "status": "error",
     "timestamp": 1744125722390,
     "user": {
      "displayName": "FREDDY EDUARDO BELMONTE JIMENEZ",
      "userId": "00976306916371609228"
     },
     "user_tz": 300
    },
    "id": "jLbHvoau2_xC",
    "outputId": "95a251fe-5e41-48c7-b532-640605a8638f"
   },
   "outputs": [
    {
     "ename": "KeyError",
     "evalue": "'PRICE'",
     "output_type": "error",
     "traceback": [
      "\u001b[0;31m---------------------------------------------------------------------------\u001b[0m",
      "\u001b[0;31mKeyError\u001b[0m                                  Traceback (most recent call last)",
      "\u001b[0;32m/usr/local/lib/python3.11/dist-packages/pandas/core/indexes/base.py\u001b[0m in \u001b[0;36mget_loc\u001b[0;34m(self, key)\u001b[0m\n\u001b[1;32m   3804\u001b[0m         \u001b[0;32mtry\u001b[0m\u001b[0;34m:\u001b[0m\u001b[0;34m\u001b[0m\u001b[0;34m\u001b[0m\u001b[0m\n\u001b[0;32m-> 3805\u001b[0;31m             \u001b[0;32mreturn\u001b[0m \u001b[0mself\u001b[0m\u001b[0;34m.\u001b[0m\u001b[0m_engine\u001b[0m\u001b[0;34m.\u001b[0m\u001b[0mget_loc\u001b[0m\u001b[0;34m(\u001b[0m\u001b[0mcasted_key\u001b[0m\u001b[0;34m)\u001b[0m\u001b[0;34m\u001b[0m\u001b[0;34m\u001b[0m\u001b[0m\n\u001b[0m\u001b[1;32m   3806\u001b[0m         \u001b[0;32mexcept\u001b[0m \u001b[0mKeyError\u001b[0m \u001b[0;32mas\u001b[0m \u001b[0merr\u001b[0m\u001b[0;34m:\u001b[0m\u001b[0;34m\u001b[0m\u001b[0;34m\u001b[0m\u001b[0m\n",
      "\u001b[0;32mindex.pyx\u001b[0m in \u001b[0;36mpandas._libs.index.IndexEngine.get_loc\u001b[0;34m()\u001b[0m\n",
      "\u001b[0;32mindex.pyx\u001b[0m in \u001b[0;36mpandas._libs.index.IndexEngine.get_loc\u001b[0;34m()\u001b[0m\n",
      "\u001b[0;32mpandas/_libs/hashtable_class_helper.pxi\u001b[0m in \u001b[0;36mpandas._libs.hashtable.PyObjectHashTable.get_item\u001b[0;34m()\u001b[0m\n",
      "\u001b[0;32mpandas/_libs/hashtable_class_helper.pxi\u001b[0m in \u001b[0;36mpandas._libs.hashtable.PyObjectHashTable.get_item\u001b[0;34m()\u001b[0m\n",
      "\u001b[0;31mKeyError\u001b[0m: 'PRICE'",
      "\nThe above exception was the direct cause of the following exception:\n",
      "\u001b[0;31mKeyError\u001b[0m                                  Traceback (most recent call last)",
      "\u001b[0;32m<ipython-input-18-b0a3d023a1f1>\u001b[0m in \u001b[0;36m<cell line: 0>\u001b[0;34m()\u001b[0m\n\u001b[1;32m      1\u001b[0m \u001b[0;31m# Análisis de precios\u001b[0m\u001b[0;34m\u001b[0m\u001b[0;34m\u001b[0m\u001b[0m\n\u001b[1;32m      2\u001b[0m \u001b[0mplt\u001b[0m\u001b[0;34m.\u001b[0m\u001b[0mfigure\u001b[0m\u001b[0;34m(\u001b[0m\u001b[0mfigsize\u001b[0m\u001b[0;34m=\u001b[0m\u001b[0;34m(\u001b[0m\u001b[0;36m12\u001b[0m\u001b[0;34m,\u001b[0m \u001b[0;36m6\u001b[0m\u001b[0;34m)\u001b[0m\u001b[0;34m)\u001b[0m\u001b[0;34m\u001b[0m\u001b[0;34m\u001b[0m\u001b[0m\n\u001b[0;32m----> 3\u001b[0;31m \u001b[0msns\u001b[0m\u001b[0;34m.\u001b[0m\u001b[0mhistplot\u001b[0m\u001b[0;34m(\u001b[0m\u001b[0mdf\u001b[0m\u001b[0;34m[\u001b[0m\u001b[0;34m'PRICE'\u001b[0m\u001b[0;34m]\u001b[0m\u001b[0;34m,\u001b[0m \u001b[0mbins\u001b[0m\u001b[0;34m=\u001b[0m\u001b[0;36m50\u001b[0m\u001b[0;34m,\u001b[0m \u001b[0mkde\u001b[0m\u001b[0;34m=\u001b[0m\u001b[0;32mTrue\u001b[0m\u001b[0;34m,\u001b[0m \u001b[0mcolor\u001b[0m\u001b[0;34m=\u001b[0m\u001b[0;34m\"#99BADD\"\u001b[0m\u001b[0;34m)\u001b[0m\u001b[0;34m\u001b[0m\u001b[0;34m\u001b[0m\u001b[0m\n\u001b[0m\u001b[1;32m      4\u001b[0m \u001b[0mplt\u001b[0m\u001b[0;34m.\u001b[0m\u001b[0mtitle\u001b[0m\u001b[0;34m(\u001b[0m\u001b[0;34m'Distribución de Precios de Propiedades'\u001b[0m\u001b[0;34m)\u001b[0m\u001b[0;34m\u001b[0m\u001b[0;34m\u001b[0m\u001b[0m\n\u001b[1;32m      5\u001b[0m \u001b[0mplt\u001b[0m\u001b[0;34m.\u001b[0m\u001b[0mxlabel\u001b[0m\u001b[0;34m(\u001b[0m\u001b[0;34m'Precio (USD)'\u001b[0m\u001b[0;34m)\u001b[0m\u001b[0;34m\u001b[0m\u001b[0;34m\u001b[0m\u001b[0m\n",
      "\u001b[0;32m/usr/local/lib/python3.11/dist-packages/pandas/core/frame.py\u001b[0m in \u001b[0;36m__getitem__\u001b[0;34m(self, key)\u001b[0m\n\u001b[1;32m   4100\u001b[0m             \u001b[0;32mif\u001b[0m \u001b[0mself\u001b[0m\u001b[0;34m.\u001b[0m\u001b[0mcolumns\u001b[0m\u001b[0;34m.\u001b[0m\u001b[0mnlevels\u001b[0m \u001b[0;34m>\u001b[0m \u001b[0;36m1\u001b[0m\u001b[0;34m:\u001b[0m\u001b[0;34m\u001b[0m\u001b[0;34m\u001b[0m\u001b[0m\n\u001b[1;32m   4101\u001b[0m                 \u001b[0;32mreturn\u001b[0m \u001b[0mself\u001b[0m\u001b[0;34m.\u001b[0m\u001b[0m_getitem_multilevel\u001b[0m\u001b[0;34m(\u001b[0m\u001b[0mkey\u001b[0m\u001b[0;34m)\u001b[0m\u001b[0;34m\u001b[0m\u001b[0;34m\u001b[0m\u001b[0m\n\u001b[0;32m-> 4102\u001b[0;31m             \u001b[0mindexer\u001b[0m \u001b[0;34m=\u001b[0m \u001b[0mself\u001b[0m\u001b[0;34m.\u001b[0m\u001b[0mcolumns\u001b[0m\u001b[0;34m.\u001b[0m\u001b[0mget_loc\u001b[0m\u001b[0;34m(\u001b[0m\u001b[0mkey\u001b[0m\u001b[0;34m)\u001b[0m\u001b[0;34m\u001b[0m\u001b[0;34m\u001b[0m\u001b[0m\n\u001b[0m\u001b[1;32m   4103\u001b[0m             \u001b[0;32mif\u001b[0m \u001b[0mis_integer\u001b[0m\u001b[0;34m(\u001b[0m\u001b[0mindexer\u001b[0m\u001b[0;34m)\u001b[0m\u001b[0;34m:\u001b[0m\u001b[0;34m\u001b[0m\u001b[0;34m\u001b[0m\u001b[0m\n\u001b[1;32m   4104\u001b[0m                 \u001b[0mindexer\u001b[0m \u001b[0;34m=\u001b[0m \u001b[0;34m[\u001b[0m\u001b[0mindexer\u001b[0m\u001b[0;34m]\u001b[0m\u001b[0;34m\u001b[0m\u001b[0;34m\u001b[0m\u001b[0m\n",
      "\u001b[0;32m/usr/local/lib/python3.11/dist-packages/pandas/core/indexes/base.py\u001b[0m in \u001b[0;36mget_loc\u001b[0;34m(self, key)\u001b[0m\n\u001b[1;32m   3810\u001b[0m             ):\n\u001b[1;32m   3811\u001b[0m                 \u001b[0;32mraise\u001b[0m \u001b[0mInvalidIndexError\u001b[0m\u001b[0;34m(\u001b[0m\u001b[0mkey\u001b[0m\u001b[0;34m)\u001b[0m\u001b[0;34m\u001b[0m\u001b[0;34m\u001b[0m\u001b[0m\n\u001b[0;32m-> 3812\u001b[0;31m             \u001b[0;32mraise\u001b[0m \u001b[0mKeyError\u001b[0m\u001b[0;34m(\u001b[0m\u001b[0mkey\u001b[0m\u001b[0;34m)\u001b[0m \u001b[0;32mfrom\u001b[0m \u001b[0merr\u001b[0m\u001b[0;34m\u001b[0m\u001b[0;34m\u001b[0m\u001b[0m\n\u001b[0m\u001b[1;32m   3813\u001b[0m         \u001b[0;32mexcept\u001b[0m \u001b[0mTypeError\u001b[0m\u001b[0;34m:\u001b[0m\u001b[0;34m\u001b[0m\u001b[0;34m\u001b[0m\u001b[0m\n\u001b[1;32m   3814\u001b[0m             \u001b[0;31m# If we have a listlike key, _check_indexing_error will raise\u001b[0m\u001b[0;34m\u001b[0m\u001b[0;34m\u001b[0m\u001b[0m\n",
      "\u001b[0;31mKeyError\u001b[0m: 'PRICE'"
     ]
    },
    {
     "data": {
      "text/plain": [
       "<Figure size 1200x600 with 0 Axes>"
      ]
     },
     "metadata": {},
     "output_type": "display_data"
    }
   ],
   "source": [
    "# Análisis de precios\n",
    "plt.figure(figsize=(12, 6))\n",
    "sns.histplot(df['PRICE'], bins=50, kde=True, color=\"#99BADD\")\n",
    "plt.title('Distribución de Precios de Propiedades')\n",
    "plt.xlabel('Precio (USD)')\n",
    "plt.ylabel('Frecuencia')\n",
    "#plt.xscale('log')  # Usar escala logarítmica por la amplia dispersión de precios\n",
    "plt.show()"
   ]
  },
  {
   "cell_type": "code",
   "execution_count": null,
   "metadata": {
    "id": "z-0DDHrTw4hn"
   },
   "outputs": [],
   "source": [
    "plt.figure(figsize=(12, 6))\n",
    "\n",
    "# Convertir a millones y crear el histograma\n",
    "sns.histplot(df['PRICE']/100000, bins=50, kde=True, color='tomato')\n",
    "\n",
    "# Configurar el formato de los millones en el eje X\n",
    "def millones_formatter(x, pos):\n",
    "    return f'${x:.1f}M'\n",
    "\n",
    "plt.gca().xaxis.set_major_formatter(ticker.FuncFormatter(millones_formatter))\n",
    "\n",
    "# Personalización avanzada\n",
    "plt.title('Distribución de Precios de Propiedades (en millones de USD)',\n",
    "          fontsize=14, pad=20, fontweight='bold')\n",
    "plt.xlabel('Precio (Millones de USD)', fontsize=12)\n",
    "plt.ylabel('Frecuencia', fontsize=12)\n",
    "plt.grid(True, linestyle='--', alpha=0.3)\n",
    "\n",
    "# Ajustar los límites si hay valores extremos\n",
    "plt.xlim(left=0)  # Comenzar desde 0\n",
    "\n",
    "# Mostrar el gráfico\n",
    "plt.tight_layout()\n",
    "plt.show()"
   ]
  },
  {
   "cell_type": "markdown",
   "metadata": {
    "id": "T5FWQnYR3u6v"
   },
   "source": [
    "# Top 5 de propiedades más caras"
   ]
  },
  {
   "cell_type": "code",
   "execution_count": null,
   "metadata": {
    "id": "3DwggeA83OgC"
   },
   "outputs": [],
   "source": [
    "# Top 5 propiedades más caras\n",
    "top_5_expensive = df.nlargest(5, 'PRICE')[['ADDRESS', 'PRICE', 'TYPE', 'BEDS', 'BATH']]\n",
    "print(\"\\nTop 5 propiedades más caras:\")\n",
    "print(top_5_expensive)"
   ]
  },
  {
   "cell_type": "markdown",
   "metadata": {
    "id": "FEJM44Z74iAW"
   },
   "source": [
    "# Análisis por tipo de propiedad"
   ]
  },
  {
   "cell_type": "code",
   "execution_count": null,
   "metadata": {
    "id": "VzCKQ2NK4JL3"
   },
   "outputs": [],
   "source": [
    "# Análisis por tipo de propiedad\n",
    "plt.figure(figsize=(12, 6))\n",
    "sns.countplot(data=df, y='TYPE', order=df['TYPE'].value_counts().index,color='#00FFFF')\n",
    "plt.title('Distribución por Tipo de Propiedad')\n",
    "plt.xlabel('Cantidad')\n",
    "plt.ylabel('Tipo de Propiedad')\n",
    "plt.show()"
   ]
  },
  {
   "cell_type": "markdown",
   "metadata": {
    "id": "anVxSr2N4pLt"
   },
   "source": [
    "# Precio promedio por tipo de propiedad"
   ]
  },
  {
   "cell_type": "code",
   "execution_count": null,
   "metadata": {
    "id": "w1yLflvU4V29"
   },
   "outputs": [],
   "source": [
    "# Precio promedio por tipo de propiedad\n",
    "plt.figure(figsize=(12, 6))\n",
    "sns.barplot(data=df, x='TYPE', y='PRICE', estimator='mean',color=\"#66FF00\")\n",
    "plt.title('Precio Promedio por Tipo de Propiedad')\n",
    "plt.xlabel('Tipo de Propiedad')\n",
    "plt.ylabel('Precio Promedio (USD)')\n",
    "plt.xticks(rotation=45)\n",
    "plt.show()"
   ]
  },
  {
   "cell_type": "markdown",
   "metadata": {
    "id": "wRGCC1gwywPl"
   },
   "source": [
    "# Relación entre tamaño y precio"
   ]
  },
  {
   "cell_type": "code",
   "execution_count": null,
   "metadata": {
    "id": "yZ0dHFto5Ox-"
   },
   "outputs": [],
   "source": [
    "# Relación entre tamaño y precio\n",
    "plt.figure(figsize=(12, 6))\n",
    "sns.scatterplot(data=df, x='PROPERTYSQFT', y='PRICE', hue='TYPE')\n",
    "plt.title('Relación entre Tamaño y Precio')\n",
    "plt.xlabel('Tamaño (sqft)')\n",
    "plt.ylabel('Precio (USD)')\n",
    "plt.yscale('log')\n",
    "plt.show()"
   ]
  },
  {
   "cell_type": "code",
   "execution_count": null,
   "metadata": {
    "id": "oxWnY_Jp5bBk"
   },
   "outputs": [],
   "source": [
    "# Distribución de habitaciones y baños\n",
    "fig, axes = plt.subplots(1, 2, figsize=(15, 5))\n",
    "sns.countplot(data=df, x='BEDS', ax=axes[0], color=\"#BD33A4\")\n",
    "axes[0].set_title('Distribución de Habitaciones')\n",
    "sns.countplot(data=df, x='BATH', ax=axes[1], color=\"#FF0038\")\n",
    "axes[1].set_title('Distribución de Baños')\n",
    "plt.show()"
   ]
  },
  {
   "cell_type": "code",
   "execution_count": null,
   "metadata": {
    "id": "hl-1p0cVzjGu"
   },
   "outputs": [],
   "source": [
    "\n",
    "sns.set(style=\"whitegrid\")\n",
    "\n",
    "# Distribuciones de variables numéricas\n",
    "for col in numerical_columns:\n",
    "    plt.figure(figsize=(10, 6))\n",
    "    sns.histplot(df[col], kde=True, bins=30)\n",
    "    plt.title(f'Distribución de {col}', fontsize=14)\n",
    "    plt.xlabel(col)\n",
    "    plt.ylabel('Frecuencia')\n",
    "    plt.show()\n",
    "\n"
   ]
  },
  {
   "cell_type": "code",
   "execution_count": null,
   "metadata": {
    "id": "u4kI_h07_9rX"
   },
   "outputs": [],
   "source": [
    "# Relación con el precio\n",
    "for col in numerical_columns:\n",
    "    if col != 'PRICE':\n",
    "        plt.figure(figsize=(10, 6))\n",
    "        sns.scatterplot(data=df, x=col, y='PRICE')\n",
    "        plt.title(f'Relación entre {col} y Precio', fontsize=14)\n",
    "        plt.xlabel(col)\n",
    "        plt.ylabel('Precio')\n",
    "        plt.show()"
   ]
  },
  {
   "cell_type": "markdown",
   "metadata": {
    "id": "0gacrRwxAT2P"
   },
   "source": [
    "#   Análisis de Correlación\n",
    "\n",
    "\n",
    "El coeficiente de correlación (Pearson) mide la relación lineal entre dos variables\n",
    "\n",
    "+   $-1 \\leq r_{x,y}  \\leq 1$\n",
    "\n",
    "+   $r_{x,x}=1$\n",
    "\n",
    "+   $r_{x,y}=r_{y,x}$\n",
    "\n",
    "+   a-dimensional\n",
    "\n",
    "+  Se interpreta el signo:\n",
    "\n",
    "   + positivo: indica relación directa\n",
    "\n",
    "   + negativo: indica relación inversa\n",
    "\n",
    "\n",
    "+  Se interpreta la fuerza de la relación:\n",
    "\n",
    "   + Cerca del cero: debil\n",
    "\n",
    "   + Cerca a 1 o a -1 : fuerte   "
   ]
  },
  {
   "cell_type": "code",
   "execution_count": null,
   "metadata": {
    "id": "b1fnL9570A1e"
   },
   "outputs": [],
   "source": [
    "\n",
    "correlation_matrix = df[numerical_columns].corr()\n",
    "plt.figure(figsize=(10, 8))\n",
    "sns.heatmap(correlation_matrix, annot=True, cmap=\"coolwarm\", fmt=\".2f\", linewidths=0.5)\n",
    "plt.title(\"Matriz de Correlación entre Variables Numéricas\", fontsize=14)\n",
    "plt.show()\n",
    "\n"
   ]
  },
  {
   "cell_type": "markdown",
   "metadata": {
    "id": "yfevRcWqAuNB"
   },
   "source": [
    "#  Tratamiento de Valores Atípicos"
   ]
  },
  {
   "cell_type": "code",
   "execution_count": null,
   "metadata": {
    "id": "Kbr7IxjS0z9c"
   },
   "outputs": [],
   "source": [
    "\n",
    "#valores atípicos\n",
    "def remove_outliers(df, column):\n",
    "    Q1 = df[column].quantile(0.25)\n",
    "    Q3 = df[column].quantile(0.75)\n",
    "    IQR = Q3 - Q1\n",
    "    lower_bound = Q1 - 1.5 * IQR\n",
    "    upper_bound = Q3 + 1.5 * IQR\n",
    "    return df[(df[column] >= lower_bound) & (df[column] <= upper_bound)]\n",
    "\n",
    "# Inicializar df_cleaned con una copia de df antes de usarlo\n",
    "df_cleaned = df.copy()  # Crear una copia para no modificar el DataFrame original\n",
    "\n",
    "df_cleaned = remove_outliers(df_cleaned, 'PRICE')\n",
    "df_cleaned = remove_outliers(df_cleaned, 'PROPERTYSQFT')\n",
    "df_cleaned = remove_outliers(df_cleaned, 'BEDS')\n",
    "df_cleaned = remove_outliers(df_cleaned, 'BATH')\n",
    "\n",
    "\n",
    "\n",
    "\n",
    "# Visualización antes y después para PRICE\n",
    "plt.figure(figsize=(12, 6))\n",
    "plt.subplot(1, 2, 1)\n",
    "sns.boxplot(x=df['PRICE'])\n",
    "plt.title('Precio - Antes de remover atípicos')\n",
    "\n",
    "plt.subplot(1, 2, 2)\n",
    "sns.boxplot(x=df_cleaned['PRICE'])\n",
    "plt.title('Precio - Después de remover atípicos')\n",
    "plt.show()\n",
    "\n",
    "df_clean = df.drop_duplicates()\n",
    "df_clean = df_clean[(df_clean['PRICE'] < 1e8) & (df_clean['BATH'] <= 10)]"
   ]
  },
  {
   "cell_type": "code",
   "execution_count": null,
   "metadata": {
    "id": "qT-7VSPu0V88"
   },
   "outputs": [],
   "source": [
    "\n",
    "\n",
    "# Visualización antes y después para PROPERTYSQFT\n",
    "plt.figure(figsize=(12, 6))\n",
    "plt.subplot(1, 2, 1)\n",
    "sns.boxplot(x=df['PROPERTYSQFT'])\n",
    "plt.title('Tamaño de propiedad - Antes de remover atípicos')\n",
    "\n",
    "plt.subplot(1, 2, 2)\n",
    "sns.boxplot(x=df_cleaned['PROPERTYSQFT'])\n",
    "plt.title('Tamaño de propiedad - Después de remover atípicos')\n",
    "plt.show()\n",
    "\n"
   ]
  },
  {
   "cell_type": "code",
   "execution_count": null,
   "metadata": {
    "id": "6L1V93SJslQz"
   },
   "outputs": [],
   "source": [
    "# Visualización antes y después para BEDS\n",
    "plt.figure(figsize=(12, 6))\n",
    "plt.subplot(1, 2, 1)\n",
    "sns.boxplot(x=df['BEDS'], color=\"violet\")\n",
    "plt.title('Número de dormitorios- Antes de remover atípicos')\n",
    "\n",
    "plt.subplot(1, 2, 2)\n",
    "sns.boxplot(x=df_cleaned['BEDS'], color=\"orange\")\n",
    "plt.title('Número de dormitorios- Después de remover atípicos')\n",
    "plt.show()"
   ]
  },
  {
   "cell_type": "code",
   "execution_count": null,
   "metadata": {
    "id": "0_Gno3u-tnbI"
   },
   "outputs": [],
   "source": [
    "# Visualización antes y después para BEDS\n",
    "plt.figure(figsize=(12, 6))\n",
    "plt.subplot(1, 2, 1)\n",
    "sns.boxplot(x=df['BATH'], color=\"tomato\")\n",
    "plt.title('Número de baños- Antes de remover atípicos')\n",
    "\n",
    "plt.subplot(1, 2, 2)\n",
    "sns.boxplot(x=df_cleaned['BATH'], color=\"green\")\n",
    "plt.title('Número de baños- Después de remover atípicos')\n",
    "plt.show()"
   ]
  },
  {
   "cell_type": "markdown",
   "metadata": {
    "id": "bWyBYRSeA4o5"
   },
   "source": [
    "# Codificación de Variables Categóricas\n",
    "\n",
    "Colocarle números a un variable cualitativa\n",
    "\n",
    "ej Bueno, regulra y malo\n",
    "1ro crear vriables Dummy\n",
    "2do quitar una\n",
    "ej =\n",
    "{1 bueno O no\n"
   ]
  },
  {
   "cell_type": "code",
   "execution_count": null,
   "metadata": {
    "id": "sOqjyuv407K1"
   },
   "outputs": [],
   "source": [
    "\n",
    "categorical_columns = ['TYPE', 'STATE', 'SUBLOCALITY']\n",
    "df_encoded = pd.get_dummies(df_cleaned, columns=categorical_columns, drop_first=True)\n",
    "\n",
    "# Mostrar las primeras filas codificadas\n",
    "print(df_encoded.head(4))\n",
    "\n"
   ]
  },
  {
   "cell_type": "markdown",
   "metadata": {
    "id": "qgPUBFXxBWay"
   },
   "source": [
    "#  Ingeniería de Características"
   ]
  },
  {
   "cell_type": "code",
   "execution_count": null,
   "metadata": {
    "id": "VFyFvWHy1LSH"
   },
   "outputs": [],
   "source": [
    "#  7. Ingeniería de Características\n",
    "df_encoded['PRICE_PER_SQFT'] = df_encoded['PRICE'] / df_encoded['PROPERTYSQFT']\n",
    "df_encoded['BATHS_PER_BED'] = df_encoded['BATH'] / df_encoded['BEDS']\n",
    "df_encoded['BEDS_PER_SQFT'] = df_encoded['BEDS'] / df_encoded['PROPERTYSQFT']\n",
    "\n",
    "# Visualización de las nuevas variables\n",
    "print(df_encoded[['PRICE', 'PROPERTYSQFT', 'PRICE_PER_SQFT', 'BATHS_PER_BED', 'BEDS_PER_SQFT']].head())"
   ]
  },
  {
   "cell_type": "markdown",
   "metadata": {
    "id": "rbgIUf6DBeIA"
   },
   "source": [
    "# Modelos de regresión\n",
    "\n",
    "+  **Regresión:**\n",
    "\n",
    "$$y=f(x_1, x_2, \\dots ,x_p)+ \\varepsilon$$\n",
    "\n",
    "+ donde $(x_1, \\dots, x_p)$ son variables\n",
    "\n",
    "+   $y:$  variable **respuesta** (dependiente)\n",
    "\n",
    "\n",
    "+   $x_1.x_2,  \\dots, x_p:$ variables independientes\n",
    "\n",
    "Se debe escojer las variables, cuales son las x y cuales son las y\n",
    "\n",
    "ej variable $y$ precio del predio en relacion de todas las otras variables, ej $x:$ área\n",
    "\n",
    "\n",
    "###  Modelo de regresión lineal\n",
    "\n",
    "\n",
    "$$y=\\beta_0+\\beta_1x_1+  \\cdots + \\beta_px_p+ \\varepsilon$$\n",
    "\n",
    "### Modelo estimado\n",
    "\n",
    "Se debe entrenar el modelo para que de valores estimados a variables\n",
    "\n",
    "$$\\hat{y}=\\hat{\\beta}_0+\\hat{\\beta}_1x_1+  \\cdots + \\hat{\\beta}_px_p$$\n",
    "\n",
    "\n",
    "## Importación de librerías"
   ]
  },
  {
   "cell_type": "code",
   "execution_count": null,
   "metadata": {
    "id": "X9tr_gYXB83X"
   },
   "outputs": [],
   "source": [
    "# Importación de librerías\n",
    "import pandas as pd\n",
    "import numpy as np\n",
    "import matplotlib.pyplot as plt\n",
    "import seaborn as sns\n",
    "from sklearn.model_selection import train_test_split\n",
    "from sklearn.linear_model import LinearRegression, Lasso, Ridge\n",
    "from sklearn.metrics import mean_absolute_error, mean_squared_error, r2_score\n"
   ]
  },
  {
   "cell_type": "markdown",
   "metadata": {
    "id": "6FkqAtkICOCg"
   },
   "source": [
    "# Función para entrenar, evaluar, graficar modelos y cálculo de métricas\n",
    "\n",
    "\n",
    "En **Machine Learning**, entrenar un modelo de regresión con datos es fundamental porque permite que el algoritmo aprenda la relación entre las variables predictoras (características o features) y la variable objetivo (target).\n",
    "\n",
    ">  0.  Tomar el 20% para entrenar y 80 de prueba (20 - 80) y si la cantidad total de datos es pequeña se debe tomar mas muestra para entrenar ej (40 - 60). Los datos de entrenamiento se toman de roma aleatorea\n",
    "\n",
    ">  1. Aprender la Relación entre Variables\n",
    "El objetivo de un modelo de regresión (como Regresión Lineal, Regresión Polinómica, etc.) es predecir un valor continuo (como precios, temperaturas, ventas, etc.).\n",
    "Durante el entrenamiento, el algoritmo ajusta los parámetros del modelo (como coeficientes en regresión lineal) para minimizar el error entre las predicciones y los valores reales.\n",
    "\n",
    "\n",
    "\n",
    "> 2. Generalizar a Datos No Vistos\n",
    "El modelo debe ser capaz de hacer buenas predicciones en datos que no ha visto antes (datos de prueba o nuevos datos).\n",
    "Si no se entrena correctamente, el modelo puede sufrir de sobreajuste (**overfitting**) o subajuste (**underfitting**).\n",
    "\n",
    "> 3. Optimizar la Función de Pérdida (Loss Function)\n",
    "En regresión, se usa comúnmente el Error Cuadrático Medio (MSE) como función de pérdida.\n",
    "El entrenamiento busca minimizar esta función, ajustando los pesos del modelo mediante métodos como Gradiente Descendente.\n",
    "\n",
    "> 4. Evaluar el Rendimiento del Modelo\n",
    "Al entrenar con datos históricos, podemos medir métricas como:\n",
    "\n",
    "+ $R^2$ (Coeficiente de Determinación) → Qué tan bien explica el modelo la variabilidad de los datos.\n",
    "\n",
    "+ MAE (Error Absoluto Medio) → Magnitud promedio de los errores.\n",
    "\n",
    "+ RMSE (Raíz del Error Cuadrático Medio) → Error en las mismas unidades que la variable objetivo.\n",
    "\n",
    ">  5. Prevenir Sesgos y Mejorar la Precisión\n",
    "Un buen entrenamiento asegura que el modelo no esté sesgado hacia ciertos patrones irrelevantes.\n",
    "Técnicas como validación cruzada (cross-validation) ayudan a garantizar que el modelo generalice bien."
   ]
  },
  {
   "cell_type": "code",
   "execution_count": null,
   "metadata": {
    "id": "6ubeISwrAG87"
   },
   "outputs": [],
   "source": [
    "# Función para entrenar, evaluar y graficar modelos\n",
    "def train_and_evaluate_model(model, X_train, X_test, y_train, y_test, title):\n",
    "    \"\"\"\n",
    "    Entrena un modelo de regresión, evalúa su rendimiento y grafica predicciones vs. valores reales.\n",
    "\n",
    "    Parámetros:\n",
    "        model: Modelo de sklearn a entrenar.\n",
    "        X_train, X_test: características de entrenamiento y prueba.\n",
    "        y_train, y_test: Objetivo de entrenamiento y prueba.\n",
    "        title: Título para el gráfico.\n",
    "\n",
    "    Retorna:\n",
    "        Diccionario con métricas de evaluación.\n",
    "    \"\"\"\n",
    "    # Entrenamiento del modelo\n",
    "    model.fit(X_train, y_train)\n",
    "\n",
    "    # Predicciones\n",
    "    y_pred_train = model.predict(X_train)\n",
    "    y_pred_test = model.predict(X_test)\n",
    "\n",
    "    # Cálculo de métricas\n",
    "    metrics = {\n",
    "        \"MAE_Train\": mean_absolute_error(y_train, y_pred_train),\n",
    "        \"RMSE_Train\": np.sqrt(mean_squared_error(y_train, y_pred_train)),\n",
    "        \"R2_Train\": r2_score(y_train, y_pred_train),\n",
    "        \"MAE_Test\": mean_absolute_error(y_test, y_pred_test),\n",
    "        \"RMSE_Test\": np.sqrt(mean_squared_error(y_test, y_pred_test)),\n",
    "        \"R2_Test\": r2_score(y_test, y_pred_test)\n",
    "    }\n",
    "\n",
    "      # Gráfico de predicciones vs valores reales\n",
    "    plt.figure(figsize=(8, 6))\n",
    "    sns.scatterplot(x=y_test, y=y_pred_test, alpha=0.6, edgecolor='k', label='Datos')\n",
    "    plt.plot([y_test.min(), y_test.max()],\n",
    "             [y_test.min(), y_test.max()],\n",
    "             '--r',\n",
    "             linewidth=2,\n",
    "             label='Línea ideal')\n",
    "    plt.xlabel(\"Precio Real\", fontsize=12)\n",
    "    plt.ylabel(\"Precio Predicho\", fontsize=12)\n",
    "    plt.title(f\"{title} - Predicción vs Real\", fontsize=14)\n",
    "    plt.legend()\n",
    "    plt.grid(True, linestyle='--', alpha=0.5)\n",
    "    plt.show()\n",
    "\n",
    "    return metrics"
   ]
  },
  {
   "cell_type": "markdown",
   "metadata": {
    "id": "q928wIN1DzyJ"
   },
   "source": [
    "#  Preparación de los Datos"
   ]
  },
  {
   "cell_type": "code",
   "execution_count": null,
   "metadata": {
    "id": "DBo2_autEFlH"
   },
   "outputs": [],
   "source": [
    "\n",
    "\n",
    "# Variables objetivo y predictoras para la base original\n",
    "X_original = df[['BEDS', 'BATH', 'PROPERTYSQFT']]\n",
    "y_original = df['PRICE']\n",
    "\n",
    "# Variables para la base tratada (sin atípicos, codificada y con nuevas características)\n",
    "X_processed = df_encoded.drop(columns=['PRICE', 'ADDRESS', 'MAIN_ADDRESS', 'BROKERTITLE', 'ADMINISTRATIVE_AREA_LEVEL_2', 'LOCALITY', 'FORMATTED_ADDRESS', 'LONG_NAME', 'STREET_NAME'], errors='ignore')\n",
    "y_processed = df_encoded['PRICE']\n",
    "\n",
    "# División train-test\n",
    "# esta entreanado el 20% --> test_size=0.2, random_state=44 --> numero aleatorio para sacar muestra de 20% aleatorio\n",
    "X_train_orig, X_test_orig, y_train_orig, y_test_orig = train_test_split(X_original, y_original, test_size=0.2, random_state=742025)\n",
    "X_train_proc, X_test_proc, y_train_proc, y_test_proc = train_test_split(X_processed, y_processed, test_size=0.2, random_state=742025)"
   ]
  },
  {
   "cell_type": "markdown",
   "metadata": {
    "id": "ia9UTG4lEOV2"
   },
   "source": [
    "#  Modelos y Evaluación\n",
    "\n",
    "+  Regresión tradicional (Mínimos Cuadrados Ordinarios)\n",
    "\n",
    "+  Regresión Lasso (Regularización $L_1$)\n",
    "\n",
    "+  Regresión Ridge (Regularización $L_2$)\n",
    "\n",
    "-----------------------------------------------\n",
    "\n"
   ]
  },
  {
   "cell_type": "markdown",
   "metadata": {
    "id": "Fd1EubRPkCP6"
   },
   "source": [
    "###  Regresión tradicional\n",
    "\n",
    "+  Mínimos Cuadrados Ordinarios - OLS\n",
    "\n",
    "Función objetivo:\n",
    "\n",
    "$$\\min_{\\beta} \\sum_{i=1}^n (y_i-(\\beta_0+\\beta_1x_{i1}+\\beta_2 x_{i2}+  \\cdots+ \\beta_{p}x_{ip}))^2$$\n",
    "\n",
    "#### Propiedades :\n",
    "\n",
    "+  No considera multicolinealidad\n",
    "\n",
    "+  Solución analítica cerrada:\n",
    "\n",
    "$$\\hat{\\pmb{\\beta}}=(\\pmb{X}'\\pmb{X})^{-1}\\pmb{X}'\\pmb{y}$$\n",
    "\n",
    "+  Alta varianza cuando $p \\approx n$\n",
    "\n",
    "\n",
    "---------------------------------------------\n"
   ]
  },
  {
   "cell_type": "markdown",
   "metadata": {
    "id": "HLcn5o1Cl-b1"
   },
   "source": [
    "###  Regresión Lasso\n",
    "\n",
    "+  Función objetivo:\n",
    "\n",
    "$$\\min_{\\beta} \\sum_{i=1}^n (y_i-(\\beta_0+\\beta_1x_{i1}+\\beta_2 x_{i2}+  \\cdots+ \\beta_{p}x_{ip}))^2 +\\lambda(|\\beta_1|+ |\\beta_2|+  \\cdots +|\\beta_p|)$$\n",
    "\n",
    "#### Propiedades :\n",
    "\n",
    "+  Penalización absoluta ($L1$) sobre los coeficientes\n",
    "\n",
    "+  No tiene solución analítica cerrada (se resuelve por optimización convexa)\n",
    "\n",
    "+  Puede producir coeficientes exactamente cero (selección de variables)\n",
    "\n",
    "+  Comportamiento discontinuo con variables correlacionadas\n",
    "\n",
    "------------------------------"
   ]
  },
  {
   "cell_type": "markdown",
   "metadata": {
    "id": "reMW0u3incJQ"
   },
   "source": [
    "###  Regresión Ridge\n",
    "\n",
    "+  Función objetivo:\n",
    "\n",
    "$$\\min_{\\beta} \\sum_{i=1}^n (y_i-(\\beta_0+\\beta_1x_{i1}+\\beta_2 x_{i2}+  \\cdots+ \\beta_{p}x_{ip}))^2 +\\lambda(\\beta_1^2+ \\beta_2^2+  \\cdots +\\beta_p^2)$$\n",
    "\n",
    "#### Propiedades :\n",
    "\n",
    "+  Penalización cuadrática ($L2$) sobre los coeficientes\n",
    "\n",
    "+  Solución analítica cerrada:\n",
    "\n",
    "$$\\hat{\\pmb{\\beta}}^{ridge}=(\\pmb{X}'\\pmb{X}+\\lambda\\pmb{I})^{-1}\\pmb{X}'\\pmb{y}$$\n",
    "\n",
    "+ Nunca anula coeficientes exactamente\n",
    "\n",
    "$$\\beta_j \\to 0  \\hspace{5mm}  \\text{cuando}  \\hspace{5mm}  \\lambda \\to \\infty$$\n",
    "\n",
    "+ Maneja bien multicolinealidad\n",
    "\n",
    "------------------------------"
   ]
  },
  {
   "cell_type": "markdown",
   "metadata": {
    "id": "FLx-kouWo2dy"
   },
   "source": [
    "###  Propiedades Estadísticas\n",
    "\n",
    "| Modelo | Sesgo  |Varianza|\n",
    "|:-----:|:-----:|:-------:|\n",
    "|  OLS\t | Bajo\t  | Alta   |\n",
    "| Ridge\t | Medio\t| Media-Baja|\n",
    "| Lasso  |\tMedio-Alto\t|Media|\n"
   ]
  },
  {
   "cell_type": "markdown",
   "metadata": {
    "id": "dY_7b7cRj7mC"
   },
   "source": [
    "###  Ventajas y desventajas\n",
    "\n",
    "|Criterio\t|Regresión Tradicional\t| Lasso (L1)\t| Ridge (L2)|\n",
    "|:-------:|:---------------------:|:----------:|:---------:|\n",
    "Manejo de Multicolinealidad|\t❌ Pobre\t|✅ Bueno (selecciona 1 variable)\t|✅ Excelente (distribuye pesos)\n",
    "Selección de Variables |\t❌ No aplica\t|✅ Sí (coeficientes = 0)\t|❌ No\n",
    "Estabilidad |\t❌ Inestable con muchas variables\t|✅ Estable |\t✅ Muy estable\n",
    "Interpretabilidad\t|✅ Fácil\t|✅ Modelos más simples\t|❌ Menos interpretable\n",
    "Rendimiento Predictivo |\t❌ Sensible a overfitting|\t✅ Bueno con datos procesados\t|✅ Mejor en general"
   ]
  },
  {
   "cell_type": "markdown",
   "metadata": {
    "id": "8cJ_6fyNITiS"
   },
   "source": [
    "# Modelos\n",
    "\n"
   ]
  },
  {
   "cell_type": "markdown",
   "metadata": {
    "id": "Upn98VouIarr"
   },
   "source": [
    "#  Métricas de comparación de modelos\n",
    "\n",
    "+  $R^2=\\dfrac{SCM}{SCT}*100\\%$: coeficiente de determinación\n",
    "\n",
    "$$0 \\leq R^2 \\leq 100\\%$$\n",
    "\n",
    "se busca el modelos con mayor coeficiente de determinación\n",
    "\n",
    "\n",
    "+  $MAD=\\sum_{i=1}^n \\dfrac{|e_i|}{n}$\n",
    "\n",
    "+  $MSE=\\sum_{i=1}^n \\dfrac{e_i^2}{n}$\n",
    "\n",
    "\n",
    "+  $RMSE=\\sqrt{\\sum_{i=1}^n \\dfrac{e_i^2}{n}}$\n",
    "\n",
    "En las medidas basadas en $e_i$  se busca el modelos con menor valor\n",
    "\n",
    "+  $AIC=malo-bueno=2\\log(p)-2log(L)$\n",
    "\n"
   ]
  },
  {
   "cell_type": "code",
   "execution_count": null,
   "metadata": {
    "id": "6MAD6lhsEOBq"
   },
   "outputs": [],
   "source": [
    "models = {\n",
    "    \"Regresión Lineal Múltiple\": LinearRegression(),\n",
    "    \"Lasso (alpha=0.1)\": Lasso(alpha=0.1),\n",
    "    \"Ridge (alpha=1.0)\": Ridge(alpha=1.0)\n",
    "}\n",
    "\n",
    "results = []"
   ]
  },
  {
   "cell_type": "code",
   "execution_count": null,
   "metadata": {
    "id": "I_Ia9Pg1FjQj"
   },
   "outputs": [],
   "source": [
    "import statsmodels.api as sm\n",
    "from sklearn.base import clone\n",
    "\n",
    "\n",
    "# Función modificada para incluir summary completo\n",
    "def train_and_evaluate_model(model, X_train, X_test, y_train, y_test, title):\n",
    "    # Entrenar modelo scikit-learn para métricas\n",
    "    sklearn_model = clone(model)\n",
    "    sklearn_model.fit(X_train, y_train)\n",
    "    y_pred_train = sklearn_model.predict(X_train)\n",
    "    y_pred_test = sklearn_model.predict(X_test)\n",
    "\n",
    "    # Métricas de evaluación\n",
    "    metrics = {\n",
    "        \"MAE_Train\": mean_absolute_error(y_train, y_pred_train),\n",
    "        \"RMSE_Train\": np.sqrt(mean_squared_error(y_train, y_pred_train)),\n",
    "        \"R2_Train\": r2_score(y_train, y_pred_train),\n",
    "        \"MAE_Test\": mean_absolute_error(y_test, y_pred_test),\n",
    "        \"RMSE_Test\": np.sqrt(mean_squared_error(y_test, y_pred_test)),\n",
    "        \"R2_Test\": r2_score(y_test, y_pred_test),\n",
    "    }\n",
    "\n",
    "    # Generar summary con statsmodels (solo para modelos compatibles)\n",
    "    if isinstance(model, LinearRegression):\n",
    "        X_train_sm = sm.add_constant(X_train)\n",
    "        modelo_sm = sm.OLS(y_train, X_train_sm).fit()\n",
    "        print(f\"\\n{'='*50}\\nSummary completo para {title}\\n{'='*50}\")\n",
    "        print(modelo_sm.summary())\n",
    "    elif isinstance(model, (Lasso, Ridge)):\n",
    "        print(f\"\\n{'='*50}\\nResumen para {title} (Lasso/Ridge)\\n{'='*50}\")\n",
    "        print(\"Nota: statsmodels no soporta summary directo para Lasso/Ridge\")\n",
    "        # Access coefficients from the fitted model (sklearn_model)\n",
    "        coef_df = pd.DataFrame({\n",
    "            'Variable': X_train.columns,\n",
    "            'Coeficiente': sklearn_model.coef_,  # Changed to sklearn_model\n",
    "            'Importancia': np.abs(sklearn_model.coef_)  # Changed to sklearn_model\n",
    "        }).sort_values('Importancia', ascending=False)\n",
    "        print(coef_df)\n",
    "        print(f\"\\nIntercepto: {sklearn_model.intercept_:.2f}\") # Changed to sklearn_model\n",
    "\n",
    "    return metrics\n",
    "\n",
    "for name, model in models.items():\n",
    "    metrics = train_and_evaluate_model(model, X_train_orig, X_test_orig, y_train_orig, y_test_orig, f\"{name} - Datos Originales\")\n",
    "    results.append({\"Modelo\": name + \" - Original\", **metrics})\n"
   ]
  },
  {
   "cell_type": "markdown",
   "metadata": {
    "id": "lswYllKzC9KU"
   },
   "source": [
    "# Entrenamiento y evaluación con la base original"
   ]
  },
  {
   "cell_type": "code",
   "execution_count": null,
   "metadata": {
    "id": "t45aosaTEXVT"
   },
   "outputs": [],
   "source": [
    "for name, model in models.items():\n",
    "    metrics = train_and_evaluate_model(model, X_train_orig, X_test_orig, y_train_orig, y_test_orig, f\"{name} - Datos Originales\")\n",
    "    results.append({\"Modelo\": name + \" - Original\", **metrics})"
   ]
  },
  {
   "cell_type": "markdown",
   "metadata": {
    "id": "bEzbxmrnC2a0"
   },
   "source": [
    "# Entrenamiento y evaluación con la base tratada"
   ]
  },
  {
   "cell_type": "code",
   "execution_count": null,
   "metadata": {
    "id": "N2u2wOQ-C_is"
   },
   "outputs": [],
   "source": [
    "# Convertir columnas  con 'object'\n",
    "for col in X_train_proc.select_dtypes(include=['object']).columns:\n",
    "    X_train_proc[col] = pd.to_numeric(X_train_proc[col], errors='coerce')\n",
    "    X_test_proc[col] = pd.to_numeric(X_test_proc[col], errors='coerce')\n",
    "\n",
    "# Complete los valores NaN (si los hay) con una estrategia adecuada, por ejemplo, media o mediana\n",
    "X_train_proc = X_train_proc.fillna(X_train_proc.mean())\n",
    "X_test_proc = X_test_proc.fillna(X_test_proc.mean())\n",
    "\n",
    "# Aseguramos de que todas las columnas sean numéricas convirtiéndolas explícitamente a valores de punto flotante.\n",
    "# Esto garantiza que, incluso si algunos valores no son numéricos (por ejemplo, cadenas), se gestionen correctamente (se convertirán a NaN y luego se rellenarán con 0).\n",
    "for col in X_train_proc.columns:\n",
    "    X_train_proc[col] = X_train_proc[col].astype(float)\n",
    "    X_test_proc[col] = X_test_proc[col].astype(float)\n",
    "\n",
    "for name, model in models.items():\n",
    "    metrics = train_and_evaluate_model(model, X_train_proc, X_test_proc, y_train_proc, y_test_proc, f\"{name} - Datos Procesados\")\n",
    "    results.append({\"Modelo\": name + \" - Procesado\", **metrics})"
   ]
  },
  {
   "cell_type": "markdown",
   "metadata": {
    "id": "CxlY9LL6Eagf"
   },
   "source": [
    "#  Métricas de comparación"
   ]
  },
  {
   "cell_type": "code",
   "execution_count": null,
   "metadata": {
    "id": "5CZUVfuP2kpx"
   },
   "outputs": [],
   "source": [
    "results_df = pd.DataFrame(results)\n",
    "print(round(results_df,2))"
   ]
  },
  {
   "cell_type": "markdown",
   "metadata": {
    "id": "USvEJO38Pz8t"
   },
   "source": [
    "+  Comparación en entrenamiento\n",
    "\n",
    "\n",
    "|Modelo | R2  |  MAD  | RMSE |\n",
    "|:------:|:----:|:----:|:----:|\n",
    "| Tradicional|  23\\% |1523920.80 | 4569869.64 |\n",
    "| Lasso    |  23\\% |1523920.78 | 4569869.64 |\n",
    "| Ridge    |  23\\% |1523889.76 | 4569869.64 |\n",
    "\n",
    "\n",
    "+  Comparación en entrenamiento (datos procesados)\n",
    "\n",
    "\n",
    "|Modelo | R2  |  MAD  | RMSE |\n",
    "|:------:|:----:|:----:|:----:|\n",
    "| Tradicional|  90\\% |118718.86 | 172334.53|\n",
    "| Lasso    |  90\\% |118718.47 | 172335.96  |\n",
    "| Ridge    |  89\\% |124039.01 |   178457.91 |\n",
    "\n",
    "\n",
    "+  Comparación en prueba\n",
    "\n",
    "\n",
    "|Modelo | R2  |  MAD  | RMSE |\n",
    "|:------:|:----:|:----:|:----:|\n",
    "| Tradicional|  1\\% |3636602.94 |  69045474.86 |\n",
    "| Lasso    |  1\\% |3636602.92 |  69045474.86 |\n",
    "| Ridge    |  1\\% |3636569.94 | 69045474.92 |\n",
    "\n",
    "\n",
    "+  Comparación en prueba (datos procesados)\n",
    "\n",
    "\n",
    "|Modelo | R2  |  MAD  | RMSE |\n",
    "|:------:|:----:|:----:|:----:|\n",
    "| Tradicional|  87\\% |137135.57 |   191074.38 |\n",
    "| Lasso    |  87\\% |118718.47 | 172335.96  |\n",
    "| Ridge    |  86\\% |124039.01 |   178457.91 |"
   ]
  },
  {
   "cell_type": "markdown",
   "metadata": {
    "id": "v90GYsBrEtLg"
   },
   "source": [
    "# Exportar a HTML"
   ]
  },
  {
   "cell_type": "code",
   "execution_count": null,
   "metadata": {
    "id": "Syj_qtSoBaHy"
   },
   "outputs": [],
   "source": [
    "from google.colab import files\n",
    "import os\n",
    "\n",
    "# Ruta CORRECTA del notebook en Google Drive (asegúrate de que coincida con tu estructura)\n",
    "notebook_path = '/content/drive/MyDrive/Colab Notebooks/Copia de Ejemplo_Viviendas.ipynb'\n",
    "\n",
    "# Verifica si el archivo existe antes de convertirlo\n",
    "if not os.path.exists(notebook_path):\n",
    "    raise FileNotFoundError(f\"El archivo no existe en la ruta: {notebook_path}\")\n",
    "\n",
    "# 1. Convertir el notebook a HTML\n",
    "!jupyter nbconvert --to html '{notebook_path}'\n",
    "\n",
    "# 2. Obtener la ruta del archivo HTML generado (auto-detecta el nombre)\n",
    "html_filename = os.path.splitext(os.path.basename(notebook_path))[0] + '.html'\n",
    "html_path = f'/content/MyDrive/Colab Notebooks/{html_filename}'\n",
    "\n",
    "# 3. Descargar el archivo (con verificación)\n",
    "if os.path.exists(html_path):\n",
    "    files.download(html_path)\n",
    "    print(f\"✅ Archivo descargado: {html_filename}\")\n",
    "else:\n",
    "    print(f\"❌ Error: No se pudo generar {html_filename}\")"
   ]
  },
  {
   "cell_type": "markdown",
   "metadata": {
    "id": "WmepWSppCFz7"
   },
   "source": [
    "**Gracias:**\n",
    "dbermudezr1@ucentral.edu.co"
   ]
  }
 ],
 "metadata": {
  "colab": {
   "provenance": [
    {
     "file_id": "1p5tIM0eIAFbqXmJyEqpJ1h-WfoqencPI",
     "timestamp": 1744081960957
    },
    {
     "file_id": "1tPPw95M0eCwZKUjWIX4prD3ZhVfoiX3g",
     "timestamp": 1743800503091
    },
    {
     "file_id": "1QdEsU3ap-9M00Z-R6WHQAAkL9FbZnZpr",
     "timestamp": 1743471703744
    }
   ],
   "toc_visible": true
  },
  "kernelspec": {
   "display_name": "Python 3",
   "name": "python3"
  },
  "language_info": {
   "codemirror_mode": {
    "name": "ipython",
    "version": 3
   },
   "file_extension": ".py",
   "mimetype": "text/x-python",
   "name": "python",
   "nbconvert_exporter": "python",
   "pygments_lexer": "ipython3",
   "version": "3.12.9"
  }
 },
 "nbformat": 4,
 "nbformat_minor": 0
}
